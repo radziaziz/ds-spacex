{
  "metadata": {
    "kernelspec": {
      "name": "python",
      "display_name": "Python (Pyodide)",
      "language": "python"
    },
    "language_info": {
      "codemirror_mode": {
        "name": "python",
        "version": 3
      },
      "file_extension": ".py",
      "mimetype": "text/x-python",
      "name": "python",
      "nbconvert_exporter": "python",
      "pygments_lexer": "ipython3",
      "version": "3.8"
    },
    "prev_pub_hash": "0f9db842b41c859223722809f8be602f5df9334348bd206b11e3af58c30eb345",
    "colab": {
      "provenance": []
    }
  },
  "nbformat_minor": 0,
  "nbformat": 4,
  "cells": [
    {
      "cell_type": "markdown",
      "source": [
        "<p style=\"text-align:center\">\n",
        "    <a href=\"https://skills.network/?utm_medium=Exinfluencer&utm_source=Exinfluencer&utm_content=000026UJ&utm_term=10006555&utm_id=NA-SkillsNetwork-Channel-SkillsNetworkCoursesIBMDS0321ENSkillsNetwork26802033-2022-01-01\" target=\"_blank\">\n",
        "    <img src=\"https://cf-courses-data.s3.us.cloud-object-storage.appdomain.cloud/assets/logos/SN_web_lightmode.png\" width=\"200\" alt=\"Skills Network Logo\">\n",
        "    </a>\n",
        "</p>\n"
      ],
      "metadata": {
        "id": "0cnwOpWPoPhm"
      }
    },
    {
      "cell_type": "markdown",
      "source": [
        "# **Hands-on Lab: Interactive Visual Analytics with Folium**\n"
      ],
      "metadata": {
        "id": "yzb24C8GoPho"
      }
    },
    {
      "cell_type": "markdown",
      "source": [
        "Estimated time needed: **40** minutes\n"
      ],
      "metadata": {
        "id": "upYzNv-hoPho"
      }
    },
    {
      "cell_type": "markdown",
      "source": [
        "The launch success rate may depend on many factors such as payload mass, orbit type, and so on. It may also depend on the location and proximities of a launch site, i.e., the initial position of rocket trajectories. Finding an optimal location for building a launch site certainly involves many factors and hopefully we could discover some of the factors by analyzing the existing launch site locations.\n"
      ],
      "metadata": {
        "id": "QpB6tEMjoPhp"
      }
    },
    {
      "cell_type": "markdown",
      "source": [
        "In the previous exploratory data analysis labs, you have visualized the SpaceX launch dataset using `matplotlib` and `seaborn` and discovered some preliminary correlations between the launch site and success rates. In this lab, you will be performing more interactive visual analytics using `Folium`.\n"
      ],
      "metadata": {
        "id": "umUf6JvOoPhp"
      }
    },
    {
      "cell_type": "markdown",
      "source": [
        "## Objectives\n"
      ],
      "metadata": {
        "id": "slJwlXmloPhp"
      }
    },
    {
      "cell_type": "markdown",
      "source": [
        "This lab contains the following tasks:\n",
        "\n",
        "*   **TASK 1:** Mark all launch sites on a map\n",
        "*   **TASK 2:** Mark the success/failed launches for each site on the map\n",
        "*   **TASK 3:** Calculate the distances between a launch site to its proximities\n",
        "\n",
        "After completed the above tasks, you should be able to find some geographical patterns about launch sites.\n"
      ],
      "metadata": {
        "id": "zZuzdMreoPhp"
      }
    },
    {
      "cell_type": "markdown",
      "source": [
        "Let's first import required Python packages for this lab:\n"
      ],
      "metadata": {
        "id": "auMIh1WJoPhp"
      }
    },
    {
      "cell_type": "code",
      "source": [
        "import piplite\n",
        "await piplite.install(['folium'])\n",
        "await piplite.install(['pandas'])"
      ],
      "metadata": {
        "trusted": true,
        "id": "oJcHHMnUoPhq",
        "outputId": "faaff1aa-e208-44e3-a7fd-6e44485f3f23",
        "colab": {
          "base_uri": "https://localhost:8080/",
          "height": 349
        }
      },
      "outputs": [
        {
          "output_type": "error",
          "ename": "ModuleNotFoundError",
          "evalue": "No module named 'piplite'",
          "traceback": [
            "\u001b[0;31m---------------------------------------------------------------------------\u001b[0m",
            "\u001b[0;31mModuleNotFoundError\u001b[0m                       Traceback (most recent call last)",
            "\u001b[0;32m<ipython-input-1-3d20ed67e6a3>\u001b[0m in \u001b[0;36m<cell line: 0>\u001b[0;34m()\u001b[0m\n\u001b[0;32m----> 1\u001b[0;31m \u001b[0;32mimport\u001b[0m \u001b[0mpiplite\u001b[0m\u001b[0;34m\u001b[0m\u001b[0;34m\u001b[0m\u001b[0m\n\u001b[0m\u001b[1;32m      2\u001b[0m \u001b[0;32mawait\u001b[0m \u001b[0mpiplite\u001b[0m\u001b[0;34m.\u001b[0m\u001b[0minstall\u001b[0m\u001b[0;34m(\u001b[0m\u001b[0;34m[\u001b[0m\u001b[0;34m'folium'\u001b[0m\u001b[0;34m]\u001b[0m\u001b[0;34m)\u001b[0m\u001b[0;34m\u001b[0m\u001b[0;34m\u001b[0m\u001b[0m\n\u001b[1;32m      3\u001b[0m \u001b[0;32mawait\u001b[0m \u001b[0mpiplite\u001b[0m\u001b[0;34m.\u001b[0m\u001b[0minstall\u001b[0m\u001b[0;34m(\u001b[0m\u001b[0;34m[\u001b[0m\u001b[0;34m'pandas'\u001b[0m\u001b[0;34m]\u001b[0m\u001b[0;34m)\u001b[0m\u001b[0;34m\u001b[0m\u001b[0;34m\u001b[0m\u001b[0m\n",
            "\u001b[0;31mModuleNotFoundError\u001b[0m: No module named 'piplite'",
            "",
            "\u001b[0;31m---------------------------------------------------------------------------\u001b[0;32m\nNOTE: If your import is failing due to a missing package, you can\nmanually install dependencies using either !pip or !apt.\n\nTo view examples of installing some common dependencies, click the\n\"Open Examples\" button below.\n\u001b[0;31m---------------------------------------------------------------------------\u001b[0m\n"
          ],
          "errorDetails": {
            "actions": [
              {
                "action": "open_url",
                "actionText": "Open Examples",
                "url": "/notebooks/snippets/importing_libraries.ipynb"
              }
            ]
          }
        }
      ],
      "execution_count": 1
    },
    {
      "cell_type": "code",
      "source": [
        "import folium\n",
        "import pandas as pd"
      ],
      "metadata": {
        "trusted": true,
        "id": "Ma4WorfzoPhq"
      },
      "outputs": [],
      "execution_count": 2
    },
    {
      "cell_type": "code",
      "source": [
        "# Import folium MarkerCluster plugin\n",
        "from folium.plugins import MarkerCluster\n",
        "# Import folium MousePosition plugin\n",
        "from folium.plugins import MousePosition\n",
        "# Import folium DivIcon plugin\n",
        "from folium.features import DivIcon"
      ],
      "metadata": {
        "trusted": true,
        "id": "cNnokePjoPhr"
      },
      "outputs": [],
      "execution_count": 3
    },
    {
      "cell_type": "markdown",
      "source": [
        "If you need to refresh your memory about folium, you may download and refer to this previous folium lab:\n"
      ],
      "metadata": {
        "id": "fpJUNeSkoPhr"
      }
    },
    {
      "cell_type": "markdown",
      "source": [
        "[Generating Maps with Python](https://cf-courses-data.s3.us.cloud-object-storage.appdomain.cloud/IBMDeveloperSkillsNetwork-DV0101EN-SkillsNetwork/labs/v4/DV0101EN-Exercise-Generating-Maps-in-Python.ipynb)\n"
      ],
      "metadata": {
        "id": "KgJBGyHEoPhr"
      }
    },
    {
      "cell_type": "markdown",
      "source": [
        "## Task 1: Mark all launch sites on a map\n"
      ],
      "metadata": {
        "id": "T2Hq_nT2oPhr"
      }
    },
    {
      "cell_type": "markdown",
      "source": [
        "First, let's try to add each site's location on a map using site's latitude and longitude coordinates\n"
      ],
      "metadata": {
        "id": "KFRmsYiWoPhs"
      }
    },
    {
      "cell_type": "markdown",
      "source": [
        "The following dataset with the name `spacex_launch_geo.csv` is an augmented dataset with latitude and longitude added for each site.\n"
      ],
      "metadata": {
        "id": "IDup9chLoPhs"
      }
    },
    {
      "cell_type": "code",
      "source": [
        "# For Google Colab\n",
        "#URL = 'https://cf-courses-data.s3.us.cloud-object-storage.appdomain.cloud/IBM-DS0321EN-SkillsNetwork/datasets/spacex_launch_geo.csv'\n",
        "#spacex_df = pd.read_csv(URL)"
      ],
      "metadata": {
        "id": "0UVtXCluqpLS"
      },
      "execution_count": 5,
      "outputs": []
    },
    {
      "cell_type": "code",
      "source": [
        "# Download and read the `spacex_launch_geo.csv`\n",
        "from js import fetch\n",
        "import io\n",
        "\n",
        "URL = 'https://cf-courses-data.s3.us.cloud-object-storage.appdomain.cloud/IBM-DS0321EN-SkillsNetwork/datasets/spacex_launch_geo.csv'\n",
        "resp = await fetch(URL)\n",
        "spacex_csv_file = io.BytesIO((await resp.arrayBuffer()).to_py())\n",
        "spacex_df=pd.read_csv(spacex_csv_file)"
      ],
      "metadata": {
        "trusted": true,
        "collapsed": true,
        "id": "CsFUbZsfoPhs",
        "outputId": "e00f0deb-241b-48f1-ca37-fee74a569d75",
        "colab": {
          "base_uri": "https://localhost:8080/",
          "height": 401
        }
      },
      "outputs": [
        {
          "output_type": "error",
          "ename": "ModuleNotFoundError",
          "evalue": "No module named 'js'",
          "traceback": [
            "\u001b[0;31m---------------------------------------------------------------------------\u001b[0m",
            "\u001b[0;31mModuleNotFoundError\u001b[0m                       Traceback (most recent call last)",
            "\u001b[0;32m<ipython-input-4-3fc104e9981c>\u001b[0m in \u001b[0;36m<cell line: 0>\u001b[0;34m()\u001b[0m\n\u001b[1;32m      1\u001b[0m \u001b[0;31m# Download and read the `spacex_launch_geo.csv`\u001b[0m\u001b[0;34m\u001b[0m\u001b[0;34m\u001b[0m\u001b[0m\n\u001b[0;32m----> 2\u001b[0;31m \u001b[0;32mfrom\u001b[0m \u001b[0mjs\u001b[0m \u001b[0;32mimport\u001b[0m \u001b[0mfetch\u001b[0m\u001b[0;34m\u001b[0m\u001b[0;34m\u001b[0m\u001b[0m\n\u001b[0m\u001b[1;32m      3\u001b[0m \u001b[0;32mimport\u001b[0m \u001b[0mio\u001b[0m\u001b[0;34m\u001b[0m\u001b[0;34m\u001b[0m\u001b[0m\n\u001b[1;32m      4\u001b[0m \u001b[0;34m\u001b[0m\u001b[0m\n\u001b[1;32m      5\u001b[0m \u001b[0mURL\u001b[0m \u001b[0;34m=\u001b[0m \u001b[0;34m'https://cf-courses-data.s3.us.cloud-object-storage.appdomain.cloud/IBM-DS0321EN-SkillsNetwork/datasets/spacex_launch_geo.csv'\u001b[0m\u001b[0;34m\u001b[0m\u001b[0;34m\u001b[0m\u001b[0m\n",
            "\u001b[0;31mModuleNotFoundError\u001b[0m: No module named 'js'",
            "",
            "\u001b[0;31m---------------------------------------------------------------------------\u001b[0;32m\nNOTE: If your import is failing due to a missing package, you can\nmanually install dependencies using either !pip or !apt.\n\nTo view examples of installing some common dependencies, click the\n\"Open Examples\" button below.\n\u001b[0;31m---------------------------------------------------------------------------\u001b[0m\n"
          ],
          "errorDetails": {
            "actions": [
              {
                "action": "open_url",
                "actionText": "Open Examples",
                "url": "/notebooks/snippets/importing_libraries.ipynb"
              }
            ]
          }
        }
      ],
      "execution_count": 4
    },
    {
      "cell_type": "markdown",
      "source": [
        "Now, you can take a look at what are the coordinates for each site.\n"
      ],
      "metadata": {
        "id": "nmS5wcwzoPhs"
      }
    },
    {
      "cell_type": "code",
      "source": [
        "# Select relevant sub-columns: `Launch Site`, `Lat(Latitude)`, `Long(Longitude)`, `class`\n",
        "spacex_df = spacex_df[['Launch Site', 'Lat', 'Long', 'class']]\n",
        "launch_sites_df = spacex_df.groupby(['Launch Site'], as_index=False).first()\n",
        "launch_sites_df = launch_sites_df[['Launch Site', 'Lat', 'Long']]\n",
        "launch_sites_df"
      ],
      "metadata": {
        "trusted": true,
        "id": "tdrJv82ooPhs",
        "outputId": "afc0eaf7-0522-42cb-9988-191c9705275e",
        "colab": {
          "base_uri": "https://localhost:8080/",
          "height": 174
        }
      },
      "outputs": [
        {
          "output_type": "execute_result",
          "data": {
            "text/plain": [
              "    Launch Site        Lat        Long\n",
              "0   CCAFS LC-40  28.562302  -80.577356\n",
              "1  CCAFS SLC-40  28.563197  -80.576820\n",
              "2    KSC LC-39A  28.573255  -80.646895\n",
              "3   VAFB SLC-4E  34.632834 -120.610745"
            ],
            "text/html": [
              "\n",
              "  <div id=\"df-1094280f-8d2a-4fc6-866b-6fb8cfa6b7a3\" class=\"colab-df-container\">\n",
              "    <div>\n",
              "<style scoped>\n",
              "    .dataframe tbody tr th:only-of-type {\n",
              "        vertical-align: middle;\n",
              "    }\n",
              "\n",
              "    .dataframe tbody tr th {\n",
              "        vertical-align: top;\n",
              "    }\n",
              "\n",
              "    .dataframe thead th {\n",
              "        text-align: right;\n",
              "    }\n",
              "</style>\n",
              "<table border=\"1\" class=\"dataframe\">\n",
              "  <thead>\n",
              "    <tr style=\"text-align: right;\">\n",
              "      <th></th>\n",
              "      <th>Launch Site</th>\n",
              "      <th>Lat</th>\n",
              "      <th>Long</th>\n",
              "    </tr>\n",
              "  </thead>\n",
              "  <tbody>\n",
              "    <tr>\n",
              "      <th>0</th>\n",
              "      <td>CCAFS LC-40</td>\n",
              "      <td>28.562302</td>\n",
              "      <td>-80.577356</td>\n",
              "    </tr>\n",
              "    <tr>\n",
              "      <th>1</th>\n",
              "      <td>CCAFS SLC-40</td>\n",
              "      <td>28.563197</td>\n",
              "      <td>-80.576820</td>\n",
              "    </tr>\n",
              "    <tr>\n",
              "      <th>2</th>\n",
              "      <td>KSC LC-39A</td>\n",
              "      <td>28.573255</td>\n",
              "      <td>-80.646895</td>\n",
              "    </tr>\n",
              "    <tr>\n",
              "      <th>3</th>\n",
              "      <td>VAFB SLC-4E</td>\n",
              "      <td>34.632834</td>\n",
              "      <td>-120.610745</td>\n",
              "    </tr>\n",
              "  </tbody>\n",
              "</table>\n",
              "</div>\n",
              "    <div class=\"colab-df-buttons\">\n",
              "\n",
              "  <div class=\"colab-df-container\">\n",
              "    <button class=\"colab-df-convert\" onclick=\"convertToInteractive('df-1094280f-8d2a-4fc6-866b-6fb8cfa6b7a3')\"\n",
              "            title=\"Convert this dataframe to an interactive table.\"\n",
              "            style=\"display:none;\">\n",
              "\n",
              "  <svg xmlns=\"http://www.w3.org/2000/svg\" height=\"24px\" viewBox=\"0 -960 960 960\">\n",
              "    <path d=\"M120-120v-720h720v720H120Zm60-500h600v-160H180v160Zm220 220h160v-160H400v160Zm0 220h160v-160H400v160ZM180-400h160v-160H180v160Zm440 0h160v-160H620v160ZM180-180h160v-160H180v160Zm440 0h160v-160H620v160Z\"/>\n",
              "  </svg>\n",
              "    </button>\n",
              "\n",
              "  <style>\n",
              "    .colab-df-container {\n",
              "      display:flex;\n",
              "      gap: 12px;\n",
              "    }\n",
              "\n",
              "    .colab-df-convert {\n",
              "      background-color: #E8F0FE;\n",
              "      border: none;\n",
              "      border-radius: 50%;\n",
              "      cursor: pointer;\n",
              "      display: none;\n",
              "      fill: #1967D2;\n",
              "      height: 32px;\n",
              "      padding: 0 0 0 0;\n",
              "      width: 32px;\n",
              "    }\n",
              "\n",
              "    .colab-df-convert:hover {\n",
              "      background-color: #E2EBFA;\n",
              "      box-shadow: 0px 1px 2px rgba(60, 64, 67, 0.3), 0px 1px 3px 1px rgba(60, 64, 67, 0.15);\n",
              "      fill: #174EA6;\n",
              "    }\n",
              "\n",
              "    .colab-df-buttons div {\n",
              "      margin-bottom: 4px;\n",
              "    }\n",
              "\n",
              "    [theme=dark] .colab-df-convert {\n",
              "      background-color: #3B4455;\n",
              "      fill: #D2E3FC;\n",
              "    }\n",
              "\n",
              "    [theme=dark] .colab-df-convert:hover {\n",
              "      background-color: #434B5C;\n",
              "      box-shadow: 0px 1px 3px 1px rgba(0, 0, 0, 0.15);\n",
              "      filter: drop-shadow(0px 1px 2px rgba(0, 0, 0, 0.3));\n",
              "      fill: #FFFFFF;\n",
              "    }\n",
              "  </style>\n",
              "\n",
              "    <script>\n",
              "      const buttonEl =\n",
              "        document.querySelector('#df-1094280f-8d2a-4fc6-866b-6fb8cfa6b7a3 button.colab-df-convert');\n",
              "      buttonEl.style.display =\n",
              "        google.colab.kernel.accessAllowed ? 'block' : 'none';\n",
              "\n",
              "      async function convertToInteractive(key) {\n",
              "        const element = document.querySelector('#df-1094280f-8d2a-4fc6-866b-6fb8cfa6b7a3');\n",
              "        const dataTable =\n",
              "          await google.colab.kernel.invokeFunction('convertToInteractive',\n",
              "                                                    [key], {});\n",
              "        if (!dataTable) return;\n",
              "\n",
              "        const docLinkHtml = 'Like what you see? Visit the ' +\n",
              "          '<a target=\"_blank\" href=https://colab.research.google.com/notebooks/data_table.ipynb>data table notebook</a>'\n",
              "          + ' to learn more about interactive tables.';\n",
              "        element.innerHTML = '';\n",
              "        dataTable['output_type'] = 'display_data';\n",
              "        await google.colab.output.renderOutput(dataTable, element);\n",
              "        const docLink = document.createElement('div');\n",
              "        docLink.innerHTML = docLinkHtml;\n",
              "        element.appendChild(docLink);\n",
              "      }\n",
              "    </script>\n",
              "  </div>\n",
              "\n",
              "\n",
              "<div id=\"df-d3fc7fd9-b015-4034-a797-a3b5bae78650\">\n",
              "  <button class=\"colab-df-quickchart\" onclick=\"quickchart('df-d3fc7fd9-b015-4034-a797-a3b5bae78650')\"\n",
              "            title=\"Suggest charts\"\n",
              "            style=\"display:none;\">\n",
              "\n",
              "<svg xmlns=\"http://www.w3.org/2000/svg\" height=\"24px\"viewBox=\"0 0 24 24\"\n",
              "     width=\"24px\">\n",
              "    <g>\n",
              "        <path d=\"M19 3H5c-1.1 0-2 .9-2 2v14c0 1.1.9 2 2 2h14c1.1 0 2-.9 2-2V5c0-1.1-.9-2-2-2zM9 17H7v-7h2v7zm4 0h-2V7h2v10zm4 0h-2v-4h2v4z\"/>\n",
              "    </g>\n",
              "</svg>\n",
              "  </button>\n",
              "\n",
              "<style>\n",
              "  .colab-df-quickchart {\n",
              "      --bg-color: #E8F0FE;\n",
              "      --fill-color: #1967D2;\n",
              "      --hover-bg-color: #E2EBFA;\n",
              "      --hover-fill-color: #174EA6;\n",
              "      --disabled-fill-color: #AAA;\n",
              "      --disabled-bg-color: #DDD;\n",
              "  }\n",
              "\n",
              "  [theme=dark] .colab-df-quickchart {\n",
              "      --bg-color: #3B4455;\n",
              "      --fill-color: #D2E3FC;\n",
              "      --hover-bg-color: #434B5C;\n",
              "      --hover-fill-color: #FFFFFF;\n",
              "      --disabled-bg-color: #3B4455;\n",
              "      --disabled-fill-color: #666;\n",
              "  }\n",
              "\n",
              "  .colab-df-quickchart {\n",
              "    background-color: var(--bg-color);\n",
              "    border: none;\n",
              "    border-radius: 50%;\n",
              "    cursor: pointer;\n",
              "    display: none;\n",
              "    fill: var(--fill-color);\n",
              "    height: 32px;\n",
              "    padding: 0;\n",
              "    width: 32px;\n",
              "  }\n",
              "\n",
              "  .colab-df-quickchart:hover {\n",
              "    background-color: var(--hover-bg-color);\n",
              "    box-shadow: 0 1px 2px rgba(60, 64, 67, 0.3), 0 1px 3px 1px rgba(60, 64, 67, 0.15);\n",
              "    fill: var(--button-hover-fill-color);\n",
              "  }\n",
              "\n",
              "  .colab-df-quickchart-complete:disabled,\n",
              "  .colab-df-quickchart-complete:disabled:hover {\n",
              "    background-color: var(--disabled-bg-color);\n",
              "    fill: var(--disabled-fill-color);\n",
              "    box-shadow: none;\n",
              "  }\n",
              "\n",
              "  .colab-df-spinner {\n",
              "    border: 2px solid var(--fill-color);\n",
              "    border-color: transparent;\n",
              "    border-bottom-color: var(--fill-color);\n",
              "    animation:\n",
              "      spin 1s steps(1) infinite;\n",
              "  }\n",
              "\n",
              "  @keyframes spin {\n",
              "    0% {\n",
              "      border-color: transparent;\n",
              "      border-bottom-color: var(--fill-color);\n",
              "      border-left-color: var(--fill-color);\n",
              "    }\n",
              "    20% {\n",
              "      border-color: transparent;\n",
              "      border-left-color: var(--fill-color);\n",
              "      border-top-color: var(--fill-color);\n",
              "    }\n",
              "    30% {\n",
              "      border-color: transparent;\n",
              "      border-left-color: var(--fill-color);\n",
              "      border-top-color: var(--fill-color);\n",
              "      border-right-color: var(--fill-color);\n",
              "    }\n",
              "    40% {\n",
              "      border-color: transparent;\n",
              "      border-right-color: var(--fill-color);\n",
              "      border-top-color: var(--fill-color);\n",
              "    }\n",
              "    60% {\n",
              "      border-color: transparent;\n",
              "      border-right-color: var(--fill-color);\n",
              "    }\n",
              "    80% {\n",
              "      border-color: transparent;\n",
              "      border-right-color: var(--fill-color);\n",
              "      border-bottom-color: var(--fill-color);\n",
              "    }\n",
              "    90% {\n",
              "      border-color: transparent;\n",
              "      border-bottom-color: var(--fill-color);\n",
              "    }\n",
              "  }\n",
              "</style>\n",
              "\n",
              "  <script>\n",
              "    async function quickchart(key) {\n",
              "      const quickchartButtonEl =\n",
              "        document.querySelector('#' + key + ' button');\n",
              "      quickchartButtonEl.disabled = true;  // To prevent multiple clicks.\n",
              "      quickchartButtonEl.classList.add('colab-df-spinner');\n",
              "      try {\n",
              "        const charts = await google.colab.kernel.invokeFunction(\n",
              "            'suggestCharts', [key], {});\n",
              "      } catch (error) {\n",
              "        console.error('Error during call to suggestCharts:', error);\n",
              "      }\n",
              "      quickchartButtonEl.classList.remove('colab-df-spinner');\n",
              "      quickchartButtonEl.classList.add('colab-df-quickchart-complete');\n",
              "    }\n",
              "    (() => {\n",
              "      let quickchartButtonEl =\n",
              "        document.querySelector('#df-d3fc7fd9-b015-4034-a797-a3b5bae78650 button');\n",
              "      quickchartButtonEl.style.display =\n",
              "        google.colab.kernel.accessAllowed ? 'block' : 'none';\n",
              "    })();\n",
              "  </script>\n",
              "</div>\n",
              "\n",
              "  <div id=\"id_fc738d16-4b87-4437-b199-904dea62b9f3\">\n",
              "    <style>\n",
              "      .colab-df-generate {\n",
              "        background-color: #E8F0FE;\n",
              "        border: none;\n",
              "        border-radius: 50%;\n",
              "        cursor: pointer;\n",
              "        display: none;\n",
              "        fill: #1967D2;\n",
              "        height: 32px;\n",
              "        padding: 0 0 0 0;\n",
              "        width: 32px;\n",
              "      }\n",
              "\n",
              "      .colab-df-generate:hover {\n",
              "        background-color: #E2EBFA;\n",
              "        box-shadow: 0px 1px 2px rgba(60, 64, 67, 0.3), 0px 1px 3px 1px rgba(60, 64, 67, 0.15);\n",
              "        fill: #174EA6;\n",
              "      }\n",
              "\n",
              "      [theme=dark] .colab-df-generate {\n",
              "        background-color: #3B4455;\n",
              "        fill: #D2E3FC;\n",
              "      }\n",
              "\n",
              "      [theme=dark] .colab-df-generate:hover {\n",
              "        background-color: #434B5C;\n",
              "        box-shadow: 0px 1px 3px 1px rgba(0, 0, 0, 0.15);\n",
              "        filter: drop-shadow(0px 1px 2px rgba(0, 0, 0, 0.3));\n",
              "        fill: #FFFFFF;\n",
              "      }\n",
              "    </style>\n",
              "    <button class=\"colab-df-generate\" onclick=\"generateWithVariable('launch_sites_df')\"\n",
              "            title=\"Generate code using this dataframe.\"\n",
              "            style=\"display:none;\">\n",
              "\n",
              "  <svg xmlns=\"http://www.w3.org/2000/svg\" height=\"24px\"viewBox=\"0 0 24 24\"\n",
              "       width=\"24px\">\n",
              "    <path d=\"M7,19H8.4L18.45,9,17,7.55,7,17.6ZM5,21V16.75L18.45,3.32a2,2,0,0,1,2.83,0l1.4,1.43a1.91,1.91,0,0,1,.58,1.4,1.91,1.91,0,0,1-.58,1.4L9.25,21ZM18.45,9,17,7.55Zm-12,3A5.31,5.31,0,0,0,4.9,8.1,5.31,5.31,0,0,0,1,6.5,5.31,5.31,0,0,0,4.9,4.9,5.31,5.31,0,0,0,6.5,1,5.31,5.31,0,0,0,8.1,4.9,5.31,5.31,0,0,0,12,6.5,5.46,5.46,0,0,0,6.5,12Z\"/>\n",
              "  </svg>\n",
              "    </button>\n",
              "    <script>\n",
              "      (() => {\n",
              "      const buttonEl =\n",
              "        document.querySelector('#id_fc738d16-4b87-4437-b199-904dea62b9f3 button.colab-df-generate');\n",
              "      buttonEl.style.display =\n",
              "        google.colab.kernel.accessAllowed ? 'block' : 'none';\n",
              "\n",
              "      buttonEl.onclick = () => {\n",
              "        google.colab.notebook.generateWithVariable('launch_sites_df');\n",
              "      }\n",
              "      })();\n",
              "    </script>\n",
              "  </div>\n",
              "\n",
              "    </div>\n",
              "  </div>\n"
            ],
            "application/vnd.google.colaboratory.intrinsic+json": {
              "type": "dataframe",
              "variable_name": "launch_sites_df",
              "summary": "{\n  \"name\": \"launch_sites_df\",\n  \"rows\": 4,\n  \"fields\": [\n    {\n      \"column\": \"Launch Site\",\n      \"properties\": {\n        \"dtype\": \"string\",\n        \"num_unique_values\": 4,\n        \"samples\": [\n          \"CCAFS SLC-40\",\n          \"VAFB SLC-4E\",\n          \"CCAFS LC-40\"\n        ],\n        \"semantic_type\": \"\",\n        \"description\": \"\"\n      }\n    },\n    {\n      \"column\": \"Lat\",\n      \"properties\": {\n        \"dtype\": \"number\",\n        \"std\": 3.0332955243746538,\n        \"min\": 28.56230197,\n        \"max\": 34.63283416,\n        \"num_unique_values\": 4,\n        \"samples\": [\n          28.56319718,\n          34.63283416,\n          28.56230197\n        ],\n        \"semantic_type\": \"\",\n        \"description\": \"\"\n      }\n    },\n    {\n      \"column\": \"Long\",\n      \"properties\": {\n        \"dtype\": \"number\",\n        \"std\": 20.005221183163297,\n        \"min\": -120.6107455,\n        \"max\": -80.57682003,\n        \"num_unique_values\": 4,\n        \"samples\": [\n          -80.57682003,\n          -120.6107455,\n          -80.57735648\n        ],\n        \"semantic_type\": \"\",\n        \"description\": \"\"\n      }\n    }\n  ]\n}"
            }
          },
          "metadata": {},
          "execution_count": 6
        }
      ],
      "execution_count": 6
    },
    {
      "cell_type": "markdown",
      "source": [
        "Above coordinates are just plain numbers that can not give you any intuitive insights about where are those launch sites. If you are very good at geography, you can interpret those numbers directly in your mind. If not, that's fine too. Let's visualize those locations by pinning them on a map.\n"
      ],
      "metadata": {
        "id": "CPmTvsIToPhu"
      }
    },
    {
      "cell_type": "markdown",
      "source": [
        "We first need to create a folium `Map` object, with an initial center location to be NASA Johnson Space Center at Houston, Texas.\n"
      ],
      "metadata": {
        "id": "2f-0ANGsoPhu"
      }
    },
    {
      "cell_type": "code",
      "source": [
        "# Start location is NASA Johnson Space Center\n",
        "nasa_coordinate = [29.559684888503615, -95.0830971930759]\n",
        "site_map = folium.Map(location=nasa_coordinate, zoom_start=10)"
      ],
      "metadata": {
        "trusted": true,
        "id": "mplxr1pXoPhu"
      },
      "outputs": [],
      "execution_count": 7
    },
    {
      "cell_type": "markdown",
      "source": [
        "We could use `folium.Circle` to add a highlighted circle area with a text label on a specific coordinate. For example,\n"
      ],
      "metadata": {
        "id": "uya4RT7ioPhu"
      }
    },
    {
      "cell_type": "code",
      "source": [
        "# Create a blue circle at NASA Johnson Space Center's coordinate with a popup label showing its name\n",
        "circle = folium.Circle(nasa_coordinate, radius=1000, color='#d35400', fill=True).add_child(folium.Popup('NASA Johnson Space Center'))\n",
        "# Create a blue circle at NASA Johnson Space Center's coordinate with a icon showing its name\n",
        "marker = folium.map.Marker(\n",
        "    nasa_coordinate,\n",
        "    # Create an icon as a text label\n",
        "    icon=DivIcon(\n",
        "        icon_size=(20,20),\n",
        "        icon_anchor=(0,0),\n",
        "        html='<div style=\"font-size: 12; color:#d35400;\"><b>%s</b></div>' % 'NASA JSC',\n",
        "        )\n",
        "    )\n",
        "site_map.add_child(circle)\n",
        "site_map.add_child(marker)"
      ],
      "metadata": {
        "trusted": true,
        "scrolled": true,
        "id": "rhYrzRrXoPhv",
        "outputId": "8c6a4ab3-d110-4c0b-b515-8937219426bb",
        "colab": {
          "base_uri": "https://localhost:8080/",
          "height": 711
        }
      },
      "outputs": [
        {
          "output_type": "execute_result",
          "data": {
            "text/plain": [
              "<folium.folium.Map at 0x7e4398a03a90>"
            ],
            "text/html": [
              "<div style=\"width:100%;\"><div style=\"position:relative;width:100%;height:0;padding-bottom:60%;\"><span style=\"color:#565656\">Make this Notebook Trusted to load map: File -> Trust Notebook</span><iframe srcdoc=\"&lt;!DOCTYPE html&gt;\n",
              "&lt;html&gt;\n",
              "&lt;head&gt;\n",
              "    \n",
              "    &lt;meta http-equiv=&quot;content-type&quot; content=&quot;text/html; charset=UTF-8&quot; /&gt;\n",
              "    \n",
              "        &lt;script&gt;\n",
              "            L_NO_TOUCH = false;\n",
              "            L_DISABLE_3D = false;\n",
              "        &lt;/script&gt;\n",
              "    \n",
              "    &lt;style&gt;html, body {width: 100%;height: 100%;margin: 0;padding: 0;}&lt;/style&gt;\n",
              "    &lt;style&gt;#map {position:absolute;top:0;bottom:0;right:0;left:0;}&lt;/style&gt;\n",
              "    &lt;script src=&quot;https://cdn.jsdelivr.net/npm/leaflet@1.9.3/dist/leaflet.js&quot;&gt;&lt;/script&gt;\n",
              "    &lt;script src=&quot;https://code.jquery.com/jquery-3.7.1.min.js&quot;&gt;&lt;/script&gt;\n",
              "    &lt;script src=&quot;https://cdn.jsdelivr.net/npm/bootstrap@5.2.2/dist/js/bootstrap.bundle.min.js&quot;&gt;&lt;/script&gt;\n",
              "    &lt;script src=&quot;https://cdnjs.cloudflare.com/ajax/libs/Leaflet.awesome-markers/2.0.2/leaflet.awesome-markers.js&quot;&gt;&lt;/script&gt;\n",
              "    &lt;link rel=&quot;stylesheet&quot; href=&quot;https://cdn.jsdelivr.net/npm/leaflet@1.9.3/dist/leaflet.css&quot;/&gt;\n",
              "    &lt;link rel=&quot;stylesheet&quot; href=&quot;https://cdn.jsdelivr.net/npm/bootstrap@5.2.2/dist/css/bootstrap.min.css&quot;/&gt;\n",
              "    &lt;link rel=&quot;stylesheet&quot; href=&quot;https://netdna.bootstrapcdn.com/bootstrap/3.0.0/css/bootstrap-glyphicons.css&quot;/&gt;\n",
              "    &lt;link rel=&quot;stylesheet&quot; href=&quot;https://cdn.jsdelivr.net/npm/@fortawesome/fontawesome-free@6.2.0/css/all.min.css&quot;/&gt;\n",
              "    &lt;link rel=&quot;stylesheet&quot; href=&quot;https://cdnjs.cloudflare.com/ajax/libs/Leaflet.awesome-markers/2.0.2/leaflet.awesome-markers.css&quot;/&gt;\n",
              "    &lt;link rel=&quot;stylesheet&quot; href=&quot;https://cdn.jsdelivr.net/gh/python-visualization/folium/folium/templates/leaflet.awesome.rotate.min.css&quot;/&gt;\n",
              "    \n",
              "            &lt;meta name=&quot;viewport&quot; content=&quot;width=device-width,\n",
              "                initial-scale=1.0, maximum-scale=1.0, user-scalable=no&quot; /&gt;\n",
              "            &lt;style&gt;\n",
              "                #map_cf4c74305d1df124b4185b6e8daa4e6c {\n",
              "                    position: relative;\n",
              "                    width: 100.0%;\n",
              "                    height: 100.0%;\n",
              "                    left: 0.0%;\n",
              "                    top: 0.0%;\n",
              "                }\n",
              "                .leaflet-container { font-size: 1rem; }\n",
              "            &lt;/style&gt;\n",
              "        \n",
              "&lt;/head&gt;\n",
              "&lt;body&gt;\n",
              "    \n",
              "    \n",
              "            &lt;div class=&quot;folium-map&quot; id=&quot;map_cf4c74305d1df124b4185b6e8daa4e6c&quot; &gt;&lt;/div&gt;\n",
              "        \n",
              "&lt;/body&gt;\n",
              "&lt;script&gt;\n",
              "    \n",
              "    \n",
              "            var map_cf4c74305d1df124b4185b6e8daa4e6c = L.map(\n",
              "                &quot;map_cf4c74305d1df124b4185b6e8daa4e6c&quot;,\n",
              "                {\n",
              "                    center: [29.559684888503615, -95.0830971930759],\n",
              "                    crs: L.CRS.EPSG3857,\n",
              "                    ...{\n",
              "  &quot;zoom&quot;: 10,\n",
              "  &quot;zoomControl&quot;: true,\n",
              "  &quot;preferCanvas&quot;: false,\n",
              "}\n",
              "\n",
              "                }\n",
              "            );\n",
              "\n",
              "            \n",
              "\n",
              "        \n",
              "    \n",
              "            var tile_layer_96038ed3c1ed4711f4bf545e480dd0b3 = L.tileLayer(\n",
              "                &quot;https://tile.openstreetmap.org/{z}/{x}/{y}.png&quot;,\n",
              "                {\n",
              "  &quot;minZoom&quot;: 0,\n",
              "  &quot;maxZoom&quot;: 19,\n",
              "  &quot;maxNativeZoom&quot;: 19,\n",
              "  &quot;noWrap&quot;: false,\n",
              "  &quot;attribution&quot;: &quot;\\u0026copy; \\u003ca href=\\&quot;https://www.openstreetmap.org/copyright\\&quot;\\u003eOpenStreetMap\\u003c/a\\u003e contributors&quot;,\n",
              "  &quot;subdomains&quot;: &quot;abc&quot;,\n",
              "  &quot;detectRetina&quot;: false,\n",
              "  &quot;tms&quot;: false,\n",
              "  &quot;opacity&quot;: 1,\n",
              "}\n",
              "\n",
              "            );\n",
              "        \n",
              "    \n",
              "            tile_layer_96038ed3c1ed4711f4bf545e480dd0b3.addTo(map_cf4c74305d1df124b4185b6e8daa4e6c);\n",
              "        \n",
              "    \n",
              "            var circle_a20b01bd3e46daa947b25594b0e86daa = L.circle(\n",
              "                [29.559684888503615, -95.0830971930759],\n",
              "                {&quot;bubblingMouseEvents&quot;: true, &quot;color&quot;: &quot;#d35400&quot;, &quot;dashArray&quot;: null, &quot;dashOffset&quot;: null, &quot;fill&quot;: true, &quot;fillColor&quot;: &quot;#d35400&quot;, &quot;fillOpacity&quot;: 0.2, &quot;fillRule&quot;: &quot;evenodd&quot;, &quot;lineCap&quot;: &quot;round&quot;, &quot;lineJoin&quot;: &quot;round&quot;, &quot;opacity&quot;: 1.0, &quot;radius&quot;: 1000, &quot;stroke&quot;: true, &quot;weight&quot;: 3}\n",
              "            ).addTo(map_cf4c74305d1df124b4185b6e8daa4e6c);\n",
              "        \n",
              "    \n",
              "        var popup_65f9deb5733e3e6a52ede9e2adf9ff7b = L.popup({\n",
              "  &quot;maxWidth&quot;: &quot;100%&quot;,\n",
              "});\n",
              "\n",
              "        \n",
              "            \n",
              "                var html_4f05f60f8a6ca15fd027802cccfe1531 = $(`&lt;div id=&quot;html_4f05f60f8a6ca15fd027802cccfe1531&quot; style=&quot;width: 100.0%; height: 100.0%;&quot;&gt;NASA Johnson Space Center&lt;/div&gt;`)[0];\n",
              "                popup_65f9deb5733e3e6a52ede9e2adf9ff7b.setContent(html_4f05f60f8a6ca15fd027802cccfe1531);\n",
              "            \n",
              "        \n",
              "\n",
              "        circle_a20b01bd3e46daa947b25594b0e86daa.bindPopup(popup_65f9deb5733e3e6a52ede9e2adf9ff7b)\n",
              "        ;\n",
              "\n",
              "        \n",
              "    \n",
              "    \n",
              "            var marker_86b30cacd72f8e3869201b6f03bca98c = L.marker(\n",
              "                [29.559684888503615, -95.0830971930759],\n",
              "                {\n",
              "}\n",
              "            ).addTo(map_cf4c74305d1df124b4185b6e8daa4e6c);\n",
              "        \n",
              "    \n",
              "            var div_icon_6fb331b462da74fb9227d5433c0a7f02 = L.divIcon({\n",
              "  &quot;html&quot;: &quot;\\u003cdiv style=\\&quot;font-size: 12; color:#d35400;\\&quot;\\u003e\\u003cb\\u003eNASA JSC\\u003c/b\\u003e\\u003c/div\\u003e&quot;,\n",
              "  &quot;iconSize&quot;: [20, 20],\n",
              "  &quot;iconAnchor&quot;: [0, 0],\n",
              "  &quot;className&quot;: &quot;empty&quot;,\n",
              "});\n",
              "            marker_86b30cacd72f8e3869201b6f03bca98c.setIcon(div_icon_6fb331b462da74fb9227d5433c0a7f02);\n",
              "        \n",
              "&lt;/script&gt;\n",
              "&lt;/html&gt;\" style=\"position:absolute;width:100%;height:100%;left:0;top:0;border:none !important;\" allowfullscreen webkitallowfullscreen mozallowfullscreen></iframe></div></div>"
            ]
          },
          "metadata": {},
          "execution_count": 8
        }
      ],
      "execution_count": 8
    },
    {
      "cell_type": "markdown",
      "source": [
        "and you should find a small yellow circle near the city of Houston and you can zoom-in to see a larger circle.\n"
      ],
      "metadata": {
        "id": "SMtvk2_eoPhv"
      }
    },
    {
      "cell_type": "markdown",
      "source": [
        "Now, let's add a circle for each launch site in data frame `launch_sites`\n"
      ],
      "metadata": {
        "id": "gdKS3vSWoPhv"
      }
    },
    {
      "cell_type": "markdown",
      "source": [
        "*TODO:*  Create and add `folium.Circle` and `folium.Marker` for each launch site on the site map\n"
      ],
      "metadata": {
        "id": "_v-sva30oPhv"
      }
    },
    {
      "cell_type": "markdown",
      "source": [
        "An example of folium.Circle:\n"
      ],
      "metadata": {
        "id": "UdRmRopHoPhw"
      }
    },
    {
      "cell_type": "markdown",
      "source": [
        "`folium.Circle(coordinate, radius=1000, color='#000000', fill=True).add_child(folium.Popup(...))`\n"
      ],
      "metadata": {
        "id": "a5teRoleoPhw"
      }
    },
    {
      "cell_type": "markdown",
      "source": [
        "An example of folium.Marker:\n"
      ],
      "metadata": {
        "id": "5t_XvE8DoPhw"
      }
    },
    {
      "cell_type": "markdown",
      "source": [
        "`folium.map.Marker(coordinate, icon=DivIcon(icon_size=(20,20),icon_anchor=(0,0), html='<div style=\"font-size: 12; color:#d35400;\"><b>%s</b></div>' % 'label', ))`\n"
      ],
      "metadata": {
        "id": "b2HzmjZAoPhw"
      }
    },
    {
      "cell_type": "code",
      "source": [
        "# Initial the map\n",
        "site_map = folium.Map(location=nasa_coordinate, zoom_start=5)\n",
        "\n",
        "# For each launch site, add a Circle object based on its coordinate (Lat, Long) values. In addition, add Launch site name as a popup label\n",
        "for lat, lng, label in zip(launch_sites_df['Lat'], launch_sites_df['Long'], launch_sites_df['Launch Site']):\n",
        "    coordinate = [lat, lng]\n",
        "    circle = folium.Circle(coordinate, radius=1000, color='#d35400', fill=True).add_child(folium.Popup(label))\n",
        "    marker = folium.map.Marker(\n",
        "        coordinate,\n",
        "        icon=DivIcon(\n",
        "            icon_size=(20,20),\n",
        "            icon_anchor=(0,0),\n",
        "            html='<div style=\"font-size: 12; color:#d35400;\"><b>%s</b></div>' % label,)\n",
        "        )\n",
        "    site_map.add_child(circle)\n",
        "    site_map.add_child(marker)\n",
        "\n",
        "site_map"
      ],
      "metadata": {
        "id": "tZzWBKzWrbx6",
        "outputId": "c5b89741-d9f5-4511-bd0a-69ccf88c6a2f",
        "colab": {
          "base_uri": "https://localhost:8080/",
          "height": 711
        }
      },
      "execution_count": 10,
      "outputs": [
        {
          "output_type": "execute_result",
          "data": {
            "text/plain": [
              "<folium.folium.Map at 0x7e4397c9d450>"
            ],
            "text/html": [
              "<div style=\"width:100%;\"><div style=\"position:relative;width:100%;height:0;padding-bottom:60%;\"><span style=\"color:#565656\">Make this Notebook Trusted to load map: File -> Trust Notebook</span><iframe srcdoc=\"&lt;!DOCTYPE html&gt;\n",
              "&lt;html&gt;\n",
              "&lt;head&gt;\n",
              "    \n",
              "    &lt;meta http-equiv=&quot;content-type&quot; content=&quot;text/html; charset=UTF-8&quot; /&gt;\n",
              "    \n",
              "        &lt;script&gt;\n",
              "            L_NO_TOUCH = false;\n",
              "            L_DISABLE_3D = false;\n",
              "        &lt;/script&gt;\n",
              "    \n",
              "    &lt;style&gt;html, body {width: 100%;height: 100%;margin: 0;padding: 0;}&lt;/style&gt;\n",
              "    &lt;style&gt;#map {position:absolute;top:0;bottom:0;right:0;left:0;}&lt;/style&gt;\n",
              "    &lt;script src=&quot;https://cdn.jsdelivr.net/npm/leaflet@1.9.3/dist/leaflet.js&quot;&gt;&lt;/script&gt;\n",
              "    &lt;script src=&quot;https://code.jquery.com/jquery-3.7.1.min.js&quot;&gt;&lt;/script&gt;\n",
              "    &lt;script src=&quot;https://cdn.jsdelivr.net/npm/bootstrap@5.2.2/dist/js/bootstrap.bundle.min.js&quot;&gt;&lt;/script&gt;\n",
              "    &lt;script src=&quot;https://cdnjs.cloudflare.com/ajax/libs/Leaflet.awesome-markers/2.0.2/leaflet.awesome-markers.js&quot;&gt;&lt;/script&gt;\n",
              "    &lt;link rel=&quot;stylesheet&quot; href=&quot;https://cdn.jsdelivr.net/npm/leaflet@1.9.3/dist/leaflet.css&quot;/&gt;\n",
              "    &lt;link rel=&quot;stylesheet&quot; href=&quot;https://cdn.jsdelivr.net/npm/bootstrap@5.2.2/dist/css/bootstrap.min.css&quot;/&gt;\n",
              "    &lt;link rel=&quot;stylesheet&quot; href=&quot;https://netdna.bootstrapcdn.com/bootstrap/3.0.0/css/bootstrap-glyphicons.css&quot;/&gt;\n",
              "    &lt;link rel=&quot;stylesheet&quot; href=&quot;https://cdn.jsdelivr.net/npm/@fortawesome/fontawesome-free@6.2.0/css/all.min.css&quot;/&gt;\n",
              "    &lt;link rel=&quot;stylesheet&quot; href=&quot;https://cdnjs.cloudflare.com/ajax/libs/Leaflet.awesome-markers/2.0.2/leaflet.awesome-markers.css&quot;/&gt;\n",
              "    &lt;link rel=&quot;stylesheet&quot; href=&quot;https://cdn.jsdelivr.net/gh/python-visualization/folium/folium/templates/leaflet.awesome.rotate.min.css&quot;/&gt;\n",
              "    \n",
              "            &lt;meta name=&quot;viewport&quot; content=&quot;width=device-width,\n",
              "                initial-scale=1.0, maximum-scale=1.0, user-scalable=no&quot; /&gt;\n",
              "            &lt;style&gt;\n",
              "                #map_40bc74e99c5ea055df747a9b81eecc0b {\n",
              "                    position: relative;\n",
              "                    width: 100.0%;\n",
              "                    height: 100.0%;\n",
              "                    left: 0.0%;\n",
              "                    top: 0.0%;\n",
              "                }\n",
              "                .leaflet-container { font-size: 1rem; }\n",
              "            &lt;/style&gt;\n",
              "        \n",
              "&lt;/head&gt;\n",
              "&lt;body&gt;\n",
              "    \n",
              "    \n",
              "            &lt;div class=&quot;folium-map&quot; id=&quot;map_40bc74e99c5ea055df747a9b81eecc0b&quot; &gt;&lt;/div&gt;\n",
              "        \n",
              "&lt;/body&gt;\n",
              "&lt;script&gt;\n",
              "    \n",
              "    \n",
              "            var map_40bc74e99c5ea055df747a9b81eecc0b = L.map(\n",
              "                &quot;map_40bc74e99c5ea055df747a9b81eecc0b&quot;,\n",
              "                {\n",
              "                    center: [29.559684888503615, -95.0830971930759],\n",
              "                    crs: L.CRS.EPSG3857,\n",
              "                    ...{\n",
              "  &quot;zoom&quot;: 5,\n",
              "  &quot;zoomControl&quot;: true,\n",
              "  &quot;preferCanvas&quot;: false,\n",
              "}\n",
              "\n",
              "                }\n",
              "            );\n",
              "\n",
              "            \n",
              "\n",
              "        \n",
              "    \n",
              "            var tile_layer_0278f85a2902c861b8534f5ca4eaa5f2 = L.tileLayer(\n",
              "                &quot;https://tile.openstreetmap.org/{z}/{x}/{y}.png&quot;,\n",
              "                {\n",
              "  &quot;minZoom&quot;: 0,\n",
              "  &quot;maxZoom&quot;: 19,\n",
              "  &quot;maxNativeZoom&quot;: 19,\n",
              "  &quot;noWrap&quot;: false,\n",
              "  &quot;attribution&quot;: &quot;\\u0026copy; \\u003ca href=\\&quot;https://www.openstreetmap.org/copyright\\&quot;\\u003eOpenStreetMap\\u003c/a\\u003e contributors&quot;,\n",
              "  &quot;subdomains&quot;: &quot;abc&quot;,\n",
              "  &quot;detectRetina&quot;: false,\n",
              "  &quot;tms&quot;: false,\n",
              "  &quot;opacity&quot;: 1,\n",
              "}\n",
              "\n",
              "            );\n",
              "        \n",
              "    \n",
              "            tile_layer_0278f85a2902c861b8534f5ca4eaa5f2.addTo(map_40bc74e99c5ea055df747a9b81eecc0b);\n",
              "        \n",
              "    \n",
              "            var circle_ef4d09ae4201ceba1bb637b5e66a4aef = L.circle(\n",
              "                [28.56230197, -80.57735648],\n",
              "                {&quot;bubblingMouseEvents&quot;: true, &quot;color&quot;: &quot;#d35400&quot;, &quot;dashArray&quot;: null, &quot;dashOffset&quot;: null, &quot;fill&quot;: true, &quot;fillColor&quot;: &quot;#d35400&quot;, &quot;fillOpacity&quot;: 0.2, &quot;fillRule&quot;: &quot;evenodd&quot;, &quot;lineCap&quot;: &quot;round&quot;, &quot;lineJoin&quot;: &quot;round&quot;, &quot;opacity&quot;: 1.0, &quot;radius&quot;: 1000, &quot;stroke&quot;: true, &quot;weight&quot;: 3}\n",
              "            ).addTo(map_40bc74e99c5ea055df747a9b81eecc0b);\n",
              "        \n",
              "    \n",
              "        var popup_62fc47390ee0abf10366334821123914 = L.popup({\n",
              "  &quot;maxWidth&quot;: &quot;100%&quot;,\n",
              "});\n",
              "\n",
              "        \n",
              "            \n",
              "                var html_edff2bf4e33a27065f5a63288a20bd73 = $(`&lt;div id=&quot;html_edff2bf4e33a27065f5a63288a20bd73&quot; style=&quot;width: 100.0%; height: 100.0%;&quot;&gt;CCAFS LC-40&lt;/div&gt;`)[0];\n",
              "                popup_62fc47390ee0abf10366334821123914.setContent(html_edff2bf4e33a27065f5a63288a20bd73);\n",
              "            \n",
              "        \n",
              "\n",
              "        circle_ef4d09ae4201ceba1bb637b5e66a4aef.bindPopup(popup_62fc47390ee0abf10366334821123914)\n",
              "        ;\n",
              "\n",
              "        \n",
              "    \n",
              "    \n",
              "            var marker_37b76c63e37ddf25b41d4a0c7570e186 = L.marker(\n",
              "                [28.56230197, -80.57735648],\n",
              "                {\n",
              "}\n",
              "            ).addTo(map_40bc74e99c5ea055df747a9b81eecc0b);\n",
              "        \n",
              "    \n",
              "            var div_icon_cbaf95297001132b7fd1dd0be137140d = L.divIcon({\n",
              "  &quot;html&quot;: &quot;\\u003cdiv style=\\&quot;font-size: 12; color:#d35400;\\&quot;\\u003e\\u003cb\\u003eCCAFS LC-40\\u003c/b\\u003e\\u003c/div\\u003e&quot;,\n",
              "  &quot;iconSize&quot;: [20, 20],\n",
              "  &quot;iconAnchor&quot;: [0, 0],\n",
              "  &quot;className&quot;: &quot;empty&quot;,\n",
              "});\n",
              "            marker_37b76c63e37ddf25b41d4a0c7570e186.setIcon(div_icon_cbaf95297001132b7fd1dd0be137140d);\n",
              "        \n",
              "    \n",
              "            var circle_0ab8814044db548252a7fead052a7c25 = L.circle(\n",
              "                [28.56319718, -80.57682003],\n",
              "                {&quot;bubblingMouseEvents&quot;: true, &quot;color&quot;: &quot;#d35400&quot;, &quot;dashArray&quot;: null, &quot;dashOffset&quot;: null, &quot;fill&quot;: true, &quot;fillColor&quot;: &quot;#d35400&quot;, &quot;fillOpacity&quot;: 0.2, &quot;fillRule&quot;: &quot;evenodd&quot;, &quot;lineCap&quot;: &quot;round&quot;, &quot;lineJoin&quot;: &quot;round&quot;, &quot;opacity&quot;: 1.0, &quot;radius&quot;: 1000, &quot;stroke&quot;: true, &quot;weight&quot;: 3}\n",
              "            ).addTo(map_40bc74e99c5ea055df747a9b81eecc0b);\n",
              "        \n",
              "    \n",
              "        var popup_b52b46fc0b23997b3b386098ea54670c = L.popup({\n",
              "  &quot;maxWidth&quot;: &quot;100%&quot;,\n",
              "});\n",
              "\n",
              "        \n",
              "            \n",
              "                var html_c769c250db2e2bb38c745c0a37e5cc2e = $(`&lt;div id=&quot;html_c769c250db2e2bb38c745c0a37e5cc2e&quot; style=&quot;width: 100.0%; height: 100.0%;&quot;&gt;CCAFS SLC-40&lt;/div&gt;`)[0];\n",
              "                popup_b52b46fc0b23997b3b386098ea54670c.setContent(html_c769c250db2e2bb38c745c0a37e5cc2e);\n",
              "            \n",
              "        \n",
              "\n",
              "        circle_0ab8814044db548252a7fead052a7c25.bindPopup(popup_b52b46fc0b23997b3b386098ea54670c)\n",
              "        ;\n",
              "\n",
              "        \n",
              "    \n",
              "    \n",
              "            var marker_f070a2c030f3c92ffc1155fade970de2 = L.marker(\n",
              "                [28.56319718, -80.57682003],\n",
              "                {\n",
              "}\n",
              "            ).addTo(map_40bc74e99c5ea055df747a9b81eecc0b);\n",
              "        \n",
              "    \n",
              "            var div_icon_9b3ea64870c747b57ba863ff46b87688 = L.divIcon({\n",
              "  &quot;html&quot;: &quot;\\u003cdiv style=\\&quot;font-size: 12; color:#d35400;\\&quot;\\u003e\\u003cb\\u003eCCAFS SLC-40\\u003c/b\\u003e\\u003c/div\\u003e&quot;,\n",
              "  &quot;iconSize&quot;: [20, 20],\n",
              "  &quot;iconAnchor&quot;: [0, 0],\n",
              "  &quot;className&quot;: &quot;empty&quot;,\n",
              "});\n",
              "            marker_f070a2c030f3c92ffc1155fade970de2.setIcon(div_icon_9b3ea64870c747b57ba863ff46b87688);\n",
              "        \n",
              "    \n",
              "            var circle_5cb0e4cd001f6959d4a8cb9e8372023f = L.circle(\n",
              "                [28.57325457, -80.64689529],\n",
              "                {&quot;bubblingMouseEvents&quot;: true, &quot;color&quot;: &quot;#d35400&quot;, &quot;dashArray&quot;: null, &quot;dashOffset&quot;: null, &quot;fill&quot;: true, &quot;fillColor&quot;: &quot;#d35400&quot;, &quot;fillOpacity&quot;: 0.2, &quot;fillRule&quot;: &quot;evenodd&quot;, &quot;lineCap&quot;: &quot;round&quot;, &quot;lineJoin&quot;: &quot;round&quot;, &quot;opacity&quot;: 1.0, &quot;radius&quot;: 1000, &quot;stroke&quot;: true, &quot;weight&quot;: 3}\n",
              "            ).addTo(map_40bc74e99c5ea055df747a9b81eecc0b);\n",
              "        \n",
              "    \n",
              "        var popup_7aef8bb617c1907dfa6b92e210e4ecde = L.popup({\n",
              "  &quot;maxWidth&quot;: &quot;100%&quot;,\n",
              "});\n",
              "\n",
              "        \n",
              "            \n",
              "                var html_c61c73a6aa5fa920239a33d5d4496c29 = $(`&lt;div id=&quot;html_c61c73a6aa5fa920239a33d5d4496c29&quot; style=&quot;width: 100.0%; height: 100.0%;&quot;&gt;KSC LC-39A&lt;/div&gt;`)[0];\n",
              "                popup_7aef8bb617c1907dfa6b92e210e4ecde.setContent(html_c61c73a6aa5fa920239a33d5d4496c29);\n",
              "            \n",
              "        \n",
              "\n",
              "        circle_5cb0e4cd001f6959d4a8cb9e8372023f.bindPopup(popup_7aef8bb617c1907dfa6b92e210e4ecde)\n",
              "        ;\n",
              "\n",
              "        \n",
              "    \n",
              "    \n",
              "            var marker_619f66dde2b69c3bef28a7ce62fa53a4 = L.marker(\n",
              "                [28.57325457, -80.64689529],\n",
              "                {\n",
              "}\n",
              "            ).addTo(map_40bc74e99c5ea055df747a9b81eecc0b);\n",
              "        \n",
              "    \n",
              "            var div_icon_cbb9645b44542d8a8c952b9e3db13c56 = L.divIcon({\n",
              "  &quot;html&quot;: &quot;\\u003cdiv style=\\&quot;font-size: 12; color:#d35400;\\&quot;\\u003e\\u003cb\\u003eKSC LC-39A\\u003c/b\\u003e\\u003c/div\\u003e&quot;,\n",
              "  &quot;iconSize&quot;: [20, 20],\n",
              "  &quot;iconAnchor&quot;: [0, 0],\n",
              "  &quot;className&quot;: &quot;empty&quot;,\n",
              "});\n",
              "            marker_619f66dde2b69c3bef28a7ce62fa53a4.setIcon(div_icon_cbb9645b44542d8a8c952b9e3db13c56);\n",
              "        \n",
              "    \n",
              "            var circle_4ccb402b11071d0f247730f4bd012a04 = L.circle(\n",
              "                [34.63283416, -120.6107455],\n",
              "                {&quot;bubblingMouseEvents&quot;: true, &quot;color&quot;: &quot;#d35400&quot;, &quot;dashArray&quot;: null, &quot;dashOffset&quot;: null, &quot;fill&quot;: true, &quot;fillColor&quot;: &quot;#d35400&quot;, &quot;fillOpacity&quot;: 0.2, &quot;fillRule&quot;: &quot;evenodd&quot;, &quot;lineCap&quot;: &quot;round&quot;, &quot;lineJoin&quot;: &quot;round&quot;, &quot;opacity&quot;: 1.0, &quot;radius&quot;: 1000, &quot;stroke&quot;: true, &quot;weight&quot;: 3}\n",
              "            ).addTo(map_40bc74e99c5ea055df747a9b81eecc0b);\n",
              "        \n",
              "    \n",
              "        var popup_1d53294079d4438080752d8d39836d30 = L.popup({\n",
              "  &quot;maxWidth&quot;: &quot;100%&quot;,\n",
              "});\n",
              "\n",
              "        \n",
              "            \n",
              "                var html_2384c559e6339ac415c61f85d10630b0 = $(`&lt;div id=&quot;html_2384c559e6339ac415c61f85d10630b0&quot; style=&quot;width: 100.0%; height: 100.0%;&quot;&gt;VAFB SLC-4E&lt;/div&gt;`)[0];\n",
              "                popup_1d53294079d4438080752d8d39836d30.setContent(html_2384c559e6339ac415c61f85d10630b0);\n",
              "            \n",
              "        \n",
              "\n",
              "        circle_4ccb402b11071d0f247730f4bd012a04.bindPopup(popup_1d53294079d4438080752d8d39836d30)\n",
              "        ;\n",
              "\n",
              "        \n",
              "    \n",
              "    \n",
              "            var marker_9864220cc992cd119e1173f7f150411d = L.marker(\n",
              "                [34.63283416, -120.6107455],\n",
              "                {\n",
              "}\n",
              "            ).addTo(map_40bc74e99c5ea055df747a9b81eecc0b);\n",
              "        \n",
              "    \n",
              "            var div_icon_c16b4daada22f7e8176c995281778ba0 = L.divIcon({\n",
              "  &quot;html&quot;: &quot;\\u003cdiv style=\\&quot;font-size: 12; color:#d35400;\\&quot;\\u003e\\u003cb\\u003eVAFB SLC-4E\\u003c/b\\u003e\\u003c/div\\u003e&quot;,\n",
              "  &quot;iconSize&quot;: [20, 20],\n",
              "  &quot;iconAnchor&quot;: [0, 0],\n",
              "  &quot;className&quot;: &quot;empty&quot;,\n",
              "});\n",
              "            marker_9864220cc992cd119e1173f7f150411d.setIcon(div_icon_c16b4daada22f7e8176c995281778ba0);\n",
              "        \n",
              "&lt;/script&gt;\n",
              "&lt;/html&gt;\" style=\"position:absolute;width:100%;height:100%;left:0;top:0;border:none !important;\" allowfullscreen webkitallowfullscreen mozallowfullscreen></iframe></div></div>"
            ]
          },
          "metadata": {},
          "execution_count": 10
        }
      ]
    },
    {
      "cell_type": "code",
      "source": [
        "# Initial the map\n",
        "site_map = folium.Map(location=nasa_coordinate, zoom_start=5)\n",
        "# For each launch site, add a Circle object based on its coordinate (Lat, Long) values. In addition, add Launch site name as a popup label\n",
        "\n",
        "for index, row in launch_sites_df.iterrows():\n",
        "    lat = row['Lat']\n",
        "    long = row['Long']\n",
        "    launch_site = row['Launch Site']\n",
        "\n",
        "    circle = folium.CircleMarker(\n",
        "        location=[lat, long],\n",
        "        radius=10,  # Adjust radius as needed\n",
        "        color='#000000', # Adjust color as needed\n",
        "        fill=True,\n",
        "        fill_color='#d3d3d3', # Adjust fill color as needed\n",
        "        fill_opacity=0.7, # Adjust fill opacity as needed\n",
        "        popup=launch_site  # Add launch site name as a popup label\n",
        "    ).add_to(site_map)\n",
        "\n",
        "\n",
        "# Display the map (e.g., in a Jupyter Notebook)\n",
        "site_map"
      ],
      "metadata": {
        "trusted": true,
        "outputId": "95aeb2f4-1cc8-45d6-9816-9b869a010f06",
        "id": "1miPCt7drcdC"
      },
      "outputs": [
        {
          "execution_count": 8,
          "output_type": "execute_result",
          "data": {
            "text/plain": "<folium.folium.Map at 0x5dec608>",
            "text/html": "<div style=\"width:100%;\"><div style=\"position:relative;width:100%;height:0;padding-bottom:60%;\"><span style=\"color:#565656\">Make this Notebook Trusted to load map: File -> Trust Notebook</span><iframe srcdoc=\"&lt;!DOCTYPE html&gt;\n&lt;html&gt;\n&lt;head&gt;\n    \n    &lt;meta http-equiv=&quot;content-type&quot; content=&quot;text/html; charset=UTF-8&quot; /&gt;\n    \n        &lt;script&gt;\n            L_NO_TOUCH = false;\n            L_DISABLE_3D = false;\n        &lt;/script&gt;\n    \n    &lt;style&gt;html, body {width: 100%;height: 100%;margin: 0;padding: 0;}&lt;/style&gt;\n    &lt;style&gt;#map {position:absolute;top:0;bottom:0;right:0;left:0;}&lt;/style&gt;\n    &lt;script src=&quot;https://cdn.jsdelivr.net/npm/leaflet@1.9.3/dist/leaflet.js&quot;&gt;&lt;/script&gt;\n    &lt;script src=&quot;https://code.jquery.com/jquery-3.7.1.min.js&quot;&gt;&lt;/script&gt;\n    &lt;script src=&quot;https://cdn.jsdelivr.net/npm/bootstrap@5.2.2/dist/js/bootstrap.bundle.min.js&quot;&gt;&lt;/script&gt;\n    &lt;script src=&quot;https://cdnjs.cloudflare.com/ajax/libs/Leaflet.awesome-markers/2.0.2/leaflet.awesome-markers.js&quot;&gt;&lt;/script&gt;\n    &lt;link rel=&quot;stylesheet&quot; href=&quot;https://cdn.jsdelivr.net/npm/leaflet@1.9.3/dist/leaflet.css&quot;/&gt;\n    &lt;link rel=&quot;stylesheet&quot; href=&quot;https://cdn.jsdelivr.net/npm/bootstrap@5.2.2/dist/css/bootstrap.min.css&quot;/&gt;\n    &lt;link rel=&quot;stylesheet&quot; href=&quot;https://netdna.bootstrapcdn.com/bootstrap/3.0.0/css/bootstrap-glyphicons.css&quot;/&gt;\n    &lt;link rel=&quot;stylesheet&quot; href=&quot;https://cdn.jsdelivr.net/npm/@fortawesome/fontawesome-free@6.2.0/css/all.min.css&quot;/&gt;\n    &lt;link rel=&quot;stylesheet&quot; href=&quot;https://cdnjs.cloudflare.com/ajax/libs/Leaflet.awesome-markers/2.0.2/leaflet.awesome-markers.css&quot;/&gt;\n    &lt;link rel=&quot;stylesheet&quot; href=&quot;https://cdn.jsdelivr.net/gh/python-visualization/folium/folium/templates/leaflet.awesome.rotate.min.css&quot;/&gt;\n    \n            &lt;meta name=&quot;viewport&quot; content=&quot;width=device-width,\n                initial-scale=1.0, maximum-scale=1.0, user-scalable=no&quot; /&gt;\n            &lt;style&gt;\n                #map_41e2f7af18661beb7494c84e5ab1200f {\n                    position: relative;\n                    width: 100.0%;\n                    height: 100.0%;\n                    left: 0.0%;\n                    top: 0.0%;\n                }\n                .leaflet-container { font-size: 1rem; }\n            &lt;/style&gt;\n        \n&lt;/head&gt;\n&lt;body&gt;\n    \n    \n            &lt;div class=&quot;folium-map&quot; id=&quot;map_41e2f7af18661beb7494c84e5ab1200f&quot; &gt;&lt;/div&gt;\n        \n&lt;/body&gt;\n&lt;script&gt;\n    \n    \n            var map_41e2f7af18661beb7494c84e5ab1200f = L.map(\n                &quot;map_41e2f7af18661beb7494c84e5ab1200f&quot;,\n                {\n                    center: [29.559684888503615, -95.0830971930759],\n                    crs: L.CRS.EPSG3857,\n                    ...{\n  &quot;zoom&quot;: 5,\n  &quot;zoomControl&quot;: true,\n  &quot;preferCanvas&quot;: false,\n}\n\n                }\n            );\n\n            \n\n        \n    \n            var tile_layer_43d66e196a35c085757072ba3c8329c0 = L.tileLayer(\n                &quot;https://tile.openstreetmap.org/{z}/{x}/{y}.png&quot;,\n                {\n  &quot;minZoom&quot;: 0,\n  &quot;maxZoom&quot;: 19,\n  &quot;maxNativeZoom&quot;: 19,\n  &quot;noWrap&quot;: false,\n  &quot;attribution&quot;: &quot;\\u0026copy; \\u003ca href=\\&quot;https://www.openstreetmap.org/copyright\\&quot;\\u003eOpenStreetMap\\u003c/a\\u003e contributors&quot;,\n  &quot;subdomains&quot;: &quot;abc&quot;,\n  &quot;detectRetina&quot;: false,\n  &quot;tms&quot;: false,\n  &quot;opacity&quot;: 1,\n}\n\n            );\n        \n    \n            tile_layer_43d66e196a35c085757072ba3c8329c0.addTo(map_41e2f7af18661beb7494c84e5ab1200f);\n        \n    \n            var circle_marker_b4dcafe96c954cce0e6ecd263c30b067 = L.circleMarker(\n                [28.56230197, -80.57735648],\n                {&quot;bubblingMouseEvents&quot;: true, &quot;color&quot;: &quot;#000000&quot;, &quot;dashArray&quot;: null, &quot;dashOffset&quot;: null, &quot;fill&quot;: true, &quot;fillColor&quot;: &quot;#d3d3d3&quot;, &quot;fillOpacity&quot;: 0.7, &quot;fillRule&quot;: &quot;evenodd&quot;, &quot;lineCap&quot;: &quot;round&quot;, &quot;lineJoin&quot;: &quot;round&quot;, &quot;opacity&quot;: 1.0, &quot;radius&quot;: 10, &quot;stroke&quot;: true, &quot;weight&quot;: 3}\n            ).addTo(map_41e2f7af18661beb7494c84e5ab1200f);\n        \n    \n        var popup_86218d9356be348171e10f8f21f6b375 = L.popup({\n  &quot;maxWidth&quot;: &quot;100%&quot;,\n});\n\n        \n            \n                var html_2fe5653c7e56aae01dde8d10bf017be3 = $(`&lt;div id=&quot;html_2fe5653c7e56aae01dde8d10bf017be3&quot; style=&quot;width: 100.0%; height: 100.0%;&quot;&gt;CCAFS LC-40&lt;/div&gt;`)[0];\n                popup_86218d9356be348171e10f8f21f6b375.setContent(html_2fe5653c7e56aae01dde8d10bf017be3);\n            \n        \n\n        circle_marker_b4dcafe96c954cce0e6ecd263c30b067.bindPopup(popup_86218d9356be348171e10f8f21f6b375)\n        ;\n\n        \n    \n    \n            var circle_marker_5717118866b6805be317c3637264cc8e = L.circleMarker(\n                [28.56319718, -80.57682003],\n                {&quot;bubblingMouseEvents&quot;: true, &quot;color&quot;: &quot;#000000&quot;, &quot;dashArray&quot;: null, &quot;dashOffset&quot;: null, &quot;fill&quot;: true, &quot;fillColor&quot;: &quot;#d3d3d3&quot;, &quot;fillOpacity&quot;: 0.7, &quot;fillRule&quot;: &quot;evenodd&quot;, &quot;lineCap&quot;: &quot;round&quot;, &quot;lineJoin&quot;: &quot;round&quot;, &quot;opacity&quot;: 1.0, &quot;radius&quot;: 10, &quot;stroke&quot;: true, &quot;weight&quot;: 3}\n            ).addTo(map_41e2f7af18661beb7494c84e5ab1200f);\n        \n    \n        var popup_9514c29ba1050039e6198aba52f55c03 = L.popup({\n  &quot;maxWidth&quot;: &quot;100%&quot;,\n});\n\n        \n            \n                var html_f8e109817696e8251ff476602202fe92 = $(`&lt;div id=&quot;html_f8e109817696e8251ff476602202fe92&quot; style=&quot;width: 100.0%; height: 100.0%;&quot;&gt;CCAFS SLC-40&lt;/div&gt;`)[0];\n                popup_9514c29ba1050039e6198aba52f55c03.setContent(html_f8e109817696e8251ff476602202fe92);\n            \n        \n\n        circle_marker_5717118866b6805be317c3637264cc8e.bindPopup(popup_9514c29ba1050039e6198aba52f55c03)\n        ;\n\n        \n    \n    \n            var circle_marker_401a45ba5ec1ef00a7189b000d24d5ea = L.circleMarker(\n                [28.57325457, -80.64689529],\n                {&quot;bubblingMouseEvents&quot;: true, &quot;color&quot;: &quot;#000000&quot;, &quot;dashArray&quot;: null, &quot;dashOffset&quot;: null, &quot;fill&quot;: true, &quot;fillColor&quot;: &quot;#d3d3d3&quot;, &quot;fillOpacity&quot;: 0.7, &quot;fillRule&quot;: &quot;evenodd&quot;, &quot;lineCap&quot;: &quot;round&quot;, &quot;lineJoin&quot;: &quot;round&quot;, &quot;opacity&quot;: 1.0, &quot;radius&quot;: 10, &quot;stroke&quot;: true, &quot;weight&quot;: 3}\n            ).addTo(map_41e2f7af18661beb7494c84e5ab1200f);\n        \n    \n        var popup_b9fc9ddf630199cc7ae65f2b781ec3cf = L.popup({\n  &quot;maxWidth&quot;: &quot;100%&quot;,\n});\n\n        \n            \n                var html_407979118024588dfcb90d45524dd5ec = $(`&lt;div id=&quot;html_407979118024588dfcb90d45524dd5ec&quot; style=&quot;width: 100.0%; height: 100.0%;&quot;&gt;KSC LC-39A&lt;/div&gt;`)[0];\n                popup_b9fc9ddf630199cc7ae65f2b781ec3cf.setContent(html_407979118024588dfcb90d45524dd5ec);\n            \n        \n\n        circle_marker_401a45ba5ec1ef00a7189b000d24d5ea.bindPopup(popup_b9fc9ddf630199cc7ae65f2b781ec3cf)\n        ;\n\n        \n    \n    \n            var circle_marker_7319790d7ba268047d083b8ed4a50cfc = L.circleMarker(\n                [34.63283416, -120.6107455],\n                {&quot;bubblingMouseEvents&quot;: true, &quot;color&quot;: &quot;#000000&quot;, &quot;dashArray&quot;: null, &quot;dashOffset&quot;: null, &quot;fill&quot;: true, &quot;fillColor&quot;: &quot;#d3d3d3&quot;, &quot;fillOpacity&quot;: 0.7, &quot;fillRule&quot;: &quot;evenodd&quot;, &quot;lineCap&quot;: &quot;round&quot;, &quot;lineJoin&quot;: &quot;round&quot;, &quot;opacity&quot;: 1.0, &quot;radius&quot;: 10, &quot;stroke&quot;: true, &quot;weight&quot;: 3}\n            ).addTo(map_41e2f7af18661beb7494c84e5ab1200f);\n        \n    \n        var popup_b2df756d26b79b557e420803863555f4 = L.popup({\n  &quot;maxWidth&quot;: &quot;100%&quot;,\n});\n\n        \n            \n                var html_13cce5c78128d368672113975076413c = $(`&lt;div id=&quot;html_13cce5c78128d368672113975076413c&quot; style=&quot;width: 100.0%; height: 100.0%;&quot;&gt;VAFB SLC-4E&lt;/div&gt;`)[0];\n                popup_b2df756d26b79b557e420803863555f4.setContent(html_13cce5c78128d368672113975076413c);\n            \n        \n\n        circle_marker_7319790d7ba268047d083b8ed4a50cfc.bindPopup(popup_b2df756d26b79b557e420803863555f4)\n        ;\n\n        \n    \n&lt;/script&gt;\n&lt;/html&gt;\" style=\"position:absolute;width:100%;height:100%;left:0;top:0;border:none !important;\" allowfullscreen webkitallowfullscreen mozallowfullscreen></iframe></div></div>"
          },
          "metadata": {}
        }
      ],
      "execution_count": null
    },
    {
      "cell_type": "code",
      "source": [
        "# Initial the map\n",
        "site_map = folium.Map(location=nasa_coordinate, zoom_start=5)\n",
        "# For each launch site, add a Circle object based on its coordinate (Lat, Long) values. In addition, add Launch site name as a popup label\n",
        "\n",
        "for index, row in launch_sites_df.iterrows():\n",
        "    lat = row['Lat']\n",
        "    long = row['Long']\n",
        "    launch_site = row['Launch Site']\n",
        "\n",
        "    circle = folium.CircleMarker(\n",
        "        location=[lat, long],\n",
        "        radius=10,  # Adjust radius as needed\n",
        "        color='#000000', # Adjust color as needed\n",
        "        fill=True,\n",
        "        fill_color='#d3d3d3', # Adjust fill color as needed\n",
        "        fill_opacity=0.7, # Adjust fill opacity as needed\n",
        "        popup=launch_site  # Add launch site name as a popup label\n",
        "    ).add_to(site_map)\n",
        "\n",
        "\n",
        "# Display the map (e.g., in a Jupyter Notebook)\n",
        "site_map"
      ],
      "metadata": {
        "trusted": true,
        "id": "Eb3ASU9ZoPhx",
        "outputId": "95aeb2f4-1cc8-45d6-9816-9b869a010f06"
      },
      "outputs": [
        {
          "execution_count": 8,
          "output_type": "execute_result",
          "data": {
            "text/plain": "<folium.folium.Map at 0x5dec608>",
            "text/html": "<div style=\"width:100%;\"><div style=\"position:relative;width:100%;height:0;padding-bottom:60%;\"><span style=\"color:#565656\">Make this Notebook Trusted to load map: File -> Trust Notebook</span><iframe srcdoc=\"&lt;!DOCTYPE html&gt;\n&lt;html&gt;\n&lt;head&gt;\n    \n    &lt;meta http-equiv=&quot;content-type&quot; content=&quot;text/html; charset=UTF-8&quot; /&gt;\n    \n        &lt;script&gt;\n            L_NO_TOUCH = false;\n            L_DISABLE_3D = false;\n        &lt;/script&gt;\n    \n    &lt;style&gt;html, body {width: 100%;height: 100%;margin: 0;padding: 0;}&lt;/style&gt;\n    &lt;style&gt;#map {position:absolute;top:0;bottom:0;right:0;left:0;}&lt;/style&gt;\n    &lt;script src=&quot;https://cdn.jsdelivr.net/npm/leaflet@1.9.3/dist/leaflet.js&quot;&gt;&lt;/script&gt;\n    &lt;script src=&quot;https://code.jquery.com/jquery-3.7.1.min.js&quot;&gt;&lt;/script&gt;\n    &lt;script src=&quot;https://cdn.jsdelivr.net/npm/bootstrap@5.2.2/dist/js/bootstrap.bundle.min.js&quot;&gt;&lt;/script&gt;\n    &lt;script src=&quot;https://cdnjs.cloudflare.com/ajax/libs/Leaflet.awesome-markers/2.0.2/leaflet.awesome-markers.js&quot;&gt;&lt;/script&gt;\n    &lt;link rel=&quot;stylesheet&quot; href=&quot;https://cdn.jsdelivr.net/npm/leaflet@1.9.3/dist/leaflet.css&quot;/&gt;\n    &lt;link rel=&quot;stylesheet&quot; href=&quot;https://cdn.jsdelivr.net/npm/bootstrap@5.2.2/dist/css/bootstrap.min.css&quot;/&gt;\n    &lt;link rel=&quot;stylesheet&quot; href=&quot;https://netdna.bootstrapcdn.com/bootstrap/3.0.0/css/bootstrap-glyphicons.css&quot;/&gt;\n    &lt;link rel=&quot;stylesheet&quot; href=&quot;https://cdn.jsdelivr.net/npm/@fortawesome/fontawesome-free@6.2.0/css/all.min.css&quot;/&gt;\n    &lt;link rel=&quot;stylesheet&quot; href=&quot;https://cdnjs.cloudflare.com/ajax/libs/Leaflet.awesome-markers/2.0.2/leaflet.awesome-markers.css&quot;/&gt;\n    &lt;link rel=&quot;stylesheet&quot; href=&quot;https://cdn.jsdelivr.net/gh/python-visualization/folium/folium/templates/leaflet.awesome.rotate.min.css&quot;/&gt;\n    \n            &lt;meta name=&quot;viewport&quot; content=&quot;width=device-width,\n                initial-scale=1.0, maximum-scale=1.0, user-scalable=no&quot; /&gt;\n            &lt;style&gt;\n                #map_41e2f7af18661beb7494c84e5ab1200f {\n                    position: relative;\n                    width: 100.0%;\n                    height: 100.0%;\n                    left: 0.0%;\n                    top: 0.0%;\n                }\n                .leaflet-container { font-size: 1rem; }\n            &lt;/style&gt;\n        \n&lt;/head&gt;\n&lt;body&gt;\n    \n    \n            &lt;div class=&quot;folium-map&quot; id=&quot;map_41e2f7af18661beb7494c84e5ab1200f&quot; &gt;&lt;/div&gt;\n        \n&lt;/body&gt;\n&lt;script&gt;\n    \n    \n            var map_41e2f7af18661beb7494c84e5ab1200f = L.map(\n                &quot;map_41e2f7af18661beb7494c84e5ab1200f&quot;,\n                {\n                    center: [29.559684888503615, -95.0830971930759],\n                    crs: L.CRS.EPSG3857,\n                    ...{\n  &quot;zoom&quot;: 5,\n  &quot;zoomControl&quot;: true,\n  &quot;preferCanvas&quot;: false,\n}\n\n                }\n            );\n\n            \n\n        \n    \n            var tile_layer_43d66e196a35c085757072ba3c8329c0 = L.tileLayer(\n                &quot;https://tile.openstreetmap.org/{z}/{x}/{y}.png&quot;,\n                {\n  &quot;minZoom&quot;: 0,\n  &quot;maxZoom&quot;: 19,\n  &quot;maxNativeZoom&quot;: 19,\n  &quot;noWrap&quot;: false,\n  &quot;attribution&quot;: &quot;\\u0026copy; \\u003ca href=\\&quot;https://www.openstreetmap.org/copyright\\&quot;\\u003eOpenStreetMap\\u003c/a\\u003e contributors&quot;,\n  &quot;subdomains&quot;: &quot;abc&quot;,\n  &quot;detectRetina&quot;: false,\n  &quot;tms&quot;: false,\n  &quot;opacity&quot;: 1,\n}\n\n            );\n        \n    \n            tile_layer_43d66e196a35c085757072ba3c8329c0.addTo(map_41e2f7af18661beb7494c84e5ab1200f);\n        \n    \n            var circle_marker_b4dcafe96c954cce0e6ecd263c30b067 = L.circleMarker(\n                [28.56230197, -80.57735648],\n                {&quot;bubblingMouseEvents&quot;: true, &quot;color&quot;: &quot;#000000&quot;, &quot;dashArray&quot;: null, &quot;dashOffset&quot;: null, &quot;fill&quot;: true, &quot;fillColor&quot;: &quot;#d3d3d3&quot;, &quot;fillOpacity&quot;: 0.7, &quot;fillRule&quot;: &quot;evenodd&quot;, &quot;lineCap&quot;: &quot;round&quot;, &quot;lineJoin&quot;: &quot;round&quot;, &quot;opacity&quot;: 1.0, &quot;radius&quot;: 10, &quot;stroke&quot;: true, &quot;weight&quot;: 3}\n            ).addTo(map_41e2f7af18661beb7494c84e5ab1200f);\n        \n    \n        var popup_86218d9356be348171e10f8f21f6b375 = L.popup({\n  &quot;maxWidth&quot;: &quot;100%&quot;,\n});\n\n        \n            \n                var html_2fe5653c7e56aae01dde8d10bf017be3 = $(`&lt;div id=&quot;html_2fe5653c7e56aae01dde8d10bf017be3&quot; style=&quot;width: 100.0%; height: 100.0%;&quot;&gt;CCAFS LC-40&lt;/div&gt;`)[0];\n                popup_86218d9356be348171e10f8f21f6b375.setContent(html_2fe5653c7e56aae01dde8d10bf017be3);\n            \n        \n\n        circle_marker_b4dcafe96c954cce0e6ecd263c30b067.bindPopup(popup_86218d9356be348171e10f8f21f6b375)\n        ;\n\n        \n    \n    \n            var circle_marker_5717118866b6805be317c3637264cc8e = L.circleMarker(\n                [28.56319718, -80.57682003],\n                {&quot;bubblingMouseEvents&quot;: true, &quot;color&quot;: &quot;#000000&quot;, &quot;dashArray&quot;: null, &quot;dashOffset&quot;: null, &quot;fill&quot;: true, &quot;fillColor&quot;: &quot;#d3d3d3&quot;, &quot;fillOpacity&quot;: 0.7, &quot;fillRule&quot;: &quot;evenodd&quot;, &quot;lineCap&quot;: &quot;round&quot;, &quot;lineJoin&quot;: &quot;round&quot;, &quot;opacity&quot;: 1.0, &quot;radius&quot;: 10, &quot;stroke&quot;: true, &quot;weight&quot;: 3}\n            ).addTo(map_41e2f7af18661beb7494c84e5ab1200f);\n        \n    \n        var popup_9514c29ba1050039e6198aba52f55c03 = L.popup({\n  &quot;maxWidth&quot;: &quot;100%&quot;,\n});\n\n        \n            \n                var html_f8e109817696e8251ff476602202fe92 = $(`&lt;div id=&quot;html_f8e109817696e8251ff476602202fe92&quot; style=&quot;width: 100.0%; height: 100.0%;&quot;&gt;CCAFS SLC-40&lt;/div&gt;`)[0];\n                popup_9514c29ba1050039e6198aba52f55c03.setContent(html_f8e109817696e8251ff476602202fe92);\n            \n        \n\n        circle_marker_5717118866b6805be317c3637264cc8e.bindPopup(popup_9514c29ba1050039e6198aba52f55c03)\n        ;\n\n        \n    \n    \n            var circle_marker_401a45ba5ec1ef00a7189b000d24d5ea = L.circleMarker(\n                [28.57325457, -80.64689529],\n                {&quot;bubblingMouseEvents&quot;: true, &quot;color&quot;: &quot;#000000&quot;, &quot;dashArray&quot;: null, &quot;dashOffset&quot;: null, &quot;fill&quot;: true, &quot;fillColor&quot;: &quot;#d3d3d3&quot;, &quot;fillOpacity&quot;: 0.7, &quot;fillRule&quot;: &quot;evenodd&quot;, &quot;lineCap&quot;: &quot;round&quot;, &quot;lineJoin&quot;: &quot;round&quot;, &quot;opacity&quot;: 1.0, &quot;radius&quot;: 10, &quot;stroke&quot;: true, &quot;weight&quot;: 3}\n            ).addTo(map_41e2f7af18661beb7494c84e5ab1200f);\n        \n    \n        var popup_b9fc9ddf630199cc7ae65f2b781ec3cf = L.popup({\n  &quot;maxWidth&quot;: &quot;100%&quot;,\n});\n\n        \n            \n                var html_407979118024588dfcb90d45524dd5ec = $(`&lt;div id=&quot;html_407979118024588dfcb90d45524dd5ec&quot; style=&quot;width: 100.0%; height: 100.0%;&quot;&gt;KSC LC-39A&lt;/div&gt;`)[0];\n                popup_b9fc9ddf630199cc7ae65f2b781ec3cf.setContent(html_407979118024588dfcb90d45524dd5ec);\n            \n        \n\n        circle_marker_401a45ba5ec1ef00a7189b000d24d5ea.bindPopup(popup_b9fc9ddf630199cc7ae65f2b781ec3cf)\n        ;\n\n        \n    \n    \n            var circle_marker_7319790d7ba268047d083b8ed4a50cfc = L.circleMarker(\n                [34.63283416, -120.6107455],\n                {&quot;bubblingMouseEvents&quot;: true, &quot;color&quot;: &quot;#000000&quot;, &quot;dashArray&quot;: null, &quot;dashOffset&quot;: null, &quot;fill&quot;: true, &quot;fillColor&quot;: &quot;#d3d3d3&quot;, &quot;fillOpacity&quot;: 0.7, &quot;fillRule&quot;: &quot;evenodd&quot;, &quot;lineCap&quot;: &quot;round&quot;, &quot;lineJoin&quot;: &quot;round&quot;, &quot;opacity&quot;: 1.0, &quot;radius&quot;: 10, &quot;stroke&quot;: true, &quot;weight&quot;: 3}\n            ).addTo(map_41e2f7af18661beb7494c84e5ab1200f);\n        \n    \n        var popup_b2df756d26b79b557e420803863555f4 = L.popup({\n  &quot;maxWidth&quot;: &quot;100%&quot;,\n});\n\n        \n            \n                var html_13cce5c78128d368672113975076413c = $(`&lt;div id=&quot;html_13cce5c78128d368672113975076413c&quot; style=&quot;width: 100.0%; height: 100.0%;&quot;&gt;VAFB SLC-4E&lt;/div&gt;`)[0];\n                popup_b2df756d26b79b557e420803863555f4.setContent(html_13cce5c78128d368672113975076413c);\n            \n        \n\n        circle_marker_7319790d7ba268047d083b8ed4a50cfc.bindPopup(popup_b2df756d26b79b557e420803863555f4)\n        ;\n\n        \n    \n&lt;/script&gt;\n&lt;/html&gt;\" style=\"position:absolute;width:100%;height:100%;left:0;top:0;border:none !important;\" allowfullscreen webkitallowfullscreen mozallowfullscreen></iframe></div></div>"
          },
          "metadata": {}
        }
      ],
      "execution_count": null
    },
    {
      "cell_type": "markdown",
      "source": [
        "The generated map with marked launch sites should look similar to the following:\n"
      ],
      "metadata": {
        "id": "6K5H_EYfoPhx"
      }
    },
    {
      "cell_type": "markdown",
      "source": [
        "<center>\n",
        "    <img src=\"https://cf-courses-data.s3.us.cloud-object-storage.appdomain.cloud/IBM-DS0321EN-SkillsNetwork/labs/module_3/images/launch_site_markers.png\">\n",
        "</center>\n"
      ],
      "metadata": {
        "id": "X_HvSOoaoPhx"
      }
    },
    {
      "cell_type": "markdown",
      "source": [
        "Now, you can explore the map by zoom-in/out the marked areas\n",
        ", and try to answer the following questions:\n",
        "\n",
        "*   Are all launch sites in proximity to the Equator line?\n",
        "*   Are all launch sites in very close proximity to the coast?\n",
        "\n",
        "Also please try to explain your findings.\n"
      ],
      "metadata": {
        "id": "v2SeyJ2woPhx"
      }
    },
    {
      "cell_type": "markdown",
      "source": [
        "# Task 2: Mark the success/failed launches for each site on the map\n"
      ],
      "metadata": {
        "id": "PvachK3RoPhy"
      }
    },
    {
      "cell_type": "markdown",
      "source": [
        "Next, let's try to enhance the map by adding the launch outcomes for each site, and see which sites have high success rates.\n",
        "Recall that data frame spacex_df has detailed launch records, and the `class` column indicates if this launch was successful or not\n"
      ],
      "metadata": {
        "id": "gACqC8xfoPhy"
      }
    },
    {
      "cell_type": "code",
      "source": [
        "spacex_df.tail(10)"
      ],
      "metadata": {
        "trusted": true,
        "id": "Kj6DCH1goPhy",
        "outputId": "0a368f67-70f3-49f1-b829-2656aff388fa"
      },
      "outputs": [
        {
          "execution_count": 9,
          "output_type": "execute_result",
          "data": {
            "text/plain": "     Launch Site        Lat       Long  class\n46    KSC LC-39A  28.573255 -80.646895      1\n47    KSC LC-39A  28.573255 -80.646895      1\n48    KSC LC-39A  28.573255 -80.646895      1\n49  CCAFS SLC-40  28.563197 -80.576820      1\n50  CCAFS SLC-40  28.563197 -80.576820      1\n51  CCAFS SLC-40  28.563197 -80.576820      0\n52  CCAFS SLC-40  28.563197 -80.576820      0\n53  CCAFS SLC-40  28.563197 -80.576820      0\n54  CCAFS SLC-40  28.563197 -80.576820      1\n55  CCAFS SLC-40  28.563197 -80.576820      0",
            "text/html": "<div>\n<style scoped>\n    .dataframe tbody tr th:only-of-type {\n        vertical-align: middle;\n    }\n\n    .dataframe tbody tr th {\n        vertical-align: top;\n    }\n\n    .dataframe thead th {\n        text-align: right;\n    }\n</style>\n<table border=\"1\" class=\"dataframe\">\n  <thead>\n    <tr style=\"text-align: right;\">\n      <th></th>\n      <th>Launch Site</th>\n      <th>Lat</th>\n      <th>Long</th>\n      <th>class</th>\n    </tr>\n  </thead>\n  <tbody>\n    <tr>\n      <th>46</th>\n      <td>KSC LC-39A</td>\n      <td>28.573255</td>\n      <td>-80.646895</td>\n      <td>1</td>\n    </tr>\n    <tr>\n      <th>47</th>\n      <td>KSC LC-39A</td>\n      <td>28.573255</td>\n      <td>-80.646895</td>\n      <td>1</td>\n    </tr>\n    <tr>\n      <th>48</th>\n      <td>KSC LC-39A</td>\n      <td>28.573255</td>\n      <td>-80.646895</td>\n      <td>1</td>\n    </tr>\n    <tr>\n      <th>49</th>\n      <td>CCAFS SLC-40</td>\n      <td>28.563197</td>\n      <td>-80.576820</td>\n      <td>1</td>\n    </tr>\n    <tr>\n      <th>50</th>\n      <td>CCAFS SLC-40</td>\n      <td>28.563197</td>\n      <td>-80.576820</td>\n      <td>1</td>\n    </tr>\n    <tr>\n      <th>51</th>\n      <td>CCAFS SLC-40</td>\n      <td>28.563197</td>\n      <td>-80.576820</td>\n      <td>0</td>\n    </tr>\n    <tr>\n      <th>52</th>\n      <td>CCAFS SLC-40</td>\n      <td>28.563197</td>\n      <td>-80.576820</td>\n      <td>0</td>\n    </tr>\n    <tr>\n      <th>53</th>\n      <td>CCAFS SLC-40</td>\n      <td>28.563197</td>\n      <td>-80.576820</td>\n      <td>0</td>\n    </tr>\n    <tr>\n      <th>54</th>\n      <td>CCAFS SLC-40</td>\n      <td>28.563197</td>\n      <td>-80.576820</td>\n      <td>1</td>\n    </tr>\n    <tr>\n      <th>55</th>\n      <td>CCAFS SLC-40</td>\n      <td>28.563197</td>\n      <td>-80.576820</td>\n      <td>0</td>\n    </tr>\n  </tbody>\n</table>\n</div>"
          },
          "metadata": {}
        }
      ],
      "execution_count": null
    },
    {
      "cell_type": "markdown",
      "source": [
        "Next, let's create markers for all launch records.\n",
        "If a launch was successful `(class=1)`, then we use a green marker and if a launch was failed, we use a red marker `(class=0)`\n"
      ],
      "metadata": {
        "id": "3Bg1eM19oPhy"
      }
    },
    {
      "cell_type": "markdown",
      "source": [
        "Note that a launch only happens in one of the four launch sites, which means many launch records will have the exact same coordinate. Marker clusters can be a good way to simplify a map containing many markers having the same coordinate.\n"
      ],
      "metadata": {
        "id": "koO8BqzzoPh4"
      }
    },
    {
      "cell_type": "markdown",
      "source": [
        "Let's first create a `MarkerCluster` object\n"
      ],
      "metadata": {
        "id": "s3V-IluxoPh4"
      }
    },
    {
      "cell_type": "code",
      "source": [
        "marker_cluster = MarkerCluster()\n"
      ],
      "metadata": {
        "trusted": true,
        "id": "2SzAHOPRoPh4"
      },
      "outputs": [],
      "execution_count": null
    },
    {
      "cell_type": "markdown",
      "source": [
        "*TODO:* Create a new column in `spacex_df` dataframe called `marker_color` to store the marker colors based on the `class` value\n"
      ],
      "metadata": {
        "id": "txSNHxcvoPh4"
      }
    },
    {
      "cell_type": "code",
      "source": [
        "print(spacex_df.info())\n",
        "print(spacex_df.head())"
      ],
      "metadata": {
        "trusted": true,
        "id": "CJIhmy1goPh4",
        "outputId": "ea839c65-064b-43ec-cfed-f17c8a6980df"
      },
      "outputs": [
        {
          "name": "stdout",
          "text": "<class 'pandas.core.frame.DataFrame'>\nRangeIndex: 56 entries, 0 to 55\nData columns (total 4 columns):\n #   Column       Non-Null Count  Dtype  \n---  ------       --------------  -----  \n 0   Launch Site  56 non-null     object \n 1   Lat          56 non-null     float64\n 2   Long         56 non-null     float64\n 3   class        56 non-null     int64  \ndtypes: float64(2), int64(1), object(1)\nmemory usage: 1.6+ KB\nNone\n   Launch Site        Lat       Long  class\n0  CCAFS LC-40  28.562302 -80.577356      0\n1  CCAFS LC-40  28.562302 -80.577356      0\n2  CCAFS LC-40  28.562302 -80.577356      0\n3  CCAFS LC-40  28.562302 -80.577356      0\n4  CCAFS LC-40  28.562302 -80.577356      0\n",
          "output_type": "stream"
        }
      ],
      "execution_count": null
    },
    {
      "cell_type": "code",
      "source": [
        "\n",
        "# Apply a function to check the value of `class` column\n",
        "# If class=1, marker_color value will be green\n",
        "# If class=0, marker_color value will be red\n",
        "\n",
        "def assign_marker_color(launch_class):\n",
        "    if launch_class == 1:\n",
        "        return 'green'\n",
        "    else:\n",
        "        return 'red'\n",
        "\n",
        "spacex_df['marker_color'] = spacex_df['class'].apply(assign_marker_color)\n",
        "\n",
        "print(spacex_df.head())  # Print the updated DataFrame to verify"
      ],
      "metadata": {
        "trusted": true,
        "id": "E6ZL2ckJoPh5",
        "outputId": "74806543-d94c-4cd3-8802-1804799b0980"
      },
      "outputs": [
        {
          "name": "stdout",
          "text": "   Launch Site        Lat       Long  class marker_color\n0  CCAFS LC-40  28.562302 -80.577356      0          red\n1  CCAFS LC-40  28.562302 -80.577356      0          red\n2  CCAFS LC-40  28.562302 -80.577356      0          red\n3  CCAFS LC-40  28.562302 -80.577356      0          red\n4  CCAFS LC-40  28.562302 -80.577356      0          red\n",
          "output_type": "stream"
        }
      ],
      "execution_count": null
    },
    {
      "cell_type": "markdown",
      "source": [
        "*TODO:* For each launch result in `spacex_df` data frame, add a `folium.Marker` to `marker_cluster`\n"
      ],
      "metadata": {
        "id": "Ql5_3WUVoPh5"
      }
    },
    {
      "cell_type": "code",
      "source": [
        "spacex_df.iterrows"
      ],
      "metadata": {
        "trusted": true,
        "id": "ZaEJUBP4oPh5",
        "outputId": "3f652a8f-b362-4597-a550-b6d9a315ea98"
      },
      "outputs": [
        {
          "execution_count": 14,
          "output_type": "execute_result",
          "data": {
            "text/plain": "<bound method DataFrame.iterrows of      Launch Site        Lat        Long  class marker_color\n0    CCAFS LC-40  28.562302  -80.577356      0          red\n1    CCAFS LC-40  28.562302  -80.577356      0          red\n2    CCAFS LC-40  28.562302  -80.577356      0          red\n3    CCAFS LC-40  28.562302  -80.577356      0          red\n4    CCAFS LC-40  28.562302  -80.577356      0          red\n5    CCAFS LC-40  28.562302  -80.577356      0          red\n6    CCAFS LC-40  28.562302  -80.577356      0          red\n7    CCAFS LC-40  28.562302  -80.577356      0          red\n8    CCAFS LC-40  28.562302  -80.577356      0          red\n9    CCAFS LC-40  28.562302  -80.577356      0          red\n10   CCAFS LC-40  28.562302  -80.577356      0          red\n11   CCAFS LC-40  28.562302  -80.577356      0          red\n12   CCAFS LC-40  28.562302  -80.577356      0          red\n13   CCAFS LC-40  28.562302  -80.577356      0          red\n14   CCAFS LC-40  28.562302  -80.577356      0          red\n15   CCAFS LC-40  28.562302  -80.577356      0          red\n16   CCAFS LC-40  28.562302  -80.577356      0          red\n17   CCAFS LC-40  28.562302  -80.577356      1        green\n18   CCAFS LC-40  28.562302  -80.577356      1        green\n19   CCAFS LC-40  28.562302  -80.577356      0          red\n20   CCAFS LC-40  28.562302  -80.577356      1        green\n21   CCAFS LC-40  28.562302  -80.577356      1        green\n22   CCAFS LC-40  28.562302  -80.577356      1        green\n23   CCAFS LC-40  28.562302  -80.577356      0          red\n24   CCAFS LC-40  28.562302  -80.577356      1        green\n25   CCAFS LC-40  28.562302  -80.577356      1        green\n26   VAFB SLC-4E  34.632834 -120.610745      0          red\n27   VAFB SLC-4E  34.632834 -120.610745      0          red\n28   VAFB SLC-4E  34.632834 -120.610745      1        green\n29   VAFB SLC-4E  34.632834 -120.610745      1        green\n30   VAFB SLC-4E  34.632834 -120.610745      1        green\n31   VAFB SLC-4E  34.632834 -120.610745      1        green\n32   VAFB SLC-4E  34.632834 -120.610745      0          red\n33   VAFB SLC-4E  34.632834 -120.610745      0          red\n34   VAFB SLC-4E  34.632834 -120.610745      0          red\n35   VAFB SLC-4E  34.632834 -120.610745      0          red\n36    KSC LC-39A  28.573255  -80.646895      1        green\n37    KSC LC-39A  28.573255  -80.646895      0          red\n38    KSC LC-39A  28.573255  -80.646895      1        green\n39    KSC LC-39A  28.573255  -80.646895      1        green\n40    KSC LC-39A  28.573255  -80.646895      0          red\n41    KSC LC-39A  28.573255  -80.646895      1        green\n42    KSC LC-39A  28.573255  -80.646895      1        green\n43    KSC LC-39A  28.573255  -80.646895      0          red\n44    KSC LC-39A  28.573255  -80.646895      1        green\n45    KSC LC-39A  28.573255  -80.646895      1        green\n46    KSC LC-39A  28.573255  -80.646895      1        green\n47    KSC LC-39A  28.573255  -80.646895      1        green\n48    KSC LC-39A  28.573255  -80.646895      1        green\n49  CCAFS SLC-40  28.563197  -80.576820      1        green\n50  CCAFS SLC-40  28.563197  -80.576820      1        green\n51  CCAFS SLC-40  28.563197  -80.576820      0          red\n52  CCAFS SLC-40  28.563197  -80.576820      0          red\n53  CCAFS SLC-40  28.563197  -80.576820      0          red\n54  CCAFS SLC-40  28.563197  -80.576820      1        green\n55  CCAFS SLC-40  28.563197  -80.576820      0          red>"
          },
          "metadata": {}
        }
      ],
      "execution_count": null
    },
    {
      "cell_type": "code",
      "source": [
        "# Add marker_cluster to current site_map\n",
        "site_map.add_child(marker_cluster)\n",
        "\n",
        "# for each row in spacex_df data frame\n",
        "# create a Marker object with its coordinate\n",
        "# and customize the Marker's icon property to indicate if this launch was successed or failed,\n",
        "# e.g., icon=folium.Icon(color='white', icon_color=row['marker_color']\n",
        "for index, record in spacex_df.iterrows():\n",
        "    # TODO: Create and add a Marker cluster to the site map\n",
        "    # marker = folium.Marker(...)\n",
        "    lat = record['Lat']\n",
        "    long = record['Long']\n",
        "    marker_color = record['marker_color']\n",
        "    launch_site = record['Launch Site'] # Add launch site to popup\n",
        "\n",
        "    marker = folium.Marker(\n",
        "        location=[lat, long],\n",
        "        icon=folium.Icon(color='white', icon_color=marker_color),  # Use marker_color\n",
        "        popup=launch_site # Add launch site to popup\n",
        "    )\n",
        "\n",
        "    marker_cluster.add_child(marker)\n",
        "\n",
        "site_map"
      ],
      "metadata": {
        "trusted": true,
        "id": "GbGXoekgoPh5",
        "outputId": "3734472d-90b9-484b-a5a5-76875f00cafd"
      },
      "outputs": [
        {
          "execution_count": 15,
          "output_type": "execute_result",
          "data": {
            "text/plain": "<folium.folium.Map at 0x5dec608>",
            "text/html": "<div style=\"width:100%;\"><div style=\"position:relative;width:100%;height:0;padding-bottom:60%;\"><span style=\"color:#565656\">Make this Notebook Trusted to load map: File -> Trust Notebook</span><iframe srcdoc=\"&lt;!DOCTYPE html&gt;\n&lt;html&gt;\n&lt;head&gt;\n    \n    &lt;meta http-equiv=&quot;content-type&quot; content=&quot;text/html; charset=UTF-8&quot; /&gt;\n    \n        &lt;script&gt;\n            L_NO_TOUCH = false;\n            L_DISABLE_3D = false;\n        &lt;/script&gt;\n    \n    &lt;style&gt;html, body {width: 100%;height: 100%;margin: 0;padding: 0;}&lt;/style&gt;\n    &lt;style&gt;#map {position:absolute;top:0;bottom:0;right:0;left:0;}&lt;/style&gt;\n    &lt;script src=&quot;https://cdn.jsdelivr.net/npm/leaflet@1.9.3/dist/leaflet.js&quot;&gt;&lt;/script&gt;\n    &lt;script src=&quot;https://code.jquery.com/jquery-3.7.1.min.js&quot;&gt;&lt;/script&gt;\n    &lt;script src=&quot;https://cdn.jsdelivr.net/npm/bootstrap@5.2.2/dist/js/bootstrap.bundle.min.js&quot;&gt;&lt;/script&gt;\n    &lt;script src=&quot;https://cdnjs.cloudflare.com/ajax/libs/Leaflet.awesome-markers/2.0.2/leaflet.awesome-markers.js&quot;&gt;&lt;/script&gt;\n    &lt;link rel=&quot;stylesheet&quot; href=&quot;https://cdn.jsdelivr.net/npm/leaflet@1.9.3/dist/leaflet.css&quot;/&gt;\n    &lt;link rel=&quot;stylesheet&quot; href=&quot;https://cdn.jsdelivr.net/npm/bootstrap@5.2.2/dist/css/bootstrap.min.css&quot;/&gt;\n    &lt;link rel=&quot;stylesheet&quot; href=&quot;https://netdna.bootstrapcdn.com/bootstrap/3.0.0/css/bootstrap-glyphicons.css&quot;/&gt;\n    &lt;link rel=&quot;stylesheet&quot; href=&quot;https://cdn.jsdelivr.net/npm/@fortawesome/fontawesome-free@6.2.0/css/all.min.css&quot;/&gt;\n    &lt;link rel=&quot;stylesheet&quot; href=&quot;https://cdnjs.cloudflare.com/ajax/libs/Leaflet.awesome-markers/2.0.2/leaflet.awesome-markers.css&quot;/&gt;\n    &lt;link rel=&quot;stylesheet&quot; href=&quot;https://cdn.jsdelivr.net/gh/python-visualization/folium/folium/templates/leaflet.awesome.rotate.min.css&quot;/&gt;\n    \n            &lt;meta name=&quot;viewport&quot; content=&quot;width=device-width,\n                initial-scale=1.0, maximum-scale=1.0, user-scalable=no&quot; /&gt;\n            &lt;style&gt;\n                #map_41e2f7af18661beb7494c84e5ab1200f {\n                    position: relative;\n                    width: 100.0%;\n                    height: 100.0%;\n                    left: 0.0%;\n                    top: 0.0%;\n                }\n                .leaflet-container { font-size: 1rem; }\n            &lt;/style&gt;\n        \n    &lt;script src=&quot;https://cdnjs.cloudflare.com/ajax/libs/leaflet.markercluster/1.1.0/leaflet.markercluster.js&quot;&gt;&lt;/script&gt;\n    &lt;link rel=&quot;stylesheet&quot; href=&quot;https://cdnjs.cloudflare.com/ajax/libs/leaflet.markercluster/1.1.0/MarkerCluster.css&quot;/&gt;\n    &lt;link rel=&quot;stylesheet&quot; href=&quot;https://cdnjs.cloudflare.com/ajax/libs/leaflet.markercluster/1.1.0/MarkerCluster.Default.css&quot;/&gt;\n&lt;/head&gt;\n&lt;body&gt;\n    \n    \n            &lt;div class=&quot;folium-map&quot; id=&quot;map_41e2f7af18661beb7494c84e5ab1200f&quot; &gt;&lt;/div&gt;\n        \n&lt;/body&gt;\n&lt;script&gt;\n    \n    \n            var map_41e2f7af18661beb7494c84e5ab1200f = L.map(\n                &quot;map_41e2f7af18661beb7494c84e5ab1200f&quot;,\n                {\n                    center: [29.559684888503615, -95.0830971930759],\n                    crs: L.CRS.EPSG3857,\n                    ...{\n  &quot;zoom&quot;: 5,\n  &quot;zoomControl&quot;: true,\n  &quot;preferCanvas&quot;: false,\n}\n\n                }\n            );\n\n            \n\n        \n    \n            var tile_layer_43d66e196a35c085757072ba3c8329c0 = L.tileLayer(\n                &quot;https://tile.openstreetmap.org/{z}/{x}/{y}.png&quot;,\n                {\n  &quot;minZoom&quot;: 0,\n  &quot;maxZoom&quot;: 19,\n  &quot;maxNativeZoom&quot;: 19,\n  &quot;noWrap&quot;: false,\n  &quot;attribution&quot;: &quot;\\u0026copy; \\u003ca href=\\&quot;https://www.openstreetmap.org/copyright\\&quot;\\u003eOpenStreetMap\\u003c/a\\u003e contributors&quot;,\n  &quot;subdomains&quot;: &quot;abc&quot;,\n  &quot;detectRetina&quot;: false,\n  &quot;tms&quot;: false,\n  &quot;opacity&quot;: 1,\n}\n\n            );\n        \n    \n            tile_layer_43d66e196a35c085757072ba3c8329c0.addTo(map_41e2f7af18661beb7494c84e5ab1200f);\n        \n    \n            var circle_marker_b4dcafe96c954cce0e6ecd263c30b067 = L.circleMarker(\n                [28.56230197, -80.57735648],\n                {&quot;bubblingMouseEvents&quot;: true, &quot;color&quot;: &quot;#000000&quot;, &quot;dashArray&quot;: null, &quot;dashOffset&quot;: null, &quot;fill&quot;: true, &quot;fillColor&quot;: &quot;#d3d3d3&quot;, &quot;fillOpacity&quot;: 0.7, &quot;fillRule&quot;: &quot;evenodd&quot;, &quot;lineCap&quot;: &quot;round&quot;, &quot;lineJoin&quot;: &quot;round&quot;, &quot;opacity&quot;: 1.0, &quot;radius&quot;: 10, &quot;stroke&quot;: true, &quot;weight&quot;: 3}\n            ).addTo(map_41e2f7af18661beb7494c84e5ab1200f);\n        \n    \n        var popup_86218d9356be348171e10f8f21f6b375 = L.popup({\n  &quot;maxWidth&quot;: &quot;100%&quot;,\n});\n\n        \n            \n                var html_2fe5653c7e56aae01dde8d10bf017be3 = $(`&lt;div id=&quot;html_2fe5653c7e56aae01dde8d10bf017be3&quot; style=&quot;width: 100.0%; height: 100.0%;&quot;&gt;CCAFS LC-40&lt;/div&gt;`)[0];\n                popup_86218d9356be348171e10f8f21f6b375.setContent(html_2fe5653c7e56aae01dde8d10bf017be3);\n            \n        \n\n        circle_marker_b4dcafe96c954cce0e6ecd263c30b067.bindPopup(popup_86218d9356be348171e10f8f21f6b375)\n        ;\n\n        \n    \n    \n            var circle_marker_5717118866b6805be317c3637264cc8e = L.circleMarker(\n                [28.56319718, -80.57682003],\n                {&quot;bubblingMouseEvents&quot;: true, &quot;color&quot;: &quot;#000000&quot;, &quot;dashArray&quot;: null, &quot;dashOffset&quot;: null, &quot;fill&quot;: true, &quot;fillColor&quot;: &quot;#d3d3d3&quot;, &quot;fillOpacity&quot;: 0.7, &quot;fillRule&quot;: &quot;evenodd&quot;, &quot;lineCap&quot;: &quot;round&quot;, &quot;lineJoin&quot;: &quot;round&quot;, &quot;opacity&quot;: 1.0, &quot;radius&quot;: 10, &quot;stroke&quot;: true, &quot;weight&quot;: 3}\n            ).addTo(map_41e2f7af18661beb7494c84e5ab1200f);\n        \n    \n        var popup_9514c29ba1050039e6198aba52f55c03 = L.popup({\n  &quot;maxWidth&quot;: &quot;100%&quot;,\n});\n\n        \n            \n                var html_f8e109817696e8251ff476602202fe92 = $(`&lt;div id=&quot;html_f8e109817696e8251ff476602202fe92&quot; style=&quot;width: 100.0%; height: 100.0%;&quot;&gt;CCAFS SLC-40&lt;/div&gt;`)[0];\n                popup_9514c29ba1050039e6198aba52f55c03.setContent(html_f8e109817696e8251ff476602202fe92);\n            \n        \n\n        circle_marker_5717118866b6805be317c3637264cc8e.bindPopup(popup_9514c29ba1050039e6198aba52f55c03)\n        ;\n\n        \n    \n    \n            var circle_marker_401a45ba5ec1ef00a7189b000d24d5ea = L.circleMarker(\n                [28.57325457, -80.64689529],\n                {&quot;bubblingMouseEvents&quot;: true, &quot;color&quot;: &quot;#000000&quot;, &quot;dashArray&quot;: null, &quot;dashOffset&quot;: null, &quot;fill&quot;: true, &quot;fillColor&quot;: &quot;#d3d3d3&quot;, &quot;fillOpacity&quot;: 0.7, &quot;fillRule&quot;: &quot;evenodd&quot;, &quot;lineCap&quot;: &quot;round&quot;, &quot;lineJoin&quot;: &quot;round&quot;, &quot;opacity&quot;: 1.0, &quot;radius&quot;: 10, &quot;stroke&quot;: true, &quot;weight&quot;: 3}\n            ).addTo(map_41e2f7af18661beb7494c84e5ab1200f);\n        \n    \n        var popup_b9fc9ddf630199cc7ae65f2b781ec3cf = L.popup({\n  &quot;maxWidth&quot;: &quot;100%&quot;,\n});\n\n        \n            \n                var html_407979118024588dfcb90d45524dd5ec = $(`&lt;div id=&quot;html_407979118024588dfcb90d45524dd5ec&quot; style=&quot;width: 100.0%; height: 100.0%;&quot;&gt;KSC LC-39A&lt;/div&gt;`)[0];\n                popup_b9fc9ddf630199cc7ae65f2b781ec3cf.setContent(html_407979118024588dfcb90d45524dd5ec);\n            \n        \n\n        circle_marker_401a45ba5ec1ef00a7189b000d24d5ea.bindPopup(popup_b9fc9ddf630199cc7ae65f2b781ec3cf)\n        ;\n\n        \n    \n    \n            var circle_marker_7319790d7ba268047d083b8ed4a50cfc = L.circleMarker(\n                [34.63283416, -120.6107455],\n                {&quot;bubblingMouseEvents&quot;: true, &quot;color&quot;: &quot;#000000&quot;, &quot;dashArray&quot;: null, &quot;dashOffset&quot;: null, &quot;fill&quot;: true, &quot;fillColor&quot;: &quot;#d3d3d3&quot;, &quot;fillOpacity&quot;: 0.7, &quot;fillRule&quot;: &quot;evenodd&quot;, &quot;lineCap&quot;: &quot;round&quot;, &quot;lineJoin&quot;: &quot;round&quot;, &quot;opacity&quot;: 1.0, &quot;radius&quot;: 10, &quot;stroke&quot;: true, &quot;weight&quot;: 3}\n            ).addTo(map_41e2f7af18661beb7494c84e5ab1200f);\n        \n    \n        var popup_b2df756d26b79b557e420803863555f4 = L.popup({\n  &quot;maxWidth&quot;: &quot;100%&quot;,\n});\n\n        \n            \n                var html_13cce5c78128d368672113975076413c = $(`&lt;div id=&quot;html_13cce5c78128d368672113975076413c&quot; style=&quot;width: 100.0%; height: 100.0%;&quot;&gt;VAFB SLC-4E&lt;/div&gt;`)[0];\n                popup_b2df756d26b79b557e420803863555f4.setContent(html_13cce5c78128d368672113975076413c);\n            \n        \n\n        circle_marker_7319790d7ba268047d083b8ed4a50cfc.bindPopup(popup_b2df756d26b79b557e420803863555f4)\n        ;\n\n        \n    \n    \n            tile_layer_43d66e196a35c085757072ba3c8329c0.addTo(map_41e2f7af18661beb7494c84e5ab1200f);\n        \n    \n            var marker_cluster_e890c4b6da47ec87e2ed96c3e3fb62d8 = L.markerClusterGroup(\n                {\n}\n            );\n        \n    \n            var marker_a5f69ffa9900abc42c8860495499d567 = L.marker(\n                [28.56230197, -80.57735648],\n                {\n}\n            ).addTo(marker_cluster_e890c4b6da47ec87e2ed96c3e3fb62d8);\n        \n    \n            var icon_1922365e10318d3ab51ae7656b877e22 = L.AwesomeMarkers.icon(\n                {\n  &quot;markerColor&quot;: &quot;white&quot;,\n  &quot;iconColor&quot;: &quot;red&quot;,\n  &quot;icon&quot;: &quot;info-sign&quot;,\n  &quot;prefix&quot;: &quot;glyphicon&quot;,\n  &quot;extraClasses&quot;: &quot;fa-rotate-0&quot;,\n}\n            );\n            marker_a5f69ffa9900abc42c8860495499d567.setIcon(icon_1922365e10318d3ab51ae7656b877e22);\n        \n    \n        var popup_24950d6a2c5dcca9b8c91884103712df = L.popup({\n  &quot;maxWidth&quot;: &quot;100%&quot;,\n});\n\n        \n            \n                var html_6b7586bbaaa11d9c47918ed351015786 = $(`&lt;div id=&quot;html_6b7586bbaaa11d9c47918ed351015786&quot; style=&quot;width: 100.0%; height: 100.0%;&quot;&gt;CCAFS LC-40&lt;/div&gt;`)[0];\n                popup_24950d6a2c5dcca9b8c91884103712df.setContent(html_6b7586bbaaa11d9c47918ed351015786);\n            \n        \n\n        marker_a5f69ffa9900abc42c8860495499d567.bindPopup(popup_24950d6a2c5dcca9b8c91884103712df)\n        ;\n\n        \n    \n    \n            var marker_d39c4191c7ec2d1791d7b874dca4f3c7 = L.marker(\n                [28.56230197, -80.57735648],\n                {\n}\n            ).addTo(marker_cluster_e890c4b6da47ec87e2ed96c3e3fb62d8);\n        \n    \n            var icon_2630d6d54fd7429316402c46461c956b = L.AwesomeMarkers.icon(\n                {\n  &quot;markerColor&quot;: &quot;white&quot;,\n  &quot;iconColor&quot;: &quot;red&quot;,\n  &quot;icon&quot;: &quot;info-sign&quot;,\n  &quot;prefix&quot;: &quot;glyphicon&quot;,\n  &quot;extraClasses&quot;: &quot;fa-rotate-0&quot;,\n}\n            );\n            marker_d39c4191c7ec2d1791d7b874dca4f3c7.setIcon(icon_2630d6d54fd7429316402c46461c956b);\n        \n    \n        var popup_c374d6ccf777e69d842a95a514648be2 = L.popup({\n  &quot;maxWidth&quot;: &quot;100%&quot;,\n});\n\n        \n            \n                var html_ee93b2c172df1ecf1bfbb25630ae4520 = $(`&lt;div id=&quot;html_ee93b2c172df1ecf1bfbb25630ae4520&quot; style=&quot;width: 100.0%; height: 100.0%;&quot;&gt;CCAFS LC-40&lt;/div&gt;`)[0];\n                popup_c374d6ccf777e69d842a95a514648be2.setContent(html_ee93b2c172df1ecf1bfbb25630ae4520);\n            \n        \n\n        marker_d39c4191c7ec2d1791d7b874dca4f3c7.bindPopup(popup_c374d6ccf777e69d842a95a514648be2)\n        ;\n\n        \n    \n    \n            var marker_2771ef8a991021213c82e26cbd22a6c2 = L.marker(\n                [28.56230197, -80.57735648],\n                {\n}\n            ).addTo(marker_cluster_e890c4b6da47ec87e2ed96c3e3fb62d8);\n        \n    \n            var icon_772efb1111690234118bd7cdb4de2c26 = L.AwesomeMarkers.icon(\n                {\n  &quot;markerColor&quot;: &quot;white&quot;,\n  &quot;iconColor&quot;: &quot;red&quot;,\n  &quot;icon&quot;: &quot;info-sign&quot;,\n  &quot;prefix&quot;: &quot;glyphicon&quot;,\n  &quot;extraClasses&quot;: &quot;fa-rotate-0&quot;,\n}\n            );\n            marker_2771ef8a991021213c82e26cbd22a6c2.setIcon(icon_772efb1111690234118bd7cdb4de2c26);\n        \n    \n        var popup_7125a8818e424f20da21a9a92dee4760 = L.popup({\n  &quot;maxWidth&quot;: &quot;100%&quot;,\n});\n\n        \n            \n                var html_25f98bc035e160b9ff04852bf47b377b = $(`&lt;div id=&quot;html_25f98bc035e160b9ff04852bf47b377b&quot; style=&quot;width: 100.0%; height: 100.0%;&quot;&gt;CCAFS LC-40&lt;/div&gt;`)[0];\n                popup_7125a8818e424f20da21a9a92dee4760.setContent(html_25f98bc035e160b9ff04852bf47b377b);\n            \n        \n\n        marker_2771ef8a991021213c82e26cbd22a6c2.bindPopup(popup_7125a8818e424f20da21a9a92dee4760)\n        ;\n\n        \n    \n    \n            var marker_914f85b7b0510affc22deacaf68ca887 = L.marker(\n                [28.56230197, -80.57735648],\n                {\n}\n            ).addTo(marker_cluster_e890c4b6da47ec87e2ed96c3e3fb62d8);\n        \n    \n            var icon_46a28585487d214602a9f04590284b6c = L.AwesomeMarkers.icon(\n                {\n  &quot;markerColor&quot;: &quot;white&quot;,\n  &quot;iconColor&quot;: &quot;red&quot;,\n  &quot;icon&quot;: &quot;info-sign&quot;,\n  &quot;prefix&quot;: &quot;glyphicon&quot;,\n  &quot;extraClasses&quot;: &quot;fa-rotate-0&quot;,\n}\n            );\n            marker_914f85b7b0510affc22deacaf68ca887.setIcon(icon_46a28585487d214602a9f04590284b6c);\n        \n    \n        var popup_36a480b8a3da66cab55da145db58a5a4 = L.popup({\n  &quot;maxWidth&quot;: &quot;100%&quot;,\n});\n\n        \n            \n                var html_e7dbca6d108320c141747469aa14020a = $(`&lt;div id=&quot;html_e7dbca6d108320c141747469aa14020a&quot; style=&quot;width: 100.0%; height: 100.0%;&quot;&gt;CCAFS LC-40&lt;/div&gt;`)[0];\n                popup_36a480b8a3da66cab55da145db58a5a4.setContent(html_e7dbca6d108320c141747469aa14020a);\n            \n        \n\n        marker_914f85b7b0510affc22deacaf68ca887.bindPopup(popup_36a480b8a3da66cab55da145db58a5a4)\n        ;\n\n        \n    \n    \n            var marker_c06f650c1d988a2c0bce0780a7e031d8 = L.marker(\n                [28.56230197, -80.57735648],\n                {\n}\n            ).addTo(marker_cluster_e890c4b6da47ec87e2ed96c3e3fb62d8);\n        \n    \n            var icon_281b797f82938302d2fc19598e2f37b4 = L.AwesomeMarkers.icon(\n                {\n  &quot;markerColor&quot;: &quot;white&quot;,\n  &quot;iconColor&quot;: &quot;red&quot;,\n  &quot;icon&quot;: &quot;info-sign&quot;,\n  &quot;prefix&quot;: &quot;glyphicon&quot;,\n  &quot;extraClasses&quot;: &quot;fa-rotate-0&quot;,\n}\n            );\n            marker_c06f650c1d988a2c0bce0780a7e031d8.setIcon(icon_281b797f82938302d2fc19598e2f37b4);\n        \n    \n        var popup_1692da367611de372dca71a68dbbfa23 = L.popup({\n  &quot;maxWidth&quot;: &quot;100%&quot;,\n});\n\n        \n            \n                var html_36180671d05fcc62b07aca01dc6c26cf = $(`&lt;div id=&quot;html_36180671d05fcc62b07aca01dc6c26cf&quot; style=&quot;width: 100.0%; height: 100.0%;&quot;&gt;CCAFS LC-40&lt;/div&gt;`)[0];\n                popup_1692da367611de372dca71a68dbbfa23.setContent(html_36180671d05fcc62b07aca01dc6c26cf);\n            \n        \n\n        marker_c06f650c1d988a2c0bce0780a7e031d8.bindPopup(popup_1692da367611de372dca71a68dbbfa23)\n        ;\n\n        \n    \n    \n            var marker_536045824e0dba26523417e439820f12 = L.marker(\n                [28.56230197, -80.57735648],\n                {\n}\n            ).addTo(marker_cluster_e890c4b6da47ec87e2ed96c3e3fb62d8);\n        \n    \n            var icon_3b8299cc1f9868eb5b0e614cb23eb0f5 = L.AwesomeMarkers.icon(\n                {\n  &quot;markerColor&quot;: &quot;white&quot;,\n  &quot;iconColor&quot;: &quot;red&quot;,\n  &quot;icon&quot;: &quot;info-sign&quot;,\n  &quot;prefix&quot;: &quot;glyphicon&quot;,\n  &quot;extraClasses&quot;: &quot;fa-rotate-0&quot;,\n}\n            );\n            marker_536045824e0dba26523417e439820f12.setIcon(icon_3b8299cc1f9868eb5b0e614cb23eb0f5);\n        \n    \n        var popup_605182a72d4f8bb810df3c8853b843a0 = L.popup({\n  &quot;maxWidth&quot;: &quot;100%&quot;,\n});\n\n        \n            \n                var html_4f1cb7767f1e108cfd96f84b8cf4d513 = $(`&lt;div id=&quot;html_4f1cb7767f1e108cfd96f84b8cf4d513&quot; style=&quot;width: 100.0%; height: 100.0%;&quot;&gt;CCAFS LC-40&lt;/div&gt;`)[0];\n                popup_605182a72d4f8bb810df3c8853b843a0.setContent(html_4f1cb7767f1e108cfd96f84b8cf4d513);\n            \n        \n\n        marker_536045824e0dba26523417e439820f12.bindPopup(popup_605182a72d4f8bb810df3c8853b843a0)\n        ;\n\n        \n    \n    \n            var marker_222374fa13176fe71815cac92c02f435 = L.marker(\n                [28.56230197, -80.57735648],\n                {\n}\n            ).addTo(marker_cluster_e890c4b6da47ec87e2ed96c3e3fb62d8);\n        \n    \n            var icon_3bc6c7b0ad240e1ef47f0a1692dfb352 = L.AwesomeMarkers.icon(\n                {\n  &quot;markerColor&quot;: &quot;white&quot;,\n  &quot;iconColor&quot;: &quot;red&quot;,\n  &quot;icon&quot;: &quot;info-sign&quot;,\n  &quot;prefix&quot;: &quot;glyphicon&quot;,\n  &quot;extraClasses&quot;: &quot;fa-rotate-0&quot;,\n}\n            );\n            marker_222374fa13176fe71815cac92c02f435.setIcon(icon_3bc6c7b0ad240e1ef47f0a1692dfb352);\n        \n    \n        var popup_6cfbe5044c83856c400b1f7e484ecc1e = L.popup({\n  &quot;maxWidth&quot;: &quot;100%&quot;,\n});\n\n        \n            \n                var html_a857ee64cb9e5333c649653c1c04b6c1 = $(`&lt;div id=&quot;html_a857ee64cb9e5333c649653c1c04b6c1&quot; style=&quot;width: 100.0%; height: 100.0%;&quot;&gt;CCAFS LC-40&lt;/div&gt;`)[0];\n                popup_6cfbe5044c83856c400b1f7e484ecc1e.setContent(html_a857ee64cb9e5333c649653c1c04b6c1);\n            \n        \n\n        marker_222374fa13176fe71815cac92c02f435.bindPopup(popup_6cfbe5044c83856c400b1f7e484ecc1e)\n        ;\n\n        \n    \n    \n            var marker_e24745596694af1e093d0db961a758b4 = L.marker(\n                [28.56230197, -80.57735648],\n                {\n}\n            ).addTo(marker_cluster_e890c4b6da47ec87e2ed96c3e3fb62d8);\n        \n    \n            var icon_9f1e36874492ed9ff78f94c1a5abcd59 = L.AwesomeMarkers.icon(\n                {\n  &quot;markerColor&quot;: &quot;white&quot;,\n  &quot;iconColor&quot;: &quot;red&quot;,\n  &quot;icon&quot;: &quot;info-sign&quot;,\n  &quot;prefix&quot;: &quot;glyphicon&quot;,\n  &quot;extraClasses&quot;: &quot;fa-rotate-0&quot;,\n}\n            );\n            marker_e24745596694af1e093d0db961a758b4.setIcon(icon_9f1e36874492ed9ff78f94c1a5abcd59);\n        \n    \n        var popup_df4b5ae918f097fa43a1277e057141c1 = L.popup({\n  &quot;maxWidth&quot;: &quot;100%&quot;,\n});\n\n        \n            \n                var html_12a07e955954e6e93ccb0ce9932706db = $(`&lt;div id=&quot;html_12a07e955954e6e93ccb0ce9932706db&quot; style=&quot;width: 100.0%; height: 100.0%;&quot;&gt;CCAFS LC-40&lt;/div&gt;`)[0];\n                popup_df4b5ae918f097fa43a1277e057141c1.setContent(html_12a07e955954e6e93ccb0ce9932706db);\n            \n        \n\n        marker_e24745596694af1e093d0db961a758b4.bindPopup(popup_df4b5ae918f097fa43a1277e057141c1)\n        ;\n\n        \n    \n    \n            var marker_bb223ab2737c22bb12753ac47a4a7d4b = L.marker(\n                [28.56230197, -80.57735648],\n                {\n}\n            ).addTo(marker_cluster_e890c4b6da47ec87e2ed96c3e3fb62d8);\n        \n    \n            var icon_244eff55a0e5557c0d56da341493b28f = L.AwesomeMarkers.icon(\n                {\n  &quot;markerColor&quot;: &quot;white&quot;,\n  &quot;iconColor&quot;: &quot;red&quot;,\n  &quot;icon&quot;: &quot;info-sign&quot;,\n  &quot;prefix&quot;: &quot;glyphicon&quot;,\n  &quot;extraClasses&quot;: &quot;fa-rotate-0&quot;,\n}\n            );\n            marker_bb223ab2737c22bb12753ac47a4a7d4b.setIcon(icon_244eff55a0e5557c0d56da341493b28f);\n        \n    \n        var popup_fcae19e485287a1c7ee7ddc8b7d91b51 = L.popup({\n  &quot;maxWidth&quot;: &quot;100%&quot;,\n});\n\n        \n            \n                var html_4f90f7e2a1de24629003b072d43ec69e = $(`&lt;div id=&quot;html_4f90f7e2a1de24629003b072d43ec69e&quot; style=&quot;width: 100.0%; height: 100.0%;&quot;&gt;CCAFS LC-40&lt;/div&gt;`)[0];\n                popup_fcae19e485287a1c7ee7ddc8b7d91b51.setContent(html_4f90f7e2a1de24629003b072d43ec69e);\n            \n        \n\n        marker_bb223ab2737c22bb12753ac47a4a7d4b.bindPopup(popup_fcae19e485287a1c7ee7ddc8b7d91b51)\n        ;\n\n        \n    \n    \n            var marker_ddb28959ce5d2d8bab7cb1186d086e8c = L.marker(\n                [28.56230197, -80.57735648],\n                {\n}\n            ).addTo(marker_cluster_e890c4b6da47ec87e2ed96c3e3fb62d8);\n        \n    \n            var icon_615455d02bee0a28fe95737ab66b8561 = L.AwesomeMarkers.icon(\n                {\n  &quot;markerColor&quot;: &quot;white&quot;,\n  &quot;iconColor&quot;: &quot;red&quot;,\n  &quot;icon&quot;: &quot;info-sign&quot;,\n  &quot;prefix&quot;: &quot;glyphicon&quot;,\n  &quot;extraClasses&quot;: &quot;fa-rotate-0&quot;,\n}\n            );\n            marker_ddb28959ce5d2d8bab7cb1186d086e8c.setIcon(icon_615455d02bee0a28fe95737ab66b8561);\n        \n    \n        var popup_937e3e6fb56cdc84b68802a09d4360d5 = L.popup({\n  &quot;maxWidth&quot;: &quot;100%&quot;,\n});\n\n        \n            \n                var html_a5f657f8736e9b9b3e96d5dfc466ed88 = $(`&lt;div id=&quot;html_a5f657f8736e9b9b3e96d5dfc466ed88&quot; style=&quot;width: 100.0%; height: 100.0%;&quot;&gt;CCAFS LC-40&lt;/div&gt;`)[0];\n                popup_937e3e6fb56cdc84b68802a09d4360d5.setContent(html_a5f657f8736e9b9b3e96d5dfc466ed88);\n            \n        \n\n        marker_ddb28959ce5d2d8bab7cb1186d086e8c.bindPopup(popup_937e3e6fb56cdc84b68802a09d4360d5)\n        ;\n\n        \n    \n    \n            var marker_bc752cdedd8c3c071bb275cc9d68445d = L.marker(\n                [28.56230197, -80.57735648],\n                {\n}\n            ).addTo(marker_cluster_e890c4b6da47ec87e2ed96c3e3fb62d8);\n        \n    \n            var icon_607a517574bc90878f55de73f62f7400 = L.AwesomeMarkers.icon(\n                {\n  &quot;markerColor&quot;: &quot;white&quot;,\n  &quot;iconColor&quot;: &quot;red&quot;,\n  &quot;icon&quot;: &quot;info-sign&quot;,\n  &quot;prefix&quot;: &quot;glyphicon&quot;,\n  &quot;extraClasses&quot;: &quot;fa-rotate-0&quot;,\n}\n            );\n            marker_bc752cdedd8c3c071bb275cc9d68445d.setIcon(icon_607a517574bc90878f55de73f62f7400);\n        \n    \n        var popup_2bf3ee02e95dfbc2acc3bb4e54fa5855 = L.popup({\n  &quot;maxWidth&quot;: &quot;100%&quot;,\n});\n\n        \n            \n                var html_8d1055e881f952e248a6d9ce8de14a60 = $(`&lt;div id=&quot;html_8d1055e881f952e248a6d9ce8de14a60&quot; style=&quot;width: 100.0%; height: 100.0%;&quot;&gt;CCAFS LC-40&lt;/div&gt;`)[0];\n                popup_2bf3ee02e95dfbc2acc3bb4e54fa5855.setContent(html_8d1055e881f952e248a6d9ce8de14a60);\n            \n        \n\n        marker_bc752cdedd8c3c071bb275cc9d68445d.bindPopup(popup_2bf3ee02e95dfbc2acc3bb4e54fa5855)\n        ;\n\n        \n    \n    \n            var marker_5e373464584e7c412346de6bcc0cfa39 = L.marker(\n                [28.56230197, -80.57735648],\n                {\n}\n            ).addTo(marker_cluster_e890c4b6da47ec87e2ed96c3e3fb62d8);\n        \n    \n            var icon_9f1355b76edc32e316a1e9cedc30ee0b = L.AwesomeMarkers.icon(\n                {\n  &quot;markerColor&quot;: &quot;white&quot;,\n  &quot;iconColor&quot;: &quot;red&quot;,\n  &quot;icon&quot;: &quot;info-sign&quot;,\n  &quot;prefix&quot;: &quot;glyphicon&quot;,\n  &quot;extraClasses&quot;: &quot;fa-rotate-0&quot;,\n}\n            );\n            marker_5e373464584e7c412346de6bcc0cfa39.setIcon(icon_9f1355b76edc32e316a1e9cedc30ee0b);\n        \n    \n        var popup_1215d62bf7f83e90587e2522cd44e75d = L.popup({\n  &quot;maxWidth&quot;: &quot;100%&quot;,\n});\n\n        \n            \n                var html_ca20144fac0f6d53166edc6aafd2414f = $(`&lt;div id=&quot;html_ca20144fac0f6d53166edc6aafd2414f&quot; style=&quot;width: 100.0%; height: 100.0%;&quot;&gt;CCAFS LC-40&lt;/div&gt;`)[0];\n                popup_1215d62bf7f83e90587e2522cd44e75d.setContent(html_ca20144fac0f6d53166edc6aafd2414f);\n            \n        \n\n        marker_5e373464584e7c412346de6bcc0cfa39.bindPopup(popup_1215d62bf7f83e90587e2522cd44e75d)\n        ;\n\n        \n    \n    \n            var marker_063e4e33ee1b526bf03770c6fc87e811 = L.marker(\n                [28.56230197, -80.57735648],\n                {\n}\n            ).addTo(marker_cluster_e890c4b6da47ec87e2ed96c3e3fb62d8);\n        \n    \n            var icon_d1dc6043d1e6e67c8ac5e7dcf6a2d439 = L.AwesomeMarkers.icon(\n                {\n  &quot;markerColor&quot;: &quot;white&quot;,\n  &quot;iconColor&quot;: &quot;red&quot;,\n  &quot;icon&quot;: &quot;info-sign&quot;,\n  &quot;prefix&quot;: &quot;glyphicon&quot;,\n  &quot;extraClasses&quot;: &quot;fa-rotate-0&quot;,\n}\n            );\n            marker_063e4e33ee1b526bf03770c6fc87e811.setIcon(icon_d1dc6043d1e6e67c8ac5e7dcf6a2d439);\n        \n    \n        var popup_44b1af551f7ec79ffab8374db2efc6c9 = L.popup({\n  &quot;maxWidth&quot;: &quot;100%&quot;,\n});\n\n        \n            \n                var html_49d78dbfb7ec07b0ddb608513fd7b817 = $(`&lt;div id=&quot;html_49d78dbfb7ec07b0ddb608513fd7b817&quot; style=&quot;width: 100.0%; height: 100.0%;&quot;&gt;CCAFS LC-40&lt;/div&gt;`)[0];\n                popup_44b1af551f7ec79ffab8374db2efc6c9.setContent(html_49d78dbfb7ec07b0ddb608513fd7b817);\n            \n        \n\n        marker_063e4e33ee1b526bf03770c6fc87e811.bindPopup(popup_44b1af551f7ec79ffab8374db2efc6c9)\n        ;\n\n        \n    \n    \n            var marker_cb80731d9aeccad21b1e6bf3fd78e7b3 = L.marker(\n                [28.56230197, -80.57735648],\n                {\n}\n            ).addTo(marker_cluster_e890c4b6da47ec87e2ed96c3e3fb62d8);\n        \n    \n            var icon_f8e39865691c9557ad8804106c731425 = L.AwesomeMarkers.icon(\n                {\n  &quot;markerColor&quot;: &quot;white&quot;,\n  &quot;iconColor&quot;: &quot;red&quot;,\n  &quot;icon&quot;: &quot;info-sign&quot;,\n  &quot;prefix&quot;: &quot;glyphicon&quot;,\n  &quot;extraClasses&quot;: &quot;fa-rotate-0&quot;,\n}\n            );\n            marker_cb80731d9aeccad21b1e6bf3fd78e7b3.setIcon(icon_f8e39865691c9557ad8804106c731425);\n        \n    \n        var popup_3f8eb1af2be5a6cb39c640921698ded6 = L.popup({\n  &quot;maxWidth&quot;: &quot;100%&quot;,\n});\n\n        \n            \n                var html_fb8aa767bb2f4468e4474a18e07c1b16 = $(`&lt;div id=&quot;html_fb8aa767bb2f4468e4474a18e07c1b16&quot; style=&quot;width: 100.0%; height: 100.0%;&quot;&gt;CCAFS LC-40&lt;/div&gt;`)[0];\n                popup_3f8eb1af2be5a6cb39c640921698ded6.setContent(html_fb8aa767bb2f4468e4474a18e07c1b16);\n            \n        \n\n        marker_cb80731d9aeccad21b1e6bf3fd78e7b3.bindPopup(popup_3f8eb1af2be5a6cb39c640921698ded6)\n        ;\n\n        \n    \n    \n            var marker_9daa0f0c43a0b9c2b1b2590a4c8b0e70 = L.marker(\n                [28.56230197, -80.57735648],\n                {\n}\n            ).addTo(marker_cluster_e890c4b6da47ec87e2ed96c3e3fb62d8);\n        \n    \n            var icon_343dec6f92f705b6eb95756bfa29fe44 = L.AwesomeMarkers.icon(\n                {\n  &quot;markerColor&quot;: &quot;white&quot;,\n  &quot;iconColor&quot;: &quot;red&quot;,\n  &quot;icon&quot;: &quot;info-sign&quot;,\n  &quot;prefix&quot;: &quot;glyphicon&quot;,\n  &quot;extraClasses&quot;: &quot;fa-rotate-0&quot;,\n}\n            );\n            marker_9daa0f0c43a0b9c2b1b2590a4c8b0e70.setIcon(icon_343dec6f92f705b6eb95756bfa29fe44);\n        \n    \n        var popup_460036f8d4822ee9efd8aebb7a91f2e7 = L.popup({\n  &quot;maxWidth&quot;: &quot;100%&quot;,\n});\n\n        \n            \n                var html_cccd4c7fb8347a482f5957a7aaa4fe61 = $(`&lt;div id=&quot;html_cccd4c7fb8347a482f5957a7aaa4fe61&quot; style=&quot;width: 100.0%; height: 100.0%;&quot;&gt;CCAFS LC-40&lt;/div&gt;`)[0];\n                popup_460036f8d4822ee9efd8aebb7a91f2e7.setContent(html_cccd4c7fb8347a482f5957a7aaa4fe61);\n            \n        \n\n        marker_9daa0f0c43a0b9c2b1b2590a4c8b0e70.bindPopup(popup_460036f8d4822ee9efd8aebb7a91f2e7)\n        ;\n\n        \n    \n    \n            var marker_788fb32f206a7c10ed76ee82ad0799fb = L.marker(\n                [28.56230197, -80.57735648],\n                {\n}\n            ).addTo(marker_cluster_e890c4b6da47ec87e2ed96c3e3fb62d8);\n        \n    \n            var icon_aa855c9565ff501eaf11ffbc31dae9a5 = L.AwesomeMarkers.icon(\n                {\n  &quot;markerColor&quot;: &quot;white&quot;,\n  &quot;iconColor&quot;: &quot;red&quot;,\n  &quot;icon&quot;: &quot;info-sign&quot;,\n  &quot;prefix&quot;: &quot;glyphicon&quot;,\n  &quot;extraClasses&quot;: &quot;fa-rotate-0&quot;,\n}\n            );\n            marker_788fb32f206a7c10ed76ee82ad0799fb.setIcon(icon_aa855c9565ff501eaf11ffbc31dae9a5);\n        \n    \n        var popup_8b001aa53efecc6cf1ba74094dca1c0f = L.popup({\n  &quot;maxWidth&quot;: &quot;100%&quot;,\n});\n\n        \n            \n                var html_0f2e1f2004b9614d45fab9159a562881 = $(`&lt;div id=&quot;html_0f2e1f2004b9614d45fab9159a562881&quot; style=&quot;width: 100.0%; height: 100.0%;&quot;&gt;CCAFS LC-40&lt;/div&gt;`)[0];\n                popup_8b001aa53efecc6cf1ba74094dca1c0f.setContent(html_0f2e1f2004b9614d45fab9159a562881);\n            \n        \n\n        marker_788fb32f206a7c10ed76ee82ad0799fb.bindPopup(popup_8b001aa53efecc6cf1ba74094dca1c0f)\n        ;\n\n        \n    \n    \n            var marker_4bb86eb9e00b3059c9d49752b52c02f0 = L.marker(\n                [28.56230197, -80.57735648],\n                {\n}\n            ).addTo(marker_cluster_e890c4b6da47ec87e2ed96c3e3fb62d8);\n        \n    \n            var icon_cbca25c350ae5402b2c821890f47cfa9 = L.AwesomeMarkers.icon(\n                {\n  &quot;markerColor&quot;: &quot;white&quot;,\n  &quot;iconColor&quot;: &quot;red&quot;,\n  &quot;icon&quot;: &quot;info-sign&quot;,\n  &quot;prefix&quot;: &quot;glyphicon&quot;,\n  &quot;extraClasses&quot;: &quot;fa-rotate-0&quot;,\n}\n            );\n            marker_4bb86eb9e00b3059c9d49752b52c02f0.setIcon(icon_cbca25c350ae5402b2c821890f47cfa9);\n        \n    \n        var popup_52a9a9adc0306f659892b8e864158b73 = L.popup({\n  &quot;maxWidth&quot;: &quot;100%&quot;,\n});\n\n        \n            \n                var html_e550f1b3167da01643524675e5185cde = $(`&lt;div id=&quot;html_e550f1b3167da01643524675e5185cde&quot; style=&quot;width: 100.0%; height: 100.0%;&quot;&gt;CCAFS LC-40&lt;/div&gt;`)[0];\n                popup_52a9a9adc0306f659892b8e864158b73.setContent(html_e550f1b3167da01643524675e5185cde);\n            \n        \n\n        marker_4bb86eb9e00b3059c9d49752b52c02f0.bindPopup(popup_52a9a9adc0306f659892b8e864158b73)\n        ;\n\n        \n    \n    \n            var marker_e082a0042f08484f404188d19f714b0f = L.marker(\n                [28.56230197, -80.57735648],\n                {\n}\n            ).addTo(marker_cluster_e890c4b6da47ec87e2ed96c3e3fb62d8);\n        \n    \n            var icon_dd299a3b27ea84cdc9f40fee6bd1d1cf = L.AwesomeMarkers.icon(\n                {\n  &quot;markerColor&quot;: &quot;white&quot;,\n  &quot;iconColor&quot;: &quot;green&quot;,\n  &quot;icon&quot;: &quot;info-sign&quot;,\n  &quot;prefix&quot;: &quot;glyphicon&quot;,\n  &quot;extraClasses&quot;: &quot;fa-rotate-0&quot;,\n}\n            );\n            marker_e082a0042f08484f404188d19f714b0f.setIcon(icon_dd299a3b27ea84cdc9f40fee6bd1d1cf);\n        \n    \n        var popup_41edff5fe6fc4a228145a4d32d948236 = L.popup({\n  &quot;maxWidth&quot;: &quot;100%&quot;,\n});\n\n        \n            \n                var html_49d61282b6004d7de4904d1717baabd3 = $(`&lt;div id=&quot;html_49d61282b6004d7de4904d1717baabd3&quot; style=&quot;width: 100.0%; height: 100.0%;&quot;&gt;CCAFS LC-40&lt;/div&gt;`)[0];\n                popup_41edff5fe6fc4a228145a4d32d948236.setContent(html_49d61282b6004d7de4904d1717baabd3);\n            \n        \n\n        marker_e082a0042f08484f404188d19f714b0f.bindPopup(popup_41edff5fe6fc4a228145a4d32d948236)\n        ;\n\n        \n    \n    \n            var marker_c2ab056b541b8b46beeb9d0b00b0508b = L.marker(\n                [28.56230197, -80.57735648],\n                {\n}\n            ).addTo(marker_cluster_e890c4b6da47ec87e2ed96c3e3fb62d8);\n        \n    \n            var icon_dd49555e94fe4aedd7e3523b7ebe4189 = L.AwesomeMarkers.icon(\n                {\n  &quot;markerColor&quot;: &quot;white&quot;,\n  &quot;iconColor&quot;: &quot;green&quot;,\n  &quot;icon&quot;: &quot;info-sign&quot;,\n  &quot;prefix&quot;: &quot;glyphicon&quot;,\n  &quot;extraClasses&quot;: &quot;fa-rotate-0&quot;,\n}\n            );\n            marker_c2ab056b541b8b46beeb9d0b00b0508b.setIcon(icon_dd49555e94fe4aedd7e3523b7ebe4189);\n        \n    \n        var popup_386607f83e7c6f5566cd80f1f48790a0 = L.popup({\n  &quot;maxWidth&quot;: &quot;100%&quot;,\n});\n\n        \n            \n                var html_557beca47eba17ace64bb47f881f9bd7 = $(`&lt;div id=&quot;html_557beca47eba17ace64bb47f881f9bd7&quot; style=&quot;width: 100.0%; height: 100.0%;&quot;&gt;CCAFS LC-40&lt;/div&gt;`)[0];\n                popup_386607f83e7c6f5566cd80f1f48790a0.setContent(html_557beca47eba17ace64bb47f881f9bd7);\n            \n        \n\n        marker_c2ab056b541b8b46beeb9d0b00b0508b.bindPopup(popup_386607f83e7c6f5566cd80f1f48790a0)\n        ;\n\n        \n    \n    \n            var marker_47683c0a0d42d806e7d70e0a822c8558 = L.marker(\n                [28.56230197, -80.57735648],\n                {\n}\n            ).addTo(marker_cluster_e890c4b6da47ec87e2ed96c3e3fb62d8);\n        \n    \n            var icon_e5d2097649b91b360d2cfed263e3c96c = L.AwesomeMarkers.icon(\n                {\n  &quot;markerColor&quot;: &quot;white&quot;,\n  &quot;iconColor&quot;: &quot;red&quot;,\n  &quot;icon&quot;: &quot;info-sign&quot;,\n  &quot;prefix&quot;: &quot;glyphicon&quot;,\n  &quot;extraClasses&quot;: &quot;fa-rotate-0&quot;,\n}\n            );\n            marker_47683c0a0d42d806e7d70e0a822c8558.setIcon(icon_e5d2097649b91b360d2cfed263e3c96c);\n        \n    \n        var popup_27778c8ef752a4399b77732cdfbdfd4b = L.popup({\n  &quot;maxWidth&quot;: &quot;100%&quot;,\n});\n\n        \n            \n                var html_c68e7999fb2387518ff36e56e12646c7 = $(`&lt;div id=&quot;html_c68e7999fb2387518ff36e56e12646c7&quot; style=&quot;width: 100.0%; height: 100.0%;&quot;&gt;CCAFS LC-40&lt;/div&gt;`)[0];\n                popup_27778c8ef752a4399b77732cdfbdfd4b.setContent(html_c68e7999fb2387518ff36e56e12646c7);\n            \n        \n\n        marker_47683c0a0d42d806e7d70e0a822c8558.bindPopup(popup_27778c8ef752a4399b77732cdfbdfd4b)\n        ;\n\n        \n    \n    \n            var marker_d5f8ac369935e3131ee19eacf4ee4e53 = L.marker(\n                [28.56230197, -80.57735648],\n                {\n}\n            ).addTo(marker_cluster_e890c4b6da47ec87e2ed96c3e3fb62d8);\n        \n    \n            var icon_1afed3069a5f658fe1e79b823cb70457 = L.AwesomeMarkers.icon(\n                {\n  &quot;markerColor&quot;: &quot;white&quot;,\n  &quot;iconColor&quot;: &quot;green&quot;,\n  &quot;icon&quot;: &quot;info-sign&quot;,\n  &quot;prefix&quot;: &quot;glyphicon&quot;,\n  &quot;extraClasses&quot;: &quot;fa-rotate-0&quot;,\n}\n            );\n            marker_d5f8ac369935e3131ee19eacf4ee4e53.setIcon(icon_1afed3069a5f658fe1e79b823cb70457);\n        \n    \n        var popup_4652f881ab3ed42fa6441af36069a22d = L.popup({\n  &quot;maxWidth&quot;: &quot;100%&quot;,\n});\n\n        \n            \n                var html_6679b8df32f9f6af5d0b53736fd6a86e = $(`&lt;div id=&quot;html_6679b8df32f9f6af5d0b53736fd6a86e&quot; style=&quot;width: 100.0%; height: 100.0%;&quot;&gt;CCAFS LC-40&lt;/div&gt;`)[0];\n                popup_4652f881ab3ed42fa6441af36069a22d.setContent(html_6679b8df32f9f6af5d0b53736fd6a86e);\n            \n        \n\n        marker_d5f8ac369935e3131ee19eacf4ee4e53.bindPopup(popup_4652f881ab3ed42fa6441af36069a22d)\n        ;\n\n        \n    \n    \n            var marker_2f8cab5f3a2ec2c2795194a23e506f76 = L.marker(\n                [28.56230197, -80.57735648],\n                {\n}\n            ).addTo(marker_cluster_e890c4b6da47ec87e2ed96c3e3fb62d8);\n        \n    \n            var icon_8a1a077704b5001a5252e222ab8f7761 = L.AwesomeMarkers.icon(\n                {\n  &quot;markerColor&quot;: &quot;white&quot;,\n  &quot;iconColor&quot;: &quot;green&quot;,\n  &quot;icon&quot;: &quot;info-sign&quot;,\n  &quot;prefix&quot;: &quot;glyphicon&quot;,\n  &quot;extraClasses&quot;: &quot;fa-rotate-0&quot;,\n}\n            );\n            marker_2f8cab5f3a2ec2c2795194a23e506f76.setIcon(icon_8a1a077704b5001a5252e222ab8f7761);\n        \n    \n        var popup_25ba7370f87ee7486580fa8f7f2646b8 = L.popup({\n  &quot;maxWidth&quot;: &quot;100%&quot;,\n});\n\n        \n            \n                var html_a7de9d3bb4279d798a91d2758ebce99f = $(`&lt;div id=&quot;html_a7de9d3bb4279d798a91d2758ebce99f&quot; style=&quot;width: 100.0%; height: 100.0%;&quot;&gt;CCAFS LC-40&lt;/div&gt;`)[0];\n                popup_25ba7370f87ee7486580fa8f7f2646b8.setContent(html_a7de9d3bb4279d798a91d2758ebce99f);\n            \n        \n\n        marker_2f8cab5f3a2ec2c2795194a23e506f76.bindPopup(popup_25ba7370f87ee7486580fa8f7f2646b8)\n        ;\n\n        \n    \n    \n            var marker_a47d9d4acdcce031b92d798073ce6a91 = L.marker(\n                [28.56230197, -80.57735648],\n                {\n}\n            ).addTo(marker_cluster_e890c4b6da47ec87e2ed96c3e3fb62d8);\n        \n    \n            var icon_26248bedae6c5dd9656d7bdb70d4c25c = L.AwesomeMarkers.icon(\n                {\n  &quot;markerColor&quot;: &quot;white&quot;,\n  &quot;iconColor&quot;: &quot;green&quot;,\n  &quot;icon&quot;: &quot;info-sign&quot;,\n  &quot;prefix&quot;: &quot;glyphicon&quot;,\n  &quot;extraClasses&quot;: &quot;fa-rotate-0&quot;,\n}\n            );\n            marker_a47d9d4acdcce031b92d798073ce6a91.setIcon(icon_26248bedae6c5dd9656d7bdb70d4c25c);\n        \n    \n        var popup_35fc0618e82e5381a4bc62b6f8e9a437 = L.popup({\n  &quot;maxWidth&quot;: &quot;100%&quot;,\n});\n\n        \n            \n                var html_450c240dae9ee9111a9cbfc254af7229 = $(`&lt;div id=&quot;html_450c240dae9ee9111a9cbfc254af7229&quot; style=&quot;width: 100.0%; height: 100.0%;&quot;&gt;CCAFS LC-40&lt;/div&gt;`)[0];\n                popup_35fc0618e82e5381a4bc62b6f8e9a437.setContent(html_450c240dae9ee9111a9cbfc254af7229);\n            \n        \n\n        marker_a47d9d4acdcce031b92d798073ce6a91.bindPopup(popup_35fc0618e82e5381a4bc62b6f8e9a437)\n        ;\n\n        \n    \n    \n            var marker_f9f0a57c00b612a14c076c0042f4e0e1 = L.marker(\n                [28.56230197, -80.57735648],\n                {\n}\n            ).addTo(marker_cluster_e890c4b6da47ec87e2ed96c3e3fb62d8);\n        \n    \n            var icon_a09499b8d7429f88d0ef9a55ed0fe535 = L.AwesomeMarkers.icon(\n                {\n  &quot;markerColor&quot;: &quot;white&quot;,\n  &quot;iconColor&quot;: &quot;red&quot;,\n  &quot;icon&quot;: &quot;info-sign&quot;,\n  &quot;prefix&quot;: &quot;glyphicon&quot;,\n  &quot;extraClasses&quot;: &quot;fa-rotate-0&quot;,\n}\n            );\n            marker_f9f0a57c00b612a14c076c0042f4e0e1.setIcon(icon_a09499b8d7429f88d0ef9a55ed0fe535);\n        \n    \n        var popup_f831e4d1268d6e0aa46e401a189fb994 = L.popup({\n  &quot;maxWidth&quot;: &quot;100%&quot;,\n});\n\n        \n            \n                var html_866e1b28575aafcae4489ddccc67458b = $(`&lt;div id=&quot;html_866e1b28575aafcae4489ddccc67458b&quot; style=&quot;width: 100.0%; height: 100.0%;&quot;&gt;CCAFS LC-40&lt;/div&gt;`)[0];\n                popup_f831e4d1268d6e0aa46e401a189fb994.setContent(html_866e1b28575aafcae4489ddccc67458b);\n            \n        \n\n        marker_f9f0a57c00b612a14c076c0042f4e0e1.bindPopup(popup_f831e4d1268d6e0aa46e401a189fb994)\n        ;\n\n        \n    \n    \n            var marker_af94fa6445ccb809b75ee2bca0497387 = L.marker(\n                [28.56230197, -80.57735648],\n                {\n}\n            ).addTo(marker_cluster_e890c4b6da47ec87e2ed96c3e3fb62d8);\n        \n    \n            var icon_07830bbbc4df354b5693e339e2b3b18e = L.AwesomeMarkers.icon(\n                {\n  &quot;markerColor&quot;: &quot;white&quot;,\n  &quot;iconColor&quot;: &quot;green&quot;,\n  &quot;icon&quot;: &quot;info-sign&quot;,\n  &quot;prefix&quot;: &quot;glyphicon&quot;,\n  &quot;extraClasses&quot;: &quot;fa-rotate-0&quot;,\n}\n            );\n            marker_af94fa6445ccb809b75ee2bca0497387.setIcon(icon_07830bbbc4df354b5693e339e2b3b18e);\n        \n    \n        var popup_cbb0566f2948e7c201360eb34b9b330d = L.popup({\n  &quot;maxWidth&quot;: &quot;100%&quot;,\n});\n\n        \n            \n                var html_69eb39f5826893b67030fe8d5193d570 = $(`&lt;div id=&quot;html_69eb39f5826893b67030fe8d5193d570&quot; style=&quot;width: 100.0%; height: 100.0%;&quot;&gt;CCAFS LC-40&lt;/div&gt;`)[0];\n                popup_cbb0566f2948e7c201360eb34b9b330d.setContent(html_69eb39f5826893b67030fe8d5193d570);\n            \n        \n\n        marker_af94fa6445ccb809b75ee2bca0497387.bindPopup(popup_cbb0566f2948e7c201360eb34b9b330d)\n        ;\n\n        \n    \n    \n            var marker_47d8eb73820b315987e58fd976b92882 = L.marker(\n                [28.56230197, -80.57735648],\n                {\n}\n            ).addTo(marker_cluster_e890c4b6da47ec87e2ed96c3e3fb62d8);\n        \n    \n            var icon_bf177682b9d6274427b69f97dc35c1ba = L.AwesomeMarkers.icon(\n                {\n  &quot;markerColor&quot;: &quot;white&quot;,\n  &quot;iconColor&quot;: &quot;green&quot;,\n  &quot;icon&quot;: &quot;info-sign&quot;,\n  &quot;prefix&quot;: &quot;glyphicon&quot;,\n  &quot;extraClasses&quot;: &quot;fa-rotate-0&quot;,\n}\n            );\n            marker_47d8eb73820b315987e58fd976b92882.setIcon(icon_bf177682b9d6274427b69f97dc35c1ba);\n        \n    \n        var popup_643c0542dccb63f5a4fb844e0f5e11dd = L.popup({\n  &quot;maxWidth&quot;: &quot;100%&quot;,\n});\n\n        \n            \n                var html_a6b63c81184e21fb3c984be818548dd4 = $(`&lt;div id=&quot;html_a6b63c81184e21fb3c984be818548dd4&quot; style=&quot;width: 100.0%; height: 100.0%;&quot;&gt;CCAFS LC-40&lt;/div&gt;`)[0];\n                popup_643c0542dccb63f5a4fb844e0f5e11dd.setContent(html_a6b63c81184e21fb3c984be818548dd4);\n            \n        \n\n        marker_47d8eb73820b315987e58fd976b92882.bindPopup(popup_643c0542dccb63f5a4fb844e0f5e11dd)\n        ;\n\n        \n    \n    \n            var marker_beb1d7dd96aeb165f4f85aabef2c1155 = L.marker(\n                [34.63283416, -120.6107455],\n                {\n}\n            ).addTo(marker_cluster_e890c4b6da47ec87e2ed96c3e3fb62d8);\n        \n    \n            var icon_959030211fa1f055103f8a201ff45b21 = L.AwesomeMarkers.icon(\n                {\n  &quot;markerColor&quot;: &quot;white&quot;,\n  &quot;iconColor&quot;: &quot;red&quot;,\n  &quot;icon&quot;: &quot;info-sign&quot;,\n  &quot;prefix&quot;: &quot;glyphicon&quot;,\n  &quot;extraClasses&quot;: &quot;fa-rotate-0&quot;,\n}\n            );\n            marker_beb1d7dd96aeb165f4f85aabef2c1155.setIcon(icon_959030211fa1f055103f8a201ff45b21);\n        \n    \n        var popup_90c4a8eafa8f95ec87998c72f010bc31 = L.popup({\n  &quot;maxWidth&quot;: &quot;100%&quot;,\n});\n\n        \n            \n                var html_176396e2fba6886d1d2984efe74fb6f5 = $(`&lt;div id=&quot;html_176396e2fba6886d1d2984efe74fb6f5&quot; style=&quot;width: 100.0%; height: 100.0%;&quot;&gt;VAFB SLC-4E&lt;/div&gt;`)[0];\n                popup_90c4a8eafa8f95ec87998c72f010bc31.setContent(html_176396e2fba6886d1d2984efe74fb6f5);\n            \n        \n\n        marker_beb1d7dd96aeb165f4f85aabef2c1155.bindPopup(popup_90c4a8eafa8f95ec87998c72f010bc31)\n        ;\n\n        \n    \n    \n            var marker_e4e2ba945c7135ed305b244be9c28ec5 = L.marker(\n                [34.63283416, -120.6107455],\n                {\n}\n            ).addTo(marker_cluster_e890c4b6da47ec87e2ed96c3e3fb62d8);\n        \n    \n            var icon_470079addadc3250e610c44b53bca634 = L.AwesomeMarkers.icon(\n                {\n  &quot;markerColor&quot;: &quot;white&quot;,\n  &quot;iconColor&quot;: &quot;red&quot;,\n  &quot;icon&quot;: &quot;info-sign&quot;,\n  &quot;prefix&quot;: &quot;glyphicon&quot;,\n  &quot;extraClasses&quot;: &quot;fa-rotate-0&quot;,\n}\n            );\n            marker_e4e2ba945c7135ed305b244be9c28ec5.setIcon(icon_470079addadc3250e610c44b53bca634);\n        \n    \n        var popup_3fa19d5e4e5a858f525304da3cbe4f9b = L.popup({\n  &quot;maxWidth&quot;: &quot;100%&quot;,\n});\n\n        \n            \n                var html_998947f3824b6042b3751224c4a30cea = $(`&lt;div id=&quot;html_998947f3824b6042b3751224c4a30cea&quot; style=&quot;width: 100.0%; height: 100.0%;&quot;&gt;VAFB SLC-4E&lt;/div&gt;`)[0];\n                popup_3fa19d5e4e5a858f525304da3cbe4f9b.setContent(html_998947f3824b6042b3751224c4a30cea);\n            \n        \n\n        marker_e4e2ba945c7135ed305b244be9c28ec5.bindPopup(popup_3fa19d5e4e5a858f525304da3cbe4f9b)\n        ;\n\n        \n    \n    \n            var marker_9540db49843885f0a4941bacf8a429ef = L.marker(\n                [34.63283416, -120.6107455],\n                {\n}\n            ).addTo(marker_cluster_e890c4b6da47ec87e2ed96c3e3fb62d8);\n        \n    \n            var icon_95bd9de6a3027f43e3388271c09ec3b4 = L.AwesomeMarkers.icon(\n                {\n  &quot;markerColor&quot;: &quot;white&quot;,\n  &quot;iconColor&quot;: &quot;green&quot;,\n  &quot;icon&quot;: &quot;info-sign&quot;,\n  &quot;prefix&quot;: &quot;glyphicon&quot;,\n  &quot;extraClasses&quot;: &quot;fa-rotate-0&quot;,\n}\n            );\n            marker_9540db49843885f0a4941bacf8a429ef.setIcon(icon_95bd9de6a3027f43e3388271c09ec3b4);\n        \n    \n        var popup_901e0f488d2d3f14d2e5ade6ca48cbb3 = L.popup({\n  &quot;maxWidth&quot;: &quot;100%&quot;,\n});\n\n        \n            \n                var html_001172b6d7d85826713be0cd7d86cc1a = $(`&lt;div id=&quot;html_001172b6d7d85826713be0cd7d86cc1a&quot; style=&quot;width: 100.0%; height: 100.0%;&quot;&gt;VAFB SLC-4E&lt;/div&gt;`)[0];\n                popup_901e0f488d2d3f14d2e5ade6ca48cbb3.setContent(html_001172b6d7d85826713be0cd7d86cc1a);\n            \n        \n\n        marker_9540db49843885f0a4941bacf8a429ef.bindPopup(popup_901e0f488d2d3f14d2e5ade6ca48cbb3)\n        ;\n\n        \n    \n    \n            var marker_4587a36dcbcd1edc32d99c83a5a4be73 = L.marker(\n                [34.63283416, -120.6107455],\n                {\n}\n            ).addTo(marker_cluster_e890c4b6da47ec87e2ed96c3e3fb62d8);\n        \n    \n            var icon_aaba60d7737286d59772b6f94811ab1d = L.AwesomeMarkers.icon(\n                {\n  &quot;markerColor&quot;: &quot;white&quot;,\n  &quot;iconColor&quot;: &quot;green&quot;,\n  &quot;icon&quot;: &quot;info-sign&quot;,\n  &quot;prefix&quot;: &quot;glyphicon&quot;,\n  &quot;extraClasses&quot;: &quot;fa-rotate-0&quot;,\n}\n            );\n            marker_4587a36dcbcd1edc32d99c83a5a4be73.setIcon(icon_aaba60d7737286d59772b6f94811ab1d);\n        \n    \n        var popup_9c6f26829023df6b869835b971de5395 = L.popup({\n  &quot;maxWidth&quot;: &quot;100%&quot;,\n});\n\n        \n            \n                var html_505f1470d544269129cefbf797d8925c = $(`&lt;div id=&quot;html_505f1470d544269129cefbf797d8925c&quot; style=&quot;width: 100.0%; height: 100.0%;&quot;&gt;VAFB SLC-4E&lt;/div&gt;`)[0];\n                popup_9c6f26829023df6b869835b971de5395.setContent(html_505f1470d544269129cefbf797d8925c);\n            \n        \n\n        marker_4587a36dcbcd1edc32d99c83a5a4be73.bindPopup(popup_9c6f26829023df6b869835b971de5395)\n        ;\n\n        \n    \n    \n            var marker_ac66efba601ca728a5900ea99a584d85 = L.marker(\n                [34.63283416, -120.6107455],\n                {\n}\n            ).addTo(marker_cluster_e890c4b6da47ec87e2ed96c3e3fb62d8);\n        \n    \n            var icon_e1e04fdbeb9832ed5a916442f2f3bc80 = L.AwesomeMarkers.icon(\n                {\n  &quot;markerColor&quot;: &quot;white&quot;,\n  &quot;iconColor&quot;: &quot;green&quot;,\n  &quot;icon&quot;: &quot;info-sign&quot;,\n  &quot;prefix&quot;: &quot;glyphicon&quot;,\n  &quot;extraClasses&quot;: &quot;fa-rotate-0&quot;,\n}\n            );\n            marker_ac66efba601ca728a5900ea99a584d85.setIcon(icon_e1e04fdbeb9832ed5a916442f2f3bc80);\n        \n    \n        var popup_76ea736ff9792750f1ffe6b8ae1b616e = L.popup({\n  &quot;maxWidth&quot;: &quot;100%&quot;,\n});\n\n        \n            \n                var html_72579a2bcd9a552fdfc772e75aa956fc = $(`&lt;div id=&quot;html_72579a2bcd9a552fdfc772e75aa956fc&quot; style=&quot;width: 100.0%; height: 100.0%;&quot;&gt;VAFB SLC-4E&lt;/div&gt;`)[0];\n                popup_76ea736ff9792750f1ffe6b8ae1b616e.setContent(html_72579a2bcd9a552fdfc772e75aa956fc);\n            \n        \n\n        marker_ac66efba601ca728a5900ea99a584d85.bindPopup(popup_76ea736ff9792750f1ffe6b8ae1b616e)\n        ;\n\n        \n    \n    \n            var marker_db0f35dbf8dfbcd90c81597b13087ce7 = L.marker(\n                [34.63283416, -120.6107455],\n                {\n}\n            ).addTo(marker_cluster_e890c4b6da47ec87e2ed96c3e3fb62d8);\n        \n    \n            var icon_871d4923dd7c5d9e2f86b0c316fffa94 = L.AwesomeMarkers.icon(\n                {\n  &quot;markerColor&quot;: &quot;white&quot;,\n  &quot;iconColor&quot;: &quot;green&quot;,\n  &quot;icon&quot;: &quot;info-sign&quot;,\n  &quot;prefix&quot;: &quot;glyphicon&quot;,\n  &quot;extraClasses&quot;: &quot;fa-rotate-0&quot;,\n}\n            );\n            marker_db0f35dbf8dfbcd90c81597b13087ce7.setIcon(icon_871d4923dd7c5d9e2f86b0c316fffa94);\n        \n    \n        var popup_8b41d9a4f57758ea727cc15ba2e437c9 = L.popup({\n  &quot;maxWidth&quot;: &quot;100%&quot;,\n});\n\n        \n            \n                var html_f3d2fb02ddff602d2b296a7309a020ef = $(`&lt;div id=&quot;html_f3d2fb02ddff602d2b296a7309a020ef&quot; style=&quot;width: 100.0%; height: 100.0%;&quot;&gt;VAFB SLC-4E&lt;/div&gt;`)[0];\n                popup_8b41d9a4f57758ea727cc15ba2e437c9.setContent(html_f3d2fb02ddff602d2b296a7309a020ef);\n            \n        \n\n        marker_db0f35dbf8dfbcd90c81597b13087ce7.bindPopup(popup_8b41d9a4f57758ea727cc15ba2e437c9)\n        ;\n\n        \n    \n    \n            var marker_65ab88980f705acc51fe56d390b939a1 = L.marker(\n                [34.63283416, -120.6107455],\n                {\n}\n            ).addTo(marker_cluster_e890c4b6da47ec87e2ed96c3e3fb62d8);\n        \n    \n            var icon_093bd5d1c5460437e34dbbf3cb48ee40 = L.AwesomeMarkers.icon(\n                {\n  &quot;markerColor&quot;: &quot;white&quot;,\n  &quot;iconColor&quot;: &quot;red&quot;,\n  &quot;icon&quot;: &quot;info-sign&quot;,\n  &quot;prefix&quot;: &quot;glyphicon&quot;,\n  &quot;extraClasses&quot;: &quot;fa-rotate-0&quot;,\n}\n            );\n            marker_65ab88980f705acc51fe56d390b939a1.setIcon(icon_093bd5d1c5460437e34dbbf3cb48ee40);\n        \n    \n        var popup_a063c7045ce2757b24020341a3d20997 = L.popup({\n  &quot;maxWidth&quot;: &quot;100%&quot;,\n});\n\n        \n            \n                var html_3043d111fa4f02573cf5d39dd5d04959 = $(`&lt;div id=&quot;html_3043d111fa4f02573cf5d39dd5d04959&quot; style=&quot;width: 100.0%; height: 100.0%;&quot;&gt;VAFB SLC-4E&lt;/div&gt;`)[0];\n                popup_a063c7045ce2757b24020341a3d20997.setContent(html_3043d111fa4f02573cf5d39dd5d04959);\n            \n        \n\n        marker_65ab88980f705acc51fe56d390b939a1.bindPopup(popup_a063c7045ce2757b24020341a3d20997)\n        ;\n\n        \n    \n    \n            var marker_588ad861d449441bf8d3872e10428fde = L.marker(\n                [34.63283416, -120.6107455],\n                {\n}\n            ).addTo(marker_cluster_e890c4b6da47ec87e2ed96c3e3fb62d8);\n        \n    \n            var icon_1b73a89f0d48ef417a413bfb6eccb927 = L.AwesomeMarkers.icon(\n                {\n  &quot;markerColor&quot;: &quot;white&quot;,\n  &quot;iconColor&quot;: &quot;red&quot;,\n  &quot;icon&quot;: &quot;info-sign&quot;,\n  &quot;prefix&quot;: &quot;glyphicon&quot;,\n  &quot;extraClasses&quot;: &quot;fa-rotate-0&quot;,\n}\n            );\n            marker_588ad861d449441bf8d3872e10428fde.setIcon(icon_1b73a89f0d48ef417a413bfb6eccb927);\n        \n    \n        var popup_5356a6625e4ac254d7ac6869d2688d38 = L.popup({\n  &quot;maxWidth&quot;: &quot;100%&quot;,\n});\n\n        \n            \n                var html_017d945d9ad1f510ab8d421fded0534d = $(`&lt;div id=&quot;html_017d945d9ad1f510ab8d421fded0534d&quot; style=&quot;width: 100.0%; height: 100.0%;&quot;&gt;VAFB SLC-4E&lt;/div&gt;`)[0];\n                popup_5356a6625e4ac254d7ac6869d2688d38.setContent(html_017d945d9ad1f510ab8d421fded0534d);\n            \n        \n\n        marker_588ad861d449441bf8d3872e10428fde.bindPopup(popup_5356a6625e4ac254d7ac6869d2688d38)\n        ;\n\n        \n    \n    \n            var marker_5b0d0b6aacba656e7d819bb3921b3f2d = L.marker(\n                [34.63283416, -120.6107455],\n                {\n}\n            ).addTo(marker_cluster_e890c4b6da47ec87e2ed96c3e3fb62d8);\n        \n    \n            var icon_123eddd104f5daec40281928f711b876 = L.AwesomeMarkers.icon(\n                {\n  &quot;markerColor&quot;: &quot;white&quot;,\n  &quot;iconColor&quot;: &quot;red&quot;,\n  &quot;icon&quot;: &quot;info-sign&quot;,\n  &quot;prefix&quot;: &quot;glyphicon&quot;,\n  &quot;extraClasses&quot;: &quot;fa-rotate-0&quot;,\n}\n            );\n            marker_5b0d0b6aacba656e7d819bb3921b3f2d.setIcon(icon_123eddd104f5daec40281928f711b876);\n        \n    \n        var popup_67d917c71849920b21da91c227ce7817 = L.popup({\n  &quot;maxWidth&quot;: &quot;100%&quot;,\n});\n\n        \n            \n                var html_50cc0e623f0d2b8e54bcb65197e3e7b6 = $(`&lt;div id=&quot;html_50cc0e623f0d2b8e54bcb65197e3e7b6&quot; style=&quot;width: 100.0%; height: 100.0%;&quot;&gt;VAFB SLC-4E&lt;/div&gt;`)[0];\n                popup_67d917c71849920b21da91c227ce7817.setContent(html_50cc0e623f0d2b8e54bcb65197e3e7b6);\n            \n        \n\n        marker_5b0d0b6aacba656e7d819bb3921b3f2d.bindPopup(popup_67d917c71849920b21da91c227ce7817)\n        ;\n\n        \n    \n    \n            var marker_fce797cd9eb005611cbb74d1c06ab85c = L.marker(\n                [34.63283416, -120.6107455],\n                {\n}\n            ).addTo(marker_cluster_e890c4b6da47ec87e2ed96c3e3fb62d8);\n        \n    \n            var icon_f8f4e6316cba6fb111cc563d6b8dde72 = L.AwesomeMarkers.icon(\n                {\n  &quot;markerColor&quot;: &quot;white&quot;,\n  &quot;iconColor&quot;: &quot;red&quot;,\n  &quot;icon&quot;: &quot;info-sign&quot;,\n  &quot;prefix&quot;: &quot;glyphicon&quot;,\n  &quot;extraClasses&quot;: &quot;fa-rotate-0&quot;,\n}\n            );\n            marker_fce797cd9eb005611cbb74d1c06ab85c.setIcon(icon_f8f4e6316cba6fb111cc563d6b8dde72);\n        \n    \n        var popup_0b3eb8d21bdd8f612dfb40c9433bfd82 = L.popup({\n  &quot;maxWidth&quot;: &quot;100%&quot;,\n});\n\n        \n            \n                var html_d8a1d85cfa13213578238bff8b7c3fb4 = $(`&lt;div id=&quot;html_d8a1d85cfa13213578238bff8b7c3fb4&quot; style=&quot;width: 100.0%; height: 100.0%;&quot;&gt;VAFB SLC-4E&lt;/div&gt;`)[0];\n                popup_0b3eb8d21bdd8f612dfb40c9433bfd82.setContent(html_d8a1d85cfa13213578238bff8b7c3fb4);\n            \n        \n\n        marker_fce797cd9eb005611cbb74d1c06ab85c.bindPopup(popup_0b3eb8d21bdd8f612dfb40c9433bfd82)\n        ;\n\n        \n    \n    \n            var marker_cbcf8b3b3ebcd5d7e6c4c096e213cabe = L.marker(\n                [28.57325457, -80.64689529],\n                {\n}\n            ).addTo(marker_cluster_e890c4b6da47ec87e2ed96c3e3fb62d8);\n        \n    \n            var icon_d2bb6041399bcab0f0bfdf95568fc23e = L.AwesomeMarkers.icon(\n                {\n  &quot;markerColor&quot;: &quot;white&quot;,\n  &quot;iconColor&quot;: &quot;green&quot;,\n  &quot;icon&quot;: &quot;info-sign&quot;,\n  &quot;prefix&quot;: &quot;glyphicon&quot;,\n  &quot;extraClasses&quot;: &quot;fa-rotate-0&quot;,\n}\n            );\n            marker_cbcf8b3b3ebcd5d7e6c4c096e213cabe.setIcon(icon_d2bb6041399bcab0f0bfdf95568fc23e);\n        \n    \n        var popup_f623b6058332f0fd0aaa6e9c2287b773 = L.popup({\n  &quot;maxWidth&quot;: &quot;100%&quot;,\n});\n\n        \n            \n                var html_41c43070a80c38d411c883cec298bcca = $(`&lt;div id=&quot;html_41c43070a80c38d411c883cec298bcca&quot; style=&quot;width: 100.0%; height: 100.0%;&quot;&gt;KSC LC-39A&lt;/div&gt;`)[0];\n                popup_f623b6058332f0fd0aaa6e9c2287b773.setContent(html_41c43070a80c38d411c883cec298bcca);\n            \n        \n\n        marker_cbcf8b3b3ebcd5d7e6c4c096e213cabe.bindPopup(popup_f623b6058332f0fd0aaa6e9c2287b773)\n        ;\n\n        \n    \n    \n            var marker_5b9b349bf78eba5658f53c628b5d69ad = L.marker(\n                [28.57325457, -80.64689529],\n                {\n}\n            ).addTo(marker_cluster_e890c4b6da47ec87e2ed96c3e3fb62d8);\n        \n    \n            var icon_a9aae759d516ecac358c48b5cb6628ce = L.AwesomeMarkers.icon(\n                {\n  &quot;markerColor&quot;: &quot;white&quot;,\n  &quot;iconColor&quot;: &quot;red&quot;,\n  &quot;icon&quot;: &quot;info-sign&quot;,\n  &quot;prefix&quot;: &quot;glyphicon&quot;,\n  &quot;extraClasses&quot;: &quot;fa-rotate-0&quot;,\n}\n            );\n            marker_5b9b349bf78eba5658f53c628b5d69ad.setIcon(icon_a9aae759d516ecac358c48b5cb6628ce);\n        \n    \n        var popup_d1345002d0dc99cf8ff912917187282a = L.popup({\n  &quot;maxWidth&quot;: &quot;100%&quot;,\n});\n\n        \n            \n                var html_478d1cfb8432e2b80c5b89a59afc7d9b = $(`&lt;div id=&quot;html_478d1cfb8432e2b80c5b89a59afc7d9b&quot; style=&quot;width: 100.0%; height: 100.0%;&quot;&gt;KSC LC-39A&lt;/div&gt;`)[0];\n                popup_d1345002d0dc99cf8ff912917187282a.setContent(html_478d1cfb8432e2b80c5b89a59afc7d9b);\n            \n        \n\n        marker_5b9b349bf78eba5658f53c628b5d69ad.bindPopup(popup_d1345002d0dc99cf8ff912917187282a)\n        ;\n\n        \n    \n    \n            var marker_2793c7ff4c597f4f33e1c352f4f4ede3 = L.marker(\n                [28.57325457, -80.64689529],\n                {\n}\n            ).addTo(marker_cluster_e890c4b6da47ec87e2ed96c3e3fb62d8);\n        \n    \n            var icon_623e6696f5d3bacb220845a645217d99 = L.AwesomeMarkers.icon(\n                {\n  &quot;markerColor&quot;: &quot;white&quot;,\n  &quot;iconColor&quot;: &quot;green&quot;,\n  &quot;icon&quot;: &quot;info-sign&quot;,\n  &quot;prefix&quot;: &quot;glyphicon&quot;,\n  &quot;extraClasses&quot;: &quot;fa-rotate-0&quot;,\n}\n            );\n            marker_2793c7ff4c597f4f33e1c352f4f4ede3.setIcon(icon_623e6696f5d3bacb220845a645217d99);\n        \n    \n        var popup_8d03819988fcb019a6be932217a1d887 = L.popup({\n  &quot;maxWidth&quot;: &quot;100%&quot;,\n});\n\n        \n            \n                var html_8ead413ddb633215e9c971d72207be86 = $(`&lt;div id=&quot;html_8ead413ddb633215e9c971d72207be86&quot; style=&quot;width: 100.0%; height: 100.0%;&quot;&gt;KSC LC-39A&lt;/div&gt;`)[0];\n                popup_8d03819988fcb019a6be932217a1d887.setContent(html_8ead413ddb633215e9c971d72207be86);\n            \n        \n\n        marker_2793c7ff4c597f4f33e1c352f4f4ede3.bindPopup(popup_8d03819988fcb019a6be932217a1d887)\n        ;\n\n        \n    \n    \n            var marker_a21ef4560e179865669b13e98f349bf0 = L.marker(\n                [28.57325457, -80.64689529],\n                {\n}\n            ).addTo(marker_cluster_e890c4b6da47ec87e2ed96c3e3fb62d8);\n        \n    \n            var icon_931e6bdd887c00e8eb4f6e46f5870293 = L.AwesomeMarkers.icon(\n                {\n  &quot;markerColor&quot;: &quot;white&quot;,\n  &quot;iconColor&quot;: &quot;green&quot;,\n  &quot;icon&quot;: &quot;info-sign&quot;,\n  &quot;prefix&quot;: &quot;glyphicon&quot;,\n  &quot;extraClasses&quot;: &quot;fa-rotate-0&quot;,\n}\n            );\n            marker_a21ef4560e179865669b13e98f349bf0.setIcon(icon_931e6bdd887c00e8eb4f6e46f5870293);\n        \n    \n        var popup_8f20ea153edd22d2367495b00a22477b = L.popup({\n  &quot;maxWidth&quot;: &quot;100%&quot;,\n});\n\n        \n            \n                var html_499060edcd41b50e72aa690abe5e57dc = $(`&lt;div id=&quot;html_499060edcd41b50e72aa690abe5e57dc&quot; style=&quot;width: 100.0%; height: 100.0%;&quot;&gt;KSC LC-39A&lt;/div&gt;`)[0];\n                popup_8f20ea153edd22d2367495b00a22477b.setContent(html_499060edcd41b50e72aa690abe5e57dc);\n            \n        \n\n        marker_a21ef4560e179865669b13e98f349bf0.bindPopup(popup_8f20ea153edd22d2367495b00a22477b)\n        ;\n\n        \n    \n    \n            var marker_c30f745ba30f791b2236792bb403f94b = L.marker(\n                [28.57325457, -80.64689529],\n                {\n}\n            ).addTo(marker_cluster_e890c4b6da47ec87e2ed96c3e3fb62d8);\n        \n    \n            var icon_097a8855db2bd5749f02df3e2027d88e = L.AwesomeMarkers.icon(\n                {\n  &quot;markerColor&quot;: &quot;white&quot;,\n  &quot;iconColor&quot;: &quot;red&quot;,\n  &quot;icon&quot;: &quot;info-sign&quot;,\n  &quot;prefix&quot;: &quot;glyphicon&quot;,\n  &quot;extraClasses&quot;: &quot;fa-rotate-0&quot;,\n}\n            );\n            marker_c30f745ba30f791b2236792bb403f94b.setIcon(icon_097a8855db2bd5749f02df3e2027d88e);\n        \n    \n        var popup_f5372f60aacc00e6f5d88f7bc8786227 = L.popup({\n  &quot;maxWidth&quot;: &quot;100%&quot;,\n});\n\n        \n            \n                var html_5a1e6ef41de722be833ca9a07216d253 = $(`&lt;div id=&quot;html_5a1e6ef41de722be833ca9a07216d253&quot; style=&quot;width: 100.0%; height: 100.0%;&quot;&gt;KSC LC-39A&lt;/div&gt;`)[0];\n                popup_f5372f60aacc00e6f5d88f7bc8786227.setContent(html_5a1e6ef41de722be833ca9a07216d253);\n            \n        \n\n        marker_c30f745ba30f791b2236792bb403f94b.bindPopup(popup_f5372f60aacc00e6f5d88f7bc8786227)\n        ;\n\n        \n    \n    \n            var marker_6b1c1af1f8d98d360561a5199317e1fb = L.marker(\n                [28.57325457, -80.64689529],\n                {\n}\n            ).addTo(marker_cluster_e890c4b6da47ec87e2ed96c3e3fb62d8);\n        \n    \n            var icon_4c34e9c8d60cb4ff5a42ae4204b333d6 = L.AwesomeMarkers.icon(\n                {\n  &quot;markerColor&quot;: &quot;white&quot;,\n  &quot;iconColor&quot;: &quot;green&quot;,\n  &quot;icon&quot;: &quot;info-sign&quot;,\n  &quot;prefix&quot;: &quot;glyphicon&quot;,\n  &quot;extraClasses&quot;: &quot;fa-rotate-0&quot;,\n}\n            );\n            marker_6b1c1af1f8d98d360561a5199317e1fb.setIcon(icon_4c34e9c8d60cb4ff5a42ae4204b333d6);\n        \n    \n        var popup_e266b72da703c8dabf6732b983171b8a = L.popup({\n  &quot;maxWidth&quot;: &quot;100%&quot;,\n});\n\n        \n            \n                var html_9650cccfb0665def36083804b5721ea1 = $(`&lt;div id=&quot;html_9650cccfb0665def36083804b5721ea1&quot; style=&quot;width: 100.0%; height: 100.0%;&quot;&gt;KSC LC-39A&lt;/div&gt;`)[0];\n                popup_e266b72da703c8dabf6732b983171b8a.setContent(html_9650cccfb0665def36083804b5721ea1);\n            \n        \n\n        marker_6b1c1af1f8d98d360561a5199317e1fb.bindPopup(popup_e266b72da703c8dabf6732b983171b8a)\n        ;\n\n        \n    \n    \n            var marker_10a6880cfab94e8d78c5847c6178d336 = L.marker(\n                [28.57325457, -80.64689529],\n                {\n}\n            ).addTo(marker_cluster_e890c4b6da47ec87e2ed96c3e3fb62d8);\n        \n    \n            var icon_188f0f8c1b2338310ebbfc0d8e8a2458 = L.AwesomeMarkers.icon(\n                {\n  &quot;markerColor&quot;: &quot;white&quot;,\n  &quot;iconColor&quot;: &quot;green&quot;,\n  &quot;icon&quot;: &quot;info-sign&quot;,\n  &quot;prefix&quot;: &quot;glyphicon&quot;,\n  &quot;extraClasses&quot;: &quot;fa-rotate-0&quot;,\n}\n            );\n            marker_10a6880cfab94e8d78c5847c6178d336.setIcon(icon_188f0f8c1b2338310ebbfc0d8e8a2458);\n        \n    \n        var popup_afe6f8a37e0d7ecc01ae691febbe46b7 = L.popup({\n  &quot;maxWidth&quot;: &quot;100%&quot;,\n});\n\n        \n            \n                var html_a67993d9407c6367fc9145b1e60a9e3a = $(`&lt;div id=&quot;html_a67993d9407c6367fc9145b1e60a9e3a&quot; style=&quot;width: 100.0%; height: 100.0%;&quot;&gt;KSC LC-39A&lt;/div&gt;`)[0];\n                popup_afe6f8a37e0d7ecc01ae691febbe46b7.setContent(html_a67993d9407c6367fc9145b1e60a9e3a);\n            \n        \n\n        marker_10a6880cfab94e8d78c5847c6178d336.bindPopup(popup_afe6f8a37e0d7ecc01ae691febbe46b7)\n        ;\n\n        \n    \n    \n            var marker_42f57b57a1606efbcbaac0bb260bff4e = L.marker(\n                [28.57325457, -80.64689529],\n                {\n}\n            ).addTo(marker_cluster_e890c4b6da47ec87e2ed96c3e3fb62d8);\n        \n    \n            var icon_203f7ee6fb8f55706c7d74cf44952937 = L.AwesomeMarkers.icon(\n                {\n  &quot;markerColor&quot;: &quot;white&quot;,\n  &quot;iconColor&quot;: &quot;red&quot;,\n  &quot;icon&quot;: &quot;info-sign&quot;,\n  &quot;prefix&quot;: &quot;glyphicon&quot;,\n  &quot;extraClasses&quot;: &quot;fa-rotate-0&quot;,\n}\n            );\n            marker_42f57b57a1606efbcbaac0bb260bff4e.setIcon(icon_203f7ee6fb8f55706c7d74cf44952937);\n        \n    \n        var popup_762738ea5608c6cf2a2649af10f65147 = L.popup({\n  &quot;maxWidth&quot;: &quot;100%&quot;,\n});\n\n        \n            \n                var html_75f15f4b7e57ac701450044434bb6552 = $(`&lt;div id=&quot;html_75f15f4b7e57ac701450044434bb6552&quot; style=&quot;width: 100.0%; height: 100.0%;&quot;&gt;KSC LC-39A&lt;/div&gt;`)[0];\n                popup_762738ea5608c6cf2a2649af10f65147.setContent(html_75f15f4b7e57ac701450044434bb6552);\n            \n        \n\n        marker_42f57b57a1606efbcbaac0bb260bff4e.bindPopup(popup_762738ea5608c6cf2a2649af10f65147)\n        ;\n\n        \n    \n    \n            var marker_860b940cf31d0d3d054df5fecaf31c5f = L.marker(\n                [28.57325457, -80.64689529],\n                {\n}\n            ).addTo(marker_cluster_e890c4b6da47ec87e2ed96c3e3fb62d8);\n        \n    \n            var icon_b59b5993a52c9212b82e63924fac9e17 = L.AwesomeMarkers.icon(\n                {\n  &quot;markerColor&quot;: &quot;white&quot;,\n  &quot;iconColor&quot;: &quot;green&quot;,\n  &quot;icon&quot;: &quot;info-sign&quot;,\n  &quot;prefix&quot;: &quot;glyphicon&quot;,\n  &quot;extraClasses&quot;: &quot;fa-rotate-0&quot;,\n}\n            );\n            marker_860b940cf31d0d3d054df5fecaf31c5f.setIcon(icon_b59b5993a52c9212b82e63924fac9e17);\n        \n    \n        var popup_9ed576a7d79e14e5dd0556396937d888 = L.popup({\n  &quot;maxWidth&quot;: &quot;100%&quot;,\n});\n\n        \n            \n                var html_21303b229b7c57d5e5a91c5c14eba75a = $(`&lt;div id=&quot;html_21303b229b7c57d5e5a91c5c14eba75a&quot; style=&quot;width: 100.0%; height: 100.0%;&quot;&gt;KSC LC-39A&lt;/div&gt;`)[0];\n                popup_9ed576a7d79e14e5dd0556396937d888.setContent(html_21303b229b7c57d5e5a91c5c14eba75a);\n            \n        \n\n        marker_860b940cf31d0d3d054df5fecaf31c5f.bindPopup(popup_9ed576a7d79e14e5dd0556396937d888)\n        ;\n\n        \n    \n    \n            var marker_833b799eedb38e9c8b898cbba85be67d = L.marker(\n                [28.57325457, -80.64689529],\n                {\n}\n            ).addTo(marker_cluster_e890c4b6da47ec87e2ed96c3e3fb62d8);\n        \n    \n            var icon_daa5392928abd2b18c4065189da9be60 = L.AwesomeMarkers.icon(\n                {\n  &quot;markerColor&quot;: &quot;white&quot;,\n  &quot;iconColor&quot;: &quot;green&quot;,\n  &quot;icon&quot;: &quot;info-sign&quot;,\n  &quot;prefix&quot;: &quot;glyphicon&quot;,\n  &quot;extraClasses&quot;: &quot;fa-rotate-0&quot;,\n}\n            );\n            marker_833b799eedb38e9c8b898cbba85be67d.setIcon(icon_daa5392928abd2b18c4065189da9be60);\n        \n    \n        var popup_43202e6853b2ba069c604804dd03d2db = L.popup({\n  &quot;maxWidth&quot;: &quot;100%&quot;,\n});\n\n        \n            \n                var html_b5841137e42b0aa2681bdce7fdcd7d50 = $(`&lt;div id=&quot;html_b5841137e42b0aa2681bdce7fdcd7d50&quot; style=&quot;width: 100.0%; height: 100.0%;&quot;&gt;KSC LC-39A&lt;/div&gt;`)[0];\n                popup_43202e6853b2ba069c604804dd03d2db.setContent(html_b5841137e42b0aa2681bdce7fdcd7d50);\n            \n        \n\n        marker_833b799eedb38e9c8b898cbba85be67d.bindPopup(popup_43202e6853b2ba069c604804dd03d2db)\n        ;\n\n        \n    \n    \n            var marker_aff8253016618bcb1ec81256f299c71f = L.marker(\n                [28.57325457, -80.64689529],\n                {\n}\n            ).addTo(marker_cluster_e890c4b6da47ec87e2ed96c3e3fb62d8);\n        \n    \n            var icon_9670f91d2a8fde52b48c47740614ea4d = L.AwesomeMarkers.icon(\n                {\n  &quot;markerColor&quot;: &quot;white&quot;,\n  &quot;iconColor&quot;: &quot;green&quot;,\n  &quot;icon&quot;: &quot;info-sign&quot;,\n  &quot;prefix&quot;: &quot;glyphicon&quot;,\n  &quot;extraClasses&quot;: &quot;fa-rotate-0&quot;,\n}\n            );\n            marker_aff8253016618bcb1ec81256f299c71f.setIcon(icon_9670f91d2a8fde52b48c47740614ea4d);\n        \n    \n        var popup_85f43f714c8334f7d5831ce88d1454dc = L.popup({\n  &quot;maxWidth&quot;: &quot;100%&quot;,\n});\n\n        \n            \n                var html_94625775f5fa115a4c86458345269709 = $(`&lt;div id=&quot;html_94625775f5fa115a4c86458345269709&quot; style=&quot;width: 100.0%; height: 100.0%;&quot;&gt;KSC LC-39A&lt;/div&gt;`)[0];\n                popup_85f43f714c8334f7d5831ce88d1454dc.setContent(html_94625775f5fa115a4c86458345269709);\n            \n        \n\n        marker_aff8253016618bcb1ec81256f299c71f.bindPopup(popup_85f43f714c8334f7d5831ce88d1454dc)\n        ;\n\n        \n    \n    \n            var marker_6388a75831c25ee7662dda86bec9f667 = L.marker(\n                [28.57325457, -80.64689529],\n                {\n}\n            ).addTo(marker_cluster_e890c4b6da47ec87e2ed96c3e3fb62d8);\n        \n    \n            var icon_b870b1f1a11df19d86b30546e01b485d = L.AwesomeMarkers.icon(\n                {\n  &quot;markerColor&quot;: &quot;white&quot;,\n  &quot;iconColor&quot;: &quot;green&quot;,\n  &quot;icon&quot;: &quot;info-sign&quot;,\n  &quot;prefix&quot;: &quot;glyphicon&quot;,\n  &quot;extraClasses&quot;: &quot;fa-rotate-0&quot;,\n}\n            );\n            marker_6388a75831c25ee7662dda86bec9f667.setIcon(icon_b870b1f1a11df19d86b30546e01b485d);\n        \n    \n        var popup_22e891f10eeb1a1f2fe20c0657a615fd = L.popup({\n  &quot;maxWidth&quot;: &quot;100%&quot;,\n});\n\n        \n            \n                var html_53fe9d4b6758834df17294a4667b411f = $(`&lt;div id=&quot;html_53fe9d4b6758834df17294a4667b411f&quot; style=&quot;width: 100.0%; height: 100.0%;&quot;&gt;KSC LC-39A&lt;/div&gt;`)[0];\n                popup_22e891f10eeb1a1f2fe20c0657a615fd.setContent(html_53fe9d4b6758834df17294a4667b411f);\n            \n        \n\n        marker_6388a75831c25ee7662dda86bec9f667.bindPopup(popup_22e891f10eeb1a1f2fe20c0657a615fd)\n        ;\n\n        \n    \n    \n            var marker_47708701a70cfd9e08216545ed247b68 = L.marker(\n                [28.57325457, -80.64689529],\n                {\n}\n            ).addTo(marker_cluster_e890c4b6da47ec87e2ed96c3e3fb62d8);\n        \n    \n            var icon_99e8c349b36a734a227976249d13bd27 = L.AwesomeMarkers.icon(\n                {\n  &quot;markerColor&quot;: &quot;white&quot;,\n  &quot;iconColor&quot;: &quot;green&quot;,\n  &quot;icon&quot;: &quot;info-sign&quot;,\n  &quot;prefix&quot;: &quot;glyphicon&quot;,\n  &quot;extraClasses&quot;: &quot;fa-rotate-0&quot;,\n}\n            );\n            marker_47708701a70cfd9e08216545ed247b68.setIcon(icon_99e8c349b36a734a227976249d13bd27);\n        \n    \n        var popup_bf18622807026d68eccfcb0ec8399a19 = L.popup({\n  &quot;maxWidth&quot;: &quot;100%&quot;,\n});\n\n        \n            \n                var html_100871c788b1eefb8391d5eabe06c460 = $(`&lt;div id=&quot;html_100871c788b1eefb8391d5eabe06c460&quot; style=&quot;width: 100.0%; height: 100.0%;&quot;&gt;KSC LC-39A&lt;/div&gt;`)[0];\n                popup_bf18622807026d68eccfcb0ec8399a19.setContent(html_100871c788b1eefb8391d5eabe06c460);\n            \n        \n\n        marker_47708701a70cfd9e08216545ed247b68.bindPopup(popup_bf18622807026d68eccfcb0ec8399a19)\n        ;\n\n        \n    \n    \n            var marker_3dd9d87328dcfa2c10c8581cdb22aa76 = L.marker(\n                [28.56319718, -80.57682003],\n                {\n}\n            ).addTo(marker_cluster_e890c4b6da47ec87e2ed96c3e3fb62d8);\n        \n    \n            var icon_ac46c9993d4537a6b84efd2bdd647c7c = L.AwesomeMarkers.icon(\n                {\n  &quot;markerColor&quot;: &quot;white&quot;,\n  &quot;iconColor&quot;: &quot;green&quot;,\n  &quot;icon&quot;: &quot;info-sign&quot;,\n  &quot;prefix&quot;: &quot;glyphicon&quot;,\n  &quot;extraClasses&quot;: &quot;fa-rotate-0&quot;,\n}\n            );\n            marker_3dd9d87328dcfa2c10c8581cdb22aa76.setIcon(icon_ac46c9993d4537a6b84efd2bdd647c7c);\n        \n    \n        var popup_0a847b95c46c74cf019cf5bd2c0fe948 = L.popup({\n  &quot;maxWidth&quot;: &quot;100%&quot;,\n});\n\n        \n            \n                var html_d4352b994b2372607d70d5747fbdc0bb = $(`&lt;div id=&quot;html_d4352b994b2372607d70d5747fbdc0bb&quot; style=&quot;width: 100.0%; height: 100.0%;&quot;&gt;CCAFS SLC-40&lt;/div&gt;`)[0];\n                popup_0a847b95c46c74cf019cf5bd2c0fe948.setContent(html_d4352b994b2372607d70d5747fbdc0bb);\n            \n        \n\n        marker_3dd9d87328dcfa2c10c8581cdb22aa76.bindPopup(popup_0a847b95c46c74cf019cf5bd2c0fe948)\n        ;\n\n        \n    \n    \n            var marker_7c85545ada1b8b31d058704e94024ba5 = L.marker(\n                [28.56319718, -80.57682003],\n                {\n}\n            ).addTo(marker_cluster_e890c4b6da47ec87e2ed96c3e3fb62d8);\n        \n    \n            var icon_9c4c6eec1d23123206f065ba60847ed2 = L.AwesomeMarkers.icon(\n                {\n  &quot;markerColor&quot;: &quot;white&quot;,\n  &quot;iconColor&quot;: &quot;green&quot;,\n  &quot;icon&quot;: &quot;info-sign&quot;,\n  &quot;prefix&quot;: &quot;glyphicon&quot;,\n  &quot;extraClasses&quot;: &quot;fa-rotate-0&quot;,\n}\n            );\n            marker_7c85545ada1b8b31d058704e94024ba5.setIcon(icon_9c4c6eec1d23123206f065ba60847ed2);\n        \n    \n        var popup_70c5df5174143552c6c1cfbd7ffe4510 = L.popup({\n  &quot;maxWidth&quot;: &quot;100%&quot;,\n});\n\n        \n            \n                var html_5235f3910830ddeb746c469a07109496 = $(`&lt;div id=&quot;html_5235f3910830ddeb746c469a07109496&quot; style=&quot;width: 100.0%; height: 100.0%;&quot;&gt;CCAFS SLC-40&lt;/div&gt;`)[0];\n                popup_70c5df5174143552c6c1cfbd7ffe4510.setContent(html_5235f3910830ddeb746c469a07109496);\n            \n        \n\n        marker_7c85545ada1b8b31d058704e94024ba5.bindPopup(popup_70c5df5174143552c6c1cfbd7ffe4510)\n        ;\n\n        \n    \n    \n            var marker_33e4fc011cd893b2410f6dc109787118 = L.marker(\n                [28.56319718, -80.57682003],\n                {\n}\n            ).addTo(marker_cluster_e890c4b6da47ec87e2ed96c3e3fb62d8);\n        \n    \n            var icon_86ad025f44f61b392caaf16ded040f49 = L.AwesomeMarkers.icon(\n                {\n  &quot;markerColor&quot;: &quot;white&quot;,\n  &quot;iconColor&quot;: &quot;red&quot;,\n  &quot;icon&quot;: &quot;info-sign&quot;,\n  &quot;prefix&quot;: &quot;glyphicon&quot;,\n  &quot;extraClasses&quot;: &quot;fa-rotate-0&quot;,\n}\n            );\n            marker_33e4fc011cd893b2410f6dc109787118.setIcon(icon_86ad025f44f61b392caaf16ded040f49);\n        \n    \n        var popup_536f4dd72302b83df75ca1d5320ee767 = L.popup({\n  &quot;maxWidth&quot;: &quot;100%&quot;,\n});\n\n        \n            \n                var html_a4defa5912c197b93d562ac07698d473 = $(`&lt;div id=&quot;html_a4defa5912c197b93d562ac07698d473&quot; style=&quot;width: 100.0%; height: 100.0%;&quot;&gt;CCAFS SLC-40&lt;/div&gt;`)[0];\n                popup_536f4dd72302b83df75ca1d5320ee767.setContent(html_a4defa5912c197b93d562ac07698d473);\n            \n        \n\n        marker_33e4fc011cd893b2410f6dc109787118.bindPopup(popup_536f4dd72302b83df75ca1d5320ee767)\n        ;\n\n        \n    \n    \n            var marker_f380652ab215f3a34120bee2e1e03be3 = L.marker(\n                [28.56319718, -80.57682003],\n                {\n}\n            ).addTo(marker_cluster_e890c4b6da47ec87e2ed96c3e3fb62d8);\n        \n    \n            var icon_3649b2700ba963e8e39190503c990b7c = L.AwesomeMarkers.icon(\n                {\n  &quot;markerColor&quot;: &quot;white&quot;,\n  &quot;iconColor&quot;: &quot;red&quot;,\n  &quot;icon&quot;: &quot;info-sign&quot;,\n  &quot;prefix&quot;: &quot;glyphicon&quot;,\n  &quot;extraClasses&quot;: &quot;fa-rotate-0&quot;,\n}\n            );\n            marker_f380652ab215f3a34120bee2e1e03be3.setIcon(icon_3649b2700ba963e8e39190503c990b7c);\n        \n    \n        var popup_bd9021a5d271be0ee5bce7b8408d5894 = L.popup({\n  &quot;maxWidth&quot;: &quot;100%&quot;,\n});\n\n        \n            \n                var html_d7ab52651db82b9a741f564f017f492a = $(`&lt;div id=&quot;html_d7ab52651db82b9a741f564f017f492a&quot; style=&quot;width: 100.0%; height: 100.0%;&quot;&gt;CCAFS SLC-40&lt;/div&gt;`)[0];\n                popup_bd9021a5d271be0ee5bce7b8408d5894.setContent(html_d7ab52651db82b9a741f564f017f492a);\n            \n        \n\n        marker_f380652ab215f3a34120bee2e1e03be3.bindPopup(popup_bd9021a5d271be0ee5bce7b8408d5894)\n        ;\n\n        \n    \n    \n            var marker_d4b5d21567b6e18ba3539b056814cdab = L.marker(\n                [28.56319718, -80.57682003],\n                {\n}\n            ).addTo(marker_cluster_e890c4b6da47ec87e2ed96c3e3fb62d8);\n        \n    \n            var icon_bbd0b27b4ab0430b6fbb8612233ca0ec = L.AwesomeMarkers.icon(\n                {\n  &quot;markerColor&quot;: &quot;white&quot;,\n  &quot;iconColor&quot;: &quot;red&quot;,\n  &quot;icon&quot;: &quot;info-sign&quot;,\n  &quot;prefix&quot;: &quot;glyphicon&quot;,\n  &quot;extraClasses&quot;: &quot;fa-rotate-0&quot;,\n}\n            );\n            marker_d4b5d21567b6e18ba3539b056814cdab.setIcon(icon_bbd0b27b4ab0430b6fbb8612233ca0ec);\n        \n    \n        var popup_1f1375b504f79d2c700499ac71bcba47 = L.popup({\n  &quot;maxWidth&quot;: &quot;100%&quot;,\n});\n\n        \n            \n                var html_a3533756f1e781e7961d4ea0981744d9 = $(`&lt;div id=&quot;html_a3533756f1e781e7961d4ea0981744d9&quot; style=&quot;width: 100.0%; height: 100.0%;&quot;&gt;CCAFS SLC-40&lt;/div&gt;`)[0];\n                popup_1f1375b504f79d2c700499ac71bcba47.setContent(html_a3533756f1e781e7961d4ea0981744d9);\n            \n        \n\n        marker_d4b5d21567b6e18ba3539b056814cdab.bindPopup(popup_1f1375b504f79d2c700499ac71bcba47)\n        ;\n\n        \n    \n    \n            var marker_4fbe5eeb78e3a35117d95626524e9e3c = L.marker(\n                [28.56319718, -80.57682003],\n                {\n}\n            ).addTo(marker_cluster_e890c4b6da47ec87e2ed96c3e3fb62d8);\n        \n    \n            var icon_895db8225b7cb2e99cd9e109a822194b = L.AwesomeMarkers.icon(\n                {\n  &quot;markerColor&quot;: &quot;white&quot;,\n  &quot;iconColor&quot;: &quot;green&quot;,\n  &quot;icon&quot;: &quot;info-sign&quot;,\n  &quot;prefix&quot;: &quot;glyphicon&quot;,\n  &quot;extraClasses&quot;: &quot;fa-rotate-0&quot;,\n}\n            );\n            marker_4fbe5eeb78e3a35117d95626524e9e3c.setIcon(icon_895db8225b7cb2e99cd9e109a822194b);\n        \n    \n        var popup_dd742ede63fba9f3587bb1b6ba60077e = L.popup({\n  &quot;maxWidth&quot;: &quot;100%&quot;,\n});\n\n        \n            \n                var html_ef3309c88ab273262b9f7695f26c00ab = $(`&lt;div id=&quot;html_ef3309c88ab273262b9f7695f26c00ab&quot; style=&quot;width: 100.0%; height: 100.0%;&quot;&gt;CCAFS SLC-40&lt;/div&gt;`)[0];\n                popup_dd742ede63fba9f3587bb1b6ba60077e.setContent(html_ef3309c88ab273262b9f7695f26c00ab);\n            \n        \n\n        marker_4fbe5eeb78e3a35117d95626524e9e3c.bindPopup(popup_dd742ede63fba9f3587bb1b6ba60077e)\n        ;\n\n        \n    \n    \n            var marker_c38110ec0b154289649a5c477e7cc955 = L.marker(\n                [28.56319718, -80.57682003],\n                {\n}\n            ).addTo(marker_cluster_e890c4b6da47ec87e2ed96c3e3fb62d8);\n        \n    \n            var icon_4abc11ffcd2e4f5e5c86b00737b3fa84 = L.AwesomeMarkers.icon(\n                {\n  &quot;markerColor&quot;: &quot;white&quot;,\n  &quot;iconColor&quot;: &quot;red&quot;,\n  &quot;icon&quot;: &quot;info-sign&quot;,\n  &quot;prefix&quot;: &quot;glyphicon&quot;,\n  &quot;extraClasses&quot;: &quot;fa-rotate-0&quot;,\n}\n            );\n            marker_c38110ec0b154289649a5c477e7cc955.setIcon(icon_4abc11ffcd2e4f5e5c86b00737b3fa84);\n        \n    \n        var popup_0c95d6612f544e45cdd8128835cceedf = L.popup({\n  &quot;maxWidth&quot;: &quot;100%&quot;,\n});\n\n        \n            \n                var html_6c61b428b82971d59f0c8beb0c323325 = $(`&lt;div id=&quot;html_6c61b428b82971d59f0c8beb0c323325&quot; style=&quot;width: 100.0%; height: 100.0%;&quot;&gt;CCAFS SLC-40&lt;/div&gt;`)[0];\n                popup_0c95d6612f544e45cdd8128835cceedf.setContent(html_6c61b428b82971d59f0c8beb0c323325);\n            \n        \n\n        marker_c38110ec0b154289649a5c477e7cc955.bindPopup(popup_0c95d6612f544e45cdd8128835cceedf)\n        ;\n\n        \n    \n    \n            marker_cluster_e890c4b6da47ec87e2ed96c3e3fb62d8.addTo(map_41e2f7af18661beb7494c84e5ab1200f);\n        \n&lt;/script&gt;\n&lt;/html&gt;\" style=\"position:absolute;width:100%;height:100%;left:0;top:0;border:none !important;\" allowfullscreen webkitallowfullscreen mozallowfullscreen></iframe></div></div>"
          },
          "metadata": {}
        }
      ],
      "execution_count": null
    },
    {
      "cell_type": "markdown",
      "source": [
        "Your updated map may look like the following screenshots:\n"
      ],
      "metadata": {
        "id": "lorjZamNoPh6"
      }
    },
    {
      "cell_type": "markdown",
      "source": [
        "<center>\n",
        "    <img src=\"https://cf-courses-data.s3.us.cloud-object-storage.appdomain.cloud/IBM-DS0321EN-SkillsNetwork/labs/module_3/images/launch_site_marker_cluster.png\">\n",
        "</center>\n"
      ],
      "metadata": {
        "id": "dxvOAU3YoPh6"
      }
    },
    {
      "cell_type": "markdown",
      "source": [
        "<center>\n",
        "    <img src=\"https://cf-courses-data.s3.us.cloud-object-storage.appdomain.cloud/IBM-DS0321EN-SkillsNetwork/labs/module_3/images/launch_site_marker_cluster_zoomed.png\">\n",
        "</center>\n"
      ],
      "metadata": {
        "id": "-Go1CxfqoPh6"
      }
    },
    {
      "cell_type": "markdown",
      "source": [
        "From the color-labeled markers in marker clusters, you should be able to easily identify which launch sites have relatively high success rates.\n"
      ],
      "metadata": {
        "id": "8YtMvCa1oPh6"
      }
    },
    {
      "cell_type": "markdown",
      "source": [
        "# TASK 3: Calculate the distances between a launch site to its proximities\n"
      ],
      "metadata": {
        "id": "DrbFfR3JoPh6"
      }
    },
    {
      "cell_type": "markdown",
      "source": [
        "Next, we need to explore and analyze the proximities of launch sites.\n"
      ],
      "metadata": {
        "id": "V0xGiJGKoPh6"
      }
    },
    {
      "cell_type": "markdown",
      "source": [
        "Let's first add a `MousePosition` on the map to get coordinate for a mouse over a point on the map. As such, while you are exploring the map, you can easily find the coordinates of any points of interests (such as railway)\n"
      ],
      "metadata": {
        "id": "QtqdCkwQoPh6"
      }
    },
    {
      "cell_type": "code",
      "source": [
        "# Add Mouse Position to get the coordinate (Lat, Long) for a mouse over on the map\n",
        "formatter = \"function(num) {return L.Util.formatNum(num, 5);};\"\n",
        "mouse_position = MousePosition(\n",
        "    position='topright',\n",
        "    separator=' Long: ',\n",
        "    empty_string='NaN',\n",
        "    lng_first=False,\n",
        "    num_digits=20,\n",
        "    prefix='Lat:',\n",
        "    lat_formatter=formatter,\n",
        "    lng_formatter=formatter,\n",
        ")\n",
        "\n",
        "site_map.add_child(mouse_position)\n",
        "site_map"
      ],
      "metadata": {
        "trusted": true,
        "id": "BkgQRdyToPh7",
        "outputId": "43b094f0-bd48-4436-b4f0-efda7ba40990",
        "colab": {
          "base_uri": "https://localhost:8080/",
          "height": 711
        }
      },
      "outputs": [
        {
          "output_type": "execute_result",
          "data": {
            "text/plain": [
              "<folium.folium.Map at 0x7e4397c9d450>"
            ],
            "text/html": [
              "<div style=\"width:100%;\"><div style=\"position:relative;width:100%;height:0;padding-bottom:60%;\"><span style=\"color:#565656\">Make this Notebook Trusted to load map: File -> Trust Notebook</span><iframe srcdoc=\"&lt;!DOCTYPE html&gt;\n",
              "&lt;html&gt;\n",
              "&lt;head&gt;\n",
              "    \n",
              "    &lt;meta http-equiv=&quot;content-type&quot; content=&quot;text/html; charset=UTF-8&quot; /&gt;\n",
              "    \n",
              "        &lt;script&gt;\n",
              "            L_NO_TOUCH = false;\n",
              "            L_DISABLE_3D = false;\n",
              "        &lt;/script&gt;\n",
              "    \n",
              "    &lt;style&gt;html, body {width: 100%;height: 100%;margin: 0;padding: 0;}&lt;/style&gt;\n",
              "    &lt;style&gt;#map {position:absolute;top:0;bottom:0;right:0;left:0;}&lt;/style&gt;\n",
              "    &lt;script src=&quot;https://cdn.jsdelivr.net/npm/leaflet@1.9.3/dist/leaflet.js&quot;&gt;&lt;/script&gt;\n",
              "    &lt;script src=&quot;https://code.jquery.com/jquery-3.7.1.min.js&quot;&gt;&lt;/script&gt;\n",
              "    &lt;script src=&quot;https://cdn.jsdelivr.net/npm/bootstrap@5.2.2/dist/js/bootstrap.bundle.min.js&quot;&gt;&lt;/script&gt;\n",
              "    &lt;script src=&quot;https://cdnjs.cloudflare.com/ajax/libs/Leaflet.awesome-markers/2.0.2/leaflet.awesome-markers.js&quot;&gt;&lt;/script&gt;\n",
              "    &lt;link rel=&quot;stylesheet&quot; href=&quot;https://cdn.jsdelivr.net/npm/leaflet@1.9.3/dist/leaflet.css&quot;/&gt;\n",
              "    &lt;link rel=&quot;stylesheet&quot; href=&quot;https://cdn.jsdelivr.net/npm/bootstrap@5.2.2/dist/css/bootstrap.min.css&quot;/&gt;\n",
              "    &lt;link rel=&quot;stylesheet&quot; href=&quot;https://netdna.bootstrapcdn.com/bootstrap/3.0.0/css/bootstrap-glyphicons.css&quot;/&gt;\n",
              "    &lt;link rel=&quot;stylesheet&quot; href=&quot;https://cdn.jsdelivr.net/npm/@fortawesome/fontawesome-free@6.2.0/css/all.min.css&quot;/&gt;\n",
              "    &lt;link rel=&quot;stylesheet&quot; href=&quot;https://cdnjs.cloudflare.com/ajax/libs/Leaflet.awesome-markers/2.0.2/leaflet.awesome-markers.css&quot;/&gt;\n",
              "    &lt;link rel=&quot;stylesheet&quot; href=&quot;https://cdn.jsdelivr.net/gh/python-visualization/folium/folium/templates/leaflet.awesome.rotate.min.css&quot;/&gt;\n",
              "    \n",
              "            &lt;meta name=&quot;viewport&quot; content=&quot;width=device-width,\n",
              "                initial-scale=1.0, maximum-scale=1.0, user-scalable=no&quot; /&gt;\n",
              "            &lt;style&gt;\n",
              "                #map_40bc74e99c5ea055df747a9b81eecc0b {\n",
              "                    position: relative;\n",
              "                    width: 100.0%;\n",
              "                    height: 100.0%;\n",
              "                    left: 0.0%;\n",
              "                    top: 0.0%;\n",
              "                }\n",
              "                .leaflet-container { font-size: 1rem; }\n",
              "            &lt;/style&gt;\n",
              "        \n",
              "    &lt;script src=&quot;https://cdn.jsdelivr.net/gh/ardhi/Leaflet.MousePosition/src/L.Control.MousePosition.min.js&quot;&gt;&lt;/script&gt;\n",
              "    &lt;link rel=&quot;stylesheet&quot; href=&quot;https://cdn.jsdelivr.net/gh/ardhi/Leaflet.MousePosition/src/L.Control.MousePosition.min.css&quot;/&gt;\n",
              "&lt;/head&gt;\n",
              "&lt;body&gt;\n",
              "    \n",
              "    \n",
              "            &lt;div class=&quot;folium-map&quot; id=&quot;map_40bc74e99c5ea055df747a9b81eecc0b&quot; &gt;&lt;/div&gt;\n",
              "        \n",
              "&lt;/body&gt;\n",
              "&lt;script&gt;\n",
              "    \n",
              "    \n",
              "            var map_40bc74e99c5ea055df747a9b81eecc0b = L.map(\n",
              "                &quot;map_40bc74e99c5ea055df747a9b81eecc0b&quot;,\n",
              "                {\n",
              "                    center: [29.559684888503615, -95.0830971930759],\n",
              "                    crs: L.CRS.EPSG3857,\n",
              "                    ...{\n",
              "  &quot;zoom&quot;: 5,\n",
              "  &quot;zoomControl&quot;: true,\n",
              "  &quot;preferCanvas&quot;: false,\n",
              "}\n",
              "\n",
              "                }\n",
              "            );\n",
              "\n",
              "            \n",
              "\n",
              "        \n",
              "    \n",
              "            var tile_layer_0278f85a2902c861b8534f5ca4eaa5f2 = L.tileLayer(\n",
              "                &quot;https://tile.openstreetmap.org/{z}/{x}/{y}.png&quot;,\n",
              "                {\n",
              "  &quot;minZoom&quot;: 0,\n",
              "  &quot;maxZoom&quot;: 19,\n",
              "  &quot;maxNativeZoom&quot;: 19,\n",
              "  &quot;noWrap&quot;: false,\n",
              "  &quot;attribution&quot;: &quot;\\u0026copy; \\u003ca href=\\&quot;https://www.openstreetmap.org/copyright\\&quot;\\u003eOpenStreetMap\\u003c/a\\u003e contributors&quot;,\n",
              "  &quot;subdomains&quot;: &quot;abc&quot;,\n",
              "  &quot;detectRetina&quot;: false,\n",
              "  &quot;tms&quot;: false,\n",
              "  &quot;opacity&quot;: 1,\n",
              "}\n",
              "\n",
              "            );\n",
              "        \n",
              "    \n",
              "            tile_layer_0278f85a2902c861b8534f5ca4eaa5f2.addTo(map_40bc74e99c5ea055df747a9b81eecc0b);\n",
              "        \n",
              "    \n",
              "            var circle_ef4d09ae4201ceba1bb637b5e66a4aef = L.circle(\n",
              "                [28.56230197, -80.57735648],\n",
              "                {&quot;bubblingMouseEvents&quot;: true, &quot;color&quot;: &quot;#d35400&quot;, &quot;dashArray&quot;: null, &quot;dashOffset&quot;: null, &quot;fill&quot;: true, &quot;fillColor&quot;: &quot;#d35400&quot;, &quot;fillOpacity&quot;: 0.2, &quot;fillRule&quot;: &quot;evenodd&quot;, &quot;lineCap&quot;: &quot;round&quot;, &quot;lineJoin&quot;: &quot;round&quot;, &quot;opacity&quot;: 1.0, &quot;radius&quot;: 1000, &quot;stroke&quot;: true, &quot;weight&quot;: 3}\n",
              "            ).addTo(map_40bc74e99c5ea055df747a9b81eecc0b);\n",
              "        \n",
              "    \n",
              "        var popup_62fc47390ee0abf10366334821123914 = L.popup({\n",
              "  &quot;maxWidth&quot;: &quot;100%&quot;,\n",
              "});\n",
              "\n",
              "        \n",
              "            \n",
              "                var html_edff2bf4e33a27065f5a63288a20bd73 = $(`&lt;div id=&quot;html_edff2bf4e33a27065f5a63288a20bd73&quot; style=&quot;width: 100.0%; height: 100.0%;&quot;&gt;CCAFS LC-40&lt;/div&gt;`)[0];\n",
              "                popup_62fc47390ee0abf10366334821123914.setContent(html_edff2bf4e33a27065f5a63288a20bd73);\n",
              "            \n",
              "        \n",
              "\n",
              "        circle_ef4d09ae4201ceba1bb637b5e66a4aef.bindPopup(popup_62fc47390ee0abf10366334821123914)\n",
              "        ;\n",
              "\n",
              "        \n",
              "    \n",
              "    \n",
              "            var marker_37b76c63e37ddf25b41d4a0c7570e186 = L.marker(\n",
              "                [28.56230197, -80.57735648],\n",
              "                {\n",
              "}\n",
              "            ).addTo(map_40bc74e99c5ea055df747a9b81eecc0b);\n",
              "        \n",
              "    \n",
              "            var div_icon_cbaf95297001132b7fd1dd0be137140d = L.divIcon({\n",
              "  &quot;html&quot;: &quot;\\u003cdiv style=\\&quot;font-size: 12; color:#d35400;\\&quot;\\u003e\\u003cb\\u003eCCAFS LC-40\\u003c/b\\u003e\\u003c/div\\u003e&quot;,\n",
              "  &quot;iconSize&quot;: [20, 20],\n",
              "  &quot;iconAnchor&quot;: [0, 0],\n",
              "  &quot;className&quot;: &quot;empty&quot;,\n",
              "});\n",
              "            marker_37b76c63e37ddf25b41d4a0c7570e186.setIcon(div_icon_cbaf95297001132b7fd1dd0be137140d);\n",
              "        \n",
              "    \n",
              "            var circle_0ab8814044db548252a7fead052a7c25 = L.circle(\n",
              "                [28.56319718, -80.57682003],\n",
              "                {&quot;bubblingMouseEvents&quot;: true, &quot;color&quot;: &quot;#d35400&quot;, &quot;dashArray&quot;: null, &quot;dashOffset&quot;: null, &quot;fill&quot;: true, &quot;fillColor&quot;: &quot;#d35400&quot;, &quot;fillOpacity&quot;: 0.2, &quot;fillRule&quot;: &quot;evenodd&quot;, &quot;lineCap&quot;: &quot;round&quot;, &quot;lineJoin&quot;: &quot;round&quot;, &quot;opacity&quot;: 1.0, &quot;radius&quot;: 1000, &quot;stroke&quot;: true, &quot;weight&quot;: 3}\n",
              "            ).addTo(map_40bc74e99c5ea055df747a9b81eecc0b);\n",
              "        \n",
              "    \n",
              "        var popup_b52b46fc0b23997b3b386098ea54670c = L.popup({\n",
              "  &quot;maxWidth&quot;: &quot;100%&quot;,\n",
              "});\n",
              "\n",
              "        \n",
              "            \n",
              "                var html_c769c250db2e2bb38c745c0a37e5cc2e = $(`&lt;div id=&quot;html_c769c250db2e2bb38c745c0a37e5cc2e&quot; style=&quot;width: 100.0%; height: 100.0%;&quot;&gt;CCAFS SLC-40&lt;/div&gt;`)[0];\n",
              "                popup_b52b46fc0b23997b3b386098ea54670c.setContent(html_c769c250db2e2bb38c745c0a37e5cc2e);\n",
              "            \n",
              "        \n",
              "\n",
              "        circle_0ab8814044db548252a7fead052a7c25.bindPopup(popup_b52b46fc0b23997b3b386098ea54670c)\n",
              "        ;\n",
              "\n",
              "        \n",
              "    \n",
              "    \n",
              "            var marker_f070a2c030f3c92ffc1155fade970de2 = L.marker(\n",
              "                [28.56319718, -80.57682003],\n",
              "                {\n",
              "}\n",
              "            ).addTo(map_40bc74e99c5ea055df747a9b81eecc0b);\n",
              "        \n",
              "    \n",
              "            var div_icon_9b3ea64870c747b57ba863ff46b87688 = L.divIcon({\n",
              "  &quot;html&quot;: &quot;\\u003cdiv style=\\&quot;font-size: 12; color:#d35400;\\&quot;\\u003e\\u003cb\\u003eCCAFS SLC-40\\u003c/b\\u003e\\u003c/div\\u003e&quot;,\n",
              "  &quot;iconSize&quot;: [20, 20],\n",
              "  &quot;iconAnchor&quot;: [0, 0],\n",
              "  &quot;className&quot;: &quot;empty&quot;,\n",
              "});\n",
              "            marker_f070a2c030f3c92ffc1155fade970de2.setIcon(div_icon_9b3ea64870c747b57ba863ff46b87688);\n",
              "        \n",
              "    \n",
              "            var circle_5cb0e4cd001f6959d4a8cb9e8372023f = L.circle(\n",
              "                [28.57325457, -80.64689529],\n",
              "                {&quot;bubblingMouseEvents&quot;: true, &quot;color&quot;: &quot;#d35400&quot;, &quot;dashArray&quot;: null, &quot;dashOffset&quot;: null, &quot;fill&quot;: true, &quot;fillColor&quot;: &quot;#d35400&quot;, &quot;fillOpacity&quot;: 0.2, &quot;fillRule&quot;: &quot;evenodd&quot;, &quot;lineCap&quot;: &quot;round&quot;, &quot;lineJoin&quot;: &quot;round&quot;, &quot;opacity&quot;: 1.0, &quot;radius&quot;: 1000, &quot;stroke&quot;: true, &quot;weight&quot;: 3}\n",
              "            ).addTo(map_40bc74e99c5ea055df747a9b81eecc0b);\n",
              "        \n",
              "    \n",
              "        var popup_7aef8bb617c1907dfa6b92e210e4ecde = L.popup({\n",
              "  &quot;maxWidth&quot;: &quot;100%&quot;,\n",
              "});\n",
              "\n",
              "        \n",
              "            \n",
              "                var html_c61c73a6aa5fa920239a33d5d4496c29 = $(`&lt;div id=&quot;html_c61c73a6aa5fa920239a33d5d4496c29&quot; style=&quot;width: 100.0%; height: 100.0%;&quot;&gt;KSC LC-39A&lt;/div&gt;`)[0];\n",
              "                popup_7aef8bb617c1907dfa6b92e210e4ecde.setContent(html_c61c73a6aa5fa920239a33d5d4496c29);\n",
              "            \n",
              "        \n",
              "\n",
              "        circle_5cb0e4cd001f6959d4a8cb9e8372023f.bindPopup(popup_7aef8bb617c1907dfa6b92e210e4ecde)\n",
              "        ;\n",
              "\n",
              "        \n",
              "    \n",
              "    \n",
              "            var marker_619f66dde2b69c3bef28a7ce62fa53a4 = L.marker(\n",
              "                [28.57325457, -80.64689529],\n",
              "                {\n",
              "}\n",
              "            ).addTo(map_40bc74e99c5ea055df747a9b81eecc0b);\n",
              "        \n",
              "    \n",
              "            var div_icon_cbb9645b44542d8a8c952b9e3db13c56 = L.divIcon({\n",
              "  &quot;html&quot;: &quot;\\u003cdiv style=\\&quot;font-size: 12; color:#d35400;\\&quot;\\u003e\\u003cb\\u003eKSC LC-39A\\u003c/b\\u003e\\u003c/div\\u003e&quot;,\n",
              "  &quot;iconSize&quot;: [20, 20],\n",
              "  &quot;iconAnchor&quot;: [0, 0],\n",
              "  &quot;className&quot;: &quot;empty&quot;,\n",
              "});\n",
              "            marker_619f66dde2b69c3bef28a7ce62fa53a4.setIcon(div_icon_cbb9645b44542d8a8c952b9e3db13c56);\n",
              "        \n",
              "    \n",
              "            var circle_4ccb402b11071d0f247730f4bd012a04 = L.circle(\n",
              "                [34.63283416, -120.6107455],\n",
              "                {&quot;bubblingMouseEvents&quot;: true, &quot;color&quot;: &quot;#d35400&quot;, &quot;dashArray&quot;: null, &quot;dashOffset&quot;: null, &quot;fill&quot;: true, &quot;fillColor&quot;: &quot;#d35400&quot;, &quot;fillOpacity&quot;: 0.2, &quot;fillRule&quot;: &quot;evenodd&quot;, &quot;lineCap&quot;: &quot;round&quot;, &quot;lineJoin&quot;: &quot;round&quot;, &quot;opacity&quot;: 1.0, &quot;radius&quot;: 1000, &quot;stroke&quot;: true, &quot;weight&quot;: 3}\n",
              "            ).addTo(map_40bc74e99c5ea055df747a9b81eecc0b);\n",
              "        \n",
              "    \n",
              "        var popup_1d53294079d4438080752d8d39836d30 = L.popup({\n",
              "  &quot;maxWidth&quot;: &quot;100%&quot;,\n",
              "});\n",
              "\n",
              "        \n",
              "            \n",
              "                var html_2384c559e6339ac415c61f85d10630b0 = $(`&lt;div id=&quot;html_2384c559e6339ac415c61f85d10630b0&quot; style=&quot;width: 100.0%; height: 100.0%;&quot;&gt;VAFB SLC-4E&lt;/div&gt;`)[0];\n",
              "                popup_1d53294079d4438080752d8d39836d30.setContent(html_2384c559e6339ac415c61f85d10630b0);\n",
              "            \n",
              "        \n",
              "\n",
              "        circle_4ccb402b11071d0f247730f4bd012a04.bindPopup(popup_1d53294079d4438080752d8d39836d30)\n",
              "        ;\n",
              "\n",
              "        \n",
              "    \n",
              "    \n",
              "            var marker_9864220cc992cd119e1173f7f150411d = L.marker(\n",
              "                [34.63283416, -120.6107455],\n",
              "                {\n",
              "}\n",
              "            ).addTo(map_40bc74e99c5ea055df747a9b81eecc0b);\n",
              "        \n",
              "    \n",
              "            var div_icon_c16b4daada22f7e8176c995281778ba0 = L.divIcon({\n",
              "  &quot;html&quot;: &quot;\\u003cdiv style=\\&quot;font-size: 12; color:#d35400;\\&quot;\\u003e\\u003cb\\u003eVAFB SLC-4E\\u003c/b\\u003e\\u003c/div\\u003e&quot;,\n",
              "  &quot;iconSize&quot;: [20, 20],\n",
              "  &quot;iconAnchor&quot;: [0, 0],\n",
              "  &quot;className&quot;: &quot;empty&quot;,\n",
              "});\n",
              "            marker_9864220cc992cd119e1173f7f150411d.setIcon(div_icon_c16b4daada22f7e8176c995281778ba0);\n",
              "        \n",
              "    \n",
              "            tile_layer_0278f85a2902c861b8534f5ca4eaa5f2.addTo(map_40bc74e99c5ea055df747a9b81eecc0b);\n",
              "        \n",
              "    \n",
              "            var mouse_position_40d5cadd6c8ec1666719acbc30017acd = new L.Control.MousePosition(\n",
              "                {\n",
              "  &quot;position&quot;: &quot;topright&quot;,\n",
              "  &quot;separator&quot;: &quot; Long: &quot;,\n",
              "  &quot;emptyString&quot;: &quot;NaN&quot;,\n",
              "  &quot;lngFirst&quot;: false,\n",
              "  &quot;numDigits&quot;: 20,\n",
              "  &quot;prefix&quot;: &quot;Lat:&quot;,\n",
              "}\n",
              "            );\n",
              "            mouse_position_40d5cadd6c8ec1666719acbc30017acd.options[&quot;latFormatter&quot;] =\n",
              "                function(num) {return L.Util.formatNum(num, 5);};;\n",
              "            mouse_position_40d5cadd6c8ec1666719acbc30017acd.options[&quot;lngFormatter&quot;] =\n",
              "                function(num) {return L.Util.formatNum(num, 5);};;\n",
              "            map_40bc74e99c5ea055df747a9b81eecc0b.addControl(mouse_position_40d5cadd6c8ec1666719acbc30017acd);\n",
              "        \n",
              "    \n",
              "            tile_layer_0278f85a2902c861b8534f5ca4eaa5f2.addTo(map_40bc74e99c5ea055df747a9b81eecc0b);\n",
              "        \n",
              "    \n",
              "            var mouse_position_f8958607f985c914cad0ba108070bd42 = new L.Control.MousePosition(\n",
              "                {\n",
              "  &quot;position&quot;: &quot;topright&quot;,\n",
              "  &quot;separator&quot;: &quot; Long: &quot;,\n",
              "  &quot;emptyString&quot;: &quot;NaN&quot;,\n",
              "  &quot;lngFirst&quot;: false,\n",
              "  &quot;numDigits&quot;: 20,\n",
              "  &quot;prefix&quot;: &quot;Lat:&quot;,\n",
              "}\n",
              "            );\n",
              "            mouse_position_f8958607f985c914cad0ba108070bd42.options[&quot;latFormatter&quot;] =\n",
              "                function(num) {return L.Util.formatNum(num, 5);};;\n",
              "            mouse_position_f8958607f985c914cad0ba108070bd42.options[&quot;lngFormatter&quot;] =\n",
              "                function(num) {return L.Util.formatNum(num, 5);};;\n",
              "            map_40bc74e99c5ea055df747a9b81eecc0b.addControl(mouse_position_f8958607f985c914cad0ba108070bd42);\n",
              "        \n",
              "&lt;/script&gt;\n",
              "&lt;/html&gt;\" style=\"position:absolute;width:100%;height:100%;left:0;top:0;border:none !important;\" allowfullscreen webkitallowfullscreen mozallowfullscreen></iframe></div></div>"
            ]
          },
          "metadata": {},
          "execution_count": 13
        }
      ],
      "execution_count": 13
    },
    {
      "cell_type": "markdown",
      "source": [
        "Now zoom in to a launch site and explore its proximity to see if you can easily find any railway, highway, coastline, etc. Move your mouse to these points and mark down their coordinates (shown on the top-left) in order to the distance to the launch site.\n"
      ],
      "metadata": {
        "id": "2dbbCW0coPh7"
      }
    },
    {
      "cell_type": "markdown",
      "source": [
        "Now zoom in to a launch site and explore its proximity to see if you can easily find any railway, highway, coastline, etc. Move your mouse to these points and mark down their coordinates (shown on the top-left) in order to the distance to the launch site.\n"
      ],
      "metadata": {
        "id": "COHm-j3doPh8"
      }
    },
    {
      "cell_type": "code",
      "source": [
        "from math import sin, cos, sqrt, atan2, radians\n",
        "\n",
        "def calculate_distance(lat1, lon1, lat2, lon2):\n",
        "    # approximate radius of earth in km\n",
        "    R = 6373.0\n",
        "\n",
        "    lat1 = radians(lat1)\n",
        "    lon1 = radians(lon1)\n",
        "    lat2 = radians(lat2)\n",
        "    lon2 = radians(lon2)\n",
        "\n",
        "    dlon = lon2 - lon1\n",
        "    dlat = lat2 - lat1\n",
        "\n",
        "    a = sin(dlat / 2)**2 + cos(lat1) * cos(lat2) * sin(dlon / 2)**2\n",
        "    c = 2 * atan2(sqrt(a), sqrt(1 - a))\n",
        "\n",
        "    distance = R * c\n",
        "    return distance"
      ],
      "metadata": {
        "id": "_yqhHRZqoPh8"
      },
      "outputs": [],
      "execution_count": 12
    },
    {
      "cell_type": "markdown",
      "source": [
        "*TODO:* Mark down a point on the closest coastline using MousePosition and calculate the distance between the coastline point and the launch site.\n"
      ],
      "metadata": {
        "id": "97Fb_PigoPh8"
      }
    },
    {
      "cell_type": "code",
      "source": [
        "# find coordinate of the closet coastline\n",
        "# e.g.,: Lat: 28.56367  Lon: -80.57163\n",
        "# distance_coastline = calculate_distance(launch_site_lat, launch_site_lon, coastline_lat, coastline_lon)"
      ],
      "metadata": {
        "id": "b14xpPg4oPh8"
      },
      "outputs": [],
      "execution_count": null
    },
    {
      "cell_type": "code",
      "source": [
        "# Create and add a folium.Marker on your selected closest coastline point on the map\n",
        "# Display the distance between coastline point and launch site using the icon property\n",
        "# for example\n",
        "# distance_marker = folium.Marker(\n",
        "#    coordinate,\n",
        "#    icon=DivIcon(\n",
        "#        icon_size=(20,20),\n",
        "#        icon_anchor=(0,0),\n",
        "#        html='<div style=\"font-size: 12; color:#d35400;\"><b>%s</b></div>' % \"{:10.2f} KM\".format(distance),\n",
        "#        )\n",
        "#    )"
      ],
      "metadata": {
        "id": "zn2Z1gXroPh8"
      },
      "outputs": [],
      "execution_count": null
    },
    {
      "cell_type": "markdown",
      "source": [
        "*TODO:* Draw a `PolyLine` between a launch site to the selected coastline point\n"
      ],
      "metadata": {
        "id": "hii7334noPh9"
      }
    },
    {
      "cell_type": "code",
      "source": [
        "# Create a `folium.PolyLine` object using the coastline coordinates and launch site coordinate\n",
        "# lines=folium.PolyLine(locations=coordinates, weight=1)\n",
        "site_map.add_child(lines)"
      ],
      "metadata": {
        "id": "3uDNovygoPh9"
      },
      "outputs": [],
      "execution_count": null
    },
    {
      "cell_type": "markdown",
      "source": [
        "Your updated map with distance line should look like the following screenshot:\n"
      ],
      "metadata": {
        "id": "nX7vUFuuoPh9"
      }
    },
    {
      "cell_type": "markdown",
      "source": [
        "<center>\n",
        "    <img src=\"https://cf-courses-data.s3.us.cloud-object-storage.appdomain.cloud/IBM-DS0321EN-SkillsNetwork/labs/module_3/images/launch_site_marker_distance.png\">\n",
        "</center>\n"
      ],
      "metadata": {
        "id": "V6cUwzqAoPh9"
      }
    },
    {
      "cell_type": "markdown",
      "source": [
        "*TODO:* Similarly, you can draw a line betwee a launch site to its closest city, railway, highway, etc. You need to use `MousePosition` to find the their coordinates on the map first\n"
      ],
      "metadata": {
        "id": "_BvAd96xoPh-"
      }
    },
    {
      "cell_type": "markdown",
      "source": [
        "A railway map symbol may look like this:\n"
      ],
      "metadata": {
        "id": "8pgPGZwAoPh-"
      }
    },
    {
      "cell_type": "markdown",
      "source": [
        "<center>\n",
        "    <img src=\"https://cf-courses-data.s3.us.cloud-object-storage.appdomain.cloud/IBM-DS0321EN-SkillsNetwork/labs/module_3/images/railway.png\">\n",
        "</center>\n"
      ],
      "metadata": {
        "id": "mjh9-61zoPh-"
      }
    },
    {
      "cell_type": "markdown",
      "source": [
        "A highway map symbol may look like this:\n"
      ],
      "metadata": {
        "id": "jAYMPbodoPh_"
      }
    },
    {
      "cell_type": "markdown",
      "source": [
        "<center>\n",
        "    <img src=\"https://cf-courses-data.s3.us.cloud-object-storage.appdomain.cloud/IBM-DS0321EN-SkillsNetwork/labs/module_3/images/highway.png\">\n",
        "</center>\n"
      ],
      "metadata": {
        "id": "LbQDWlppoPh_"
      }
    },
    {
      "cell_type": "markdown",
      "source": [
        "A city map symbol may look like this:\n"
      ],
      "metadata": {
        "id": "MSvVVB-NoPh_"
      }
    },
    {
      "cell_type": "markdown",
      "source": [
        "<center>\n",
        "    <img src=\"https://cf-courses-data.s3.us.cloud-object-storage.appdomain.cloud/IBM-DS0321EN-SkillsNetwork/labs/module_3/images/city.png\">\n",
        "</center>\n"
      ],
      "metadata": {
        "id": "2ZIUf4BmoPiA"
      }
    },
    {
      "cell_type": "code",
      "source": [
        "# Marker and line for coast\n",
        "\n",
        "launch_site_lat = 28.573255\n",
        "launch_site_lon = -80.646895\n",
        "point_lat = 28.58038\n",
        "point_lon = -80.64255\n",
        "coordinate = [point_lat, point_lon]\n",
        "coordinates = [[launch_site_lat, launch_site_lon], coordinate]\n",
        "\n",
        "# find coordinate of the closet coastline\n",
        "distance = calculate_distance(launch_site_lat, launch_site_lon, point_lat, point_lon)\n",
        "print(distance)\n",
        "\n",
        "# Create and add a folium.Marker on your selected closest coastline point on the map\n",
        "distance_marker = folium.Marker(\n",
        "    coordinate,\n",
        "    icon=DivIcon(\n",
        "        icon_size=(20,20),\n",
        "        icon_anchor=(0,0),\n",
        "        html='<div style=\"font-size: 12; color:#d35400;\"><b>%s</b></div>' % \"{:10.2f} KM\".format(distance),\n",
        "        )\n",
        "    ).add_to(site_map)\n",
        "\n",
        "\n",
        "# Create a `folium.PolyLine` object using the coastline coordinates and launch site coordinate\n",
        "lines=folium.PolyLine(locations=coordinates, weight=1)\n",
        "site_map.add_child(lines)\n"
      ],
      "metadata": {
        "id": "pBvyU4-ToPiA",
        "outputId": "72593f5e-8bcd-4a1e-a060-1ab1015a5ca2",
        "colab": {
          "base_uri": "https://localhost:8080/",
          "height": 728
        }
      },
      "outputs": [
        {
          "output_type": "stream",
          "name": "stdout",
          "text": [
            "0.8990028223049602\n"
          ]
        },
        {
          "output_type": "execute_result",
          "data": {
            "text/plain": [
              "<folium.folium.Map at 0x7e4397c9d450>"
            ],
            "text/html": [
              "<div style=\"width:100%;\"><div style=\"position:relative;width:100%;height:0;padding-bottom:60%;\"><span style=\"color:#565656\">Make this Notebook Trusted to load map: File -> Trust Notebook</span><iframe srcdoc=\"&lt;!DOCTYPE html&gt;\n",
              "&lt;html&gt;\n",
              "&lt;head&gt;\n",
              "    \n",
              "    &lt;meta http-equiv=&quot;content-type&quot; content=&quot;text/html; charset=UTF-8&quot; /&gt;\n",
              "    \n",
              "        &lt;script&gt;\n",
              "            L_NO_TOUCH = false;\n",
              "            L_DISABLE_3D = false;\n",
              "        &lt;/script&gt;\n",
              "    \n",
              "    &lt;style&gt;html, body {width: 100%;height: 100%;margin: 0;padding: 0;}&lt;/style&gt;\n",
              "    &lt;style&gt;#map {position:absolute;top:0;bottom:0;right:0;left:0;}&lt;/style&gt;\n",
              "    &lt;script src=&quot;https://cdn.jsdelivr.net/npm/leaflet@1.9.3/dist/leaflet.js&quot;&gt;&lt;/script&gt;\n",
              "    &lt;script src=&quot;https://code.jquery.com/jquery-3.7.1.min.js&quot;&gt;&lt;/script&gt;\n",
              "    &lt;script src=&quot;https://cdn.jsdelivr.net/npm/bootstrap@5.2.2/dist/js/bootstrap.bundle.min.js&quot;&gt;&lt;/script&gt;\n",
              "    &lt;script src=&quot;https://cdnjs.cloudflare.com/ajax/libs/Leaflet.awesome-markers/2.0.2/leaflet.awesome-markers.js&quot;&gt;&lt;/script&gt;\n",
              "    &lt;link rel=&quot;stylesheet&quot; href=&quot;https://cdn.jsdelivr.net/npm/leaflet@1.9.3/dist/leaflet.css&quot;/&gt;\n",
              "    &lt;link rel=&quot;stylesheet&quot; href=&quot;https://cdn.jsdelivr.net/npm/bootstrap@5.2.2/dist/css/bootstrap.min.css&quot;/&gt;\n",
              "    &lt;link rel=&quot;stylesheet&quot; href=&quot;https://netdna.bootstrapcdn.com/bootstrap/3.0.0/css/bootstrap-glyphicons.css&quot;/&gt;\n",
              "    &lt;link rel=&quot;stylesheet&quot; href=&quot;https://cdn.jsdelivr.net/npm/@fortawesome/fontawesome-free@6.2.0/css/all.min.css&quot;/&gt;\n",
              "    &lt;link rel=&quot;stylesheet&quot; href=&quot;https://cdnjs.cloudflare.com/ajax/libs/Leaflet.awesome-markers/2.0.2/leaflet.awesome-markers.css&quot;/&gt;\n",
              "    &lt;link rel=&quot;stylesheet&quot; href=&quot;https://cdn.jsdelivr.net/gh/python-visualization/folium/folium/templates/leaflet.awesome.rotate.min.css&quot;/&gt;\n",
              "    \n",
              "            &lt;meta name=&quot;viewport&quot; content=&quot;width=device-width,\n",
              "                initial-scale=1.0, maximum-scale=1.0, user-scalable=no&quot; /&gt;\n",
              "            &lt;style&gt;\n",
              "                #map_40bc74e99c5ea055df747a9b81eecc0b {\n",
              "                    position: relative;\n",
              "                    width: 100.0%;\n",
              "                    height: 100.0%;\n",
              "                    left: 0.0%;\n",
              "                    top: 0.0%;\n",
              "                }\n",
              "                .leaflet-container { font-size: 1rem; }\n",
              "            &lt;/style&gt;\n",
              "        \n",
              "    &lt;script src=&quot;https://cdn.jsdelivr.net/gh/ardhi/Leaflet.MousePosition/src/L.Control.MousePosition.min.js&quot;&gt;&lt;/script&gt;\n",
              "    &lt;link rel=&quot;stylesheet&quot; href=&quot;https://cdn.jsdelivr.net/gh/ardhi/Leaflet.MousePosition/src/L.Control.MousePosition.min.css&quot;/&gt;\n",
              "&lt;/head&gt;\n",
              "&lt;body&gt;\n",
              "    \n",
              "    \n",
              "            &lt;div class=&quot;folium-map&quot; id=&quot;map_40bc74e99c5ea055df747a9b81eecc0b&quot; &gt;&lt;/div&gt;\n",
              "        \n",
              "&lt;/body&gt;\n",
              "&lt;script&gt;\n",
              "    \n",
              "    \n",
              "            var map_40bc74e99c5ea055df747a9b81eecc0b = L.map(\n",
              "                &quot;map_40bc74e99c5ea055df747a9b81eecc0b&quot;,\n",
              "                {\n",
              "                    center: [29.559684888503615, -95.0830971930759],\n",
              "                    crs: L.CRS.EPSG3857,\n",
              "                    ...{\n",
              "  &quot;zoom&quot;: 5,\n",
              "  &quot;zoomControl&quot;: true,\n",
              "  &quot;preferCanvas&quot;: false,\n",
              "}\n",
              "\n",
              "                }\n",
              "            );\n",
              "\n",
              "            \n",
              "\n",
              "        \n",
              "    \n",
              "            var tile_layer_0278f85a2902c861b8534f5ca4eaa5f2 = L.tileLayer(\n",
              "                &quot;https://tile.openstreetmap.org/{z}/{x}/{y}.png&quot;,\n",
              "                {\n",
              "  &quot;minZoom&quot;: 0,\n",
              "  &quot;maxZoom&quot;: 19,\n",
              "  &quot;maxNativeZoom&quot;: 19,\n",
              "  &quot;noWrap&quot;: false,\n",
              "  &quot;attribution&quot;: &quot;\\u0026copy; \\u003ca href=\\&quot;https://www.openstreetmap.org/copyright\\&quot;\\u003eOpenStreetMap\\u003c/a\\u003e contributors&quot;,\n",
              "  &quot;subdomains&quot;: &quot;abc&quot;,\n",
              "  &quot;detectRetina&quot;: false,\n",
              "  &quot;tms&quot;: false,\n",
              "  &quot;opacity&quot;: 1,\n",
              "}\n",
              "\n",
              "            );\n",
              "        \n",
              "    \n",
              "            tile_layer_0278f85a2902c861b8534f5ca4eaa5f2.addTo(map_40bc74e99c5ea055df747a9b81eecc0b);\n",
              "        \n",
              "    \n",
              "            var circle_ef4d09ae4201ceba1bb637b5e66a4aef = L.circle(\n",
              "                [28.56230197, -80.57735648],\n",
              "                {&quot;bubblingMouseEvents&quot;: true, &quot;color&quot;: &quot;#d35400&quot;, &quot;dashArray&quot;: null, &quot;dashOffset&quot;: null, &quot;fill&quot;: true, &quot;fillColor&quot;: &quot;#d35400&quot;, &quot;fillOpacity&quot;: 0.2, &quot;fillRule&quot;: &quot;evenodd&quot;, &quot;lineCap&quot;: &quot;round&quot;, &quot;lineJoin&quot;: &quot;round&quot;, &quot;opacity&quot;: 1.0, &quot;radius&quot;: 1000, &quot;stroke&quot;: true, &quot;weight&quot;: 3}\n",
              "            ).addTo(map_40bc74e99c5ea055df747a9b81eecc0b);\n",
              "        \n",
              "    \n",
              "        var popup_62fc47390ee0abf10366334821123914 = L.popup({\n",
              "  &quot;maxWidth&quot;: &quot;100%&quot;,\n",
              "});\n",
              "\n",
              "        \n",
              "            \n",
              "                var html_edff2bf4e33a27065f5a63288a20bd73 = $(`&lt;div id=&quot;html_edff2bf4e33a27065f5a63288a20bd73&quot; style=&quot;width: 100.0%; height: 100.0%;&quot;&gt;CCAFS LC-40&lt;/div&gt;`)[0];\n",
              "                popup_62fc47390ee0abf10366334821123914.setContent(html_edff2bf4e33a27065f5a63288a20bd73);\n",
              "            \n",
              "        \n",
              "\n",
              "        circle_ef4d09ae4201ceba1bb637b5e66a4aef.bindPopup(popup_62fc47390ee0abf10366334821123914)\n",
              "        ;\n",
              "\n",
              "        \n",
              "    \n",
              "    \n",
              "            var marker_37b76c63e37ddf25b41d4a0c7570e186 = L.marker(\n",
              "                [28.56230197, -80.57735648],\n",
              "                {\n",
              "}\n",
              "            ).addTo(map_40bc74e99c5ea055df747a9b81eecc0b);\n",
              "        \n",
              "    \n",
              "            var div_icon_cbaf95297001132b7fd1dd0be137140d = L.divIcon({\n",
              "  &quot;html&quot;: &quot;\\u003cdiv style=\\&quot;font-size: 12; color:#d35400;\\&quot;\\u003e\\u003cb\\u003eCCAFS LC-40\\u003c/b\\u003e\\u003c/div\\u003e&quot;,\n",
              "  &quot;iconSize&quot;: [20, 20],\n",
              "  &quot;iconAnchor&quot;: [0, 0],\n",
              "  &quot;className&quot;: &quot;empty&quot;,\n",
              "});\n",
              "            marker_37b76c63e37ddf25b41d4a0c7570e186.setIcon(div_icon_cbaf95297001132b7fd1dd0be137140d);\n",
              "        \n",
              "    \n",
              "            var circle_0ab8814044db548252a7fead052a7c25 = L.circle(\n",
              "                [28.56319718, -80.57682003],\n",
              "                {&quot;bubblingMouseEvents&quot;: true, &quot;color&quot;: &quot;#d35400&quot;, &quot;dashArray&quot;: null, &quot;dashOffset&quot;: null, &quot;fill&quot;: true, &quot;fillColor&quot;: &quot;#d35400&quot;, &quot;fillOpacity&quot;: 0.2, &quot;fillRule&quot;: &quot;evenodd&quot;, &quot;lineCap&quot;: &quot;round&quot;, &quot;lineJoin&quot;: &quot;round&quot;, &quot;opacity&quot;: 1.0, &quot;radius&quot;: 1000, &quot;stroke&quot;: true, &quot;weight&quot;: 3}\n",
              "            ).addTo(map_40bc74e99c5ea055df747a9b81eecc0b);\n",
              "        \n",
              "    \n",
              "        var popup_b52b46fc0b23997b3b386098ea54670c = L.popup({\n",
              "  &quot;maxWidth&quot;: &quot;100%&quot;,\n",
              "});\n",
              "\n",
              "        \n",
              "            \n",
              "                var html_c769c250db2e2bb38c745c0a37e5cc2e = $(`&lt;div id=&quot;html_c769c250db2e2bb38c745c0a37e5cc2e&quot; style=&quot;width: 100.0%; height: 100.0%;&quot;&gt;CCAFS SLC-40&lt;/div&gt;`)[0];\n",
              "                popup_b52b46fc0b23997b3b386098ea54670c.setContent(html_c769c250db2e2bb38c745c0a37e5cc2e);\n",
              "            \n",
              "        \n",
              "\n",
              "        circle_0ab8814044db548252a7fead052a7c25.bindPopup(popup_b52b46fc0b23997b3b386098ea54670c)\n",
              "        ;\n",
              "\n",
              "        \n",
              "    \n",
              "    \n",
              "            var marker_f070a2c030f3c92ffc1155fade970de2 = L.marker(\n",
              "                [28.56319718, -80.57682003],\n",
              "                {\n",
              "}\n",
              "            ).addTo(map_40bc74e99c5ea055df747a9b81eecc0b);\n",
              "        \n",
              "    \n",
              "            var div_icon_9b3ea64870c747b57ba863ff46b87688 = L.divIcon({\n",
              "  &quot;html&quot;: &quot;\\u003cdiv style=\\&quot;font-size: 12; color:#d35400;\\&quot;\\u003e\\u003cb\\u003eCCAFS SLC-40\\u003c/b\\u003e\\u003c/div\\u003e&quot;,\n",
              "  &quot;iconSize&quot;: [20, 20],\n",
              "  &quot;iconAnchor&quot;: [0, 0],\n",
              "  &quot;className&quot;: &quot;empty&quot;,\n",
              "});\n",
              "            marker_f070a2c030f3c92ffc1155fade970de2.setIcon(div_icon_9b3ea64870c747b57ba863ff46b87688);\n",
              "        \n",
              "    \n",
              "            var circle_5cb0e4cd001f6959d4a8cb9e8372023f = L.circle(\n",
              "                [28.57325457, -80.64689529],\n",
              "                {&quot;bubblingMouseEvents&quot;: true, &quot;color&quot;: &quot;#d35400&quot;, &quot;dashArray&quot;: null, &quot;dashOffset&quot;: null, &quot;fill&quot;: true, &quot;fillColor&quot;: &quot;#d35400&quot;, &quot;fillOpacity&quot;: 0.2, &quot;fillRule&quot;: &quot;evenodd&quot;, &quot;lineCap&quot;: &quot;round&quot;, &quot;lineJoin&quot;: &quot;round&quot;, &quot;opacity&quot;: 1.0, &quot;radius&quot;: 1000, &quot;stroke&quot;: true, &quot;weight&quot;: 3}\n",
              "            ).addTo(map_40bc74e99c5ea055df747a9b81eecc0b);\n",
              "        \n",
              "    \n",
              "        var popup_7aef8bb617c1907dfa6b92e210e4ecde = L.popup({\n",
              "  &quot;maxWidth&quot;: &quot;100%&quot;,\n",
              "});\n",
              "\n",
              "        \n",
              "            \n",
              "                var html_c61c73a6aa5fa920239a33d5d4496c29 = $(`&lt;div id=&quot;html_c61c73a6aa5fa920239a33d5d4496c29&quot; style=&quot;width: 100.0%; height: 100.0%;&quot;&gt;KSC LC-39A&lt;/div&gt;`)[0];\n",
              "                popup_7aef8bb617c1907dfa6b92e210e4ecde.setContent(html_c61c73a6aa5fa920239a33d5d4496c29);\n",
              "            \n",
              "        \n",
              "\n",
              "        circle_5cb0e4cd001f6959d4a8cb9e8372023f.bindPopup(popup_7aef8bb617c1907dfa6b92e210e4ecde)\n",
              "        ;\n",
              "\n",
              "        \n",
              "    \n",
              "    \n",
              "            var marker_619f66dde2b69c3bef28a7ce62fa53a4 = L.marker(\n",
              "                [28.57325457, -80.64689529],\n",
              "                {\n",
              "}\n",
              "            ).addTo(map_40bc74e99c5ea055df747a9b81eecc0b);\n",
              "        \n",
              "    \n",
              "            var div_icon_cbb9645b44542d8a8c952b9e3db13c56 = L.divIcon({\n",
              "  &quot;html&quot;: &quot;\\u003cdiv style=\\&quot;font-size: 12; color:#d35400;\\&quot;\\u003e\\u003cb\\u003eKSC LC-39A\\u003c/b\\u003e\\u003c/div\\u003e&quot;,\n",
              "  &quot;iconSize&quot;: [20, 20],\n",
              "  &quot;iconAnchor&quot;: [0, 0],\n",
              "  &quot;className&quot;: &quot;empty&quot;,\n",
              "});\n",
              "            marker_619f66dde2b69c3bef28a7ce62fa53a4.setIcon(div_icon_cbb9645b44542d8a8c952b9e3db13c56);\n",
              "        \n",
              "    \n",
              "            var circle_4ccb402b11071d0f247730f4bd012a04 = L.circle(\n",
              "                [34.63283416, -120.6107455],\n",
              "                {&quot;bubblingMouseEvents&quot;: true, &quot;color&quot;: &quot;#d35400&quot;, &quot;dashArray&quot;: null, &quot;dashOffset&quot;: null, &quot;fill&quot;: true, &quot;fillColor&quot;: &quot;#d35400&quot;, &quot;fillOpacity&quot;: 0.2, &quot;fillRule&quot;: &quot;evenodd&quot;, &quot;lineCap&quot;: &quot;round&quot;, &quot;lineJoin&quot;: &quot;round&quot;, &quot;opacity&quot;: 1.0, &quot;radius&quot;: 1000, &quot;stroke&quot;: true, &quot;weight&quot;: 3}\n",
              "            ).addTo(map_40bc74e99c5ea055df747a9b81eecc0b);\n",
              "        \n",
              "    \n",
              "        var popup_1d53294079d4438080752d8d39836d30 = L.popup({\n",
              "  &quot;maxWidth&quot;: &quot;100%&quot;,\n",
              "});\n",
              "\n",
              "        \n",
              "            \n",
              "                var html_2384c559e6339ac415c61f85d10630b0 = $(`&lt;div id=&quot;html_2384c559e6339ac415c61f85d10630b0&quot; style=&quot;width: 100.0%; height: 100.0%;&quot;&gt;VAFB SLC-4E&lt;/div&gt;`)[0];\n",
              "                popup_1d53294079d4438080752d8d39836d30.setContent(html_2384c559e6339ac415c61f85d10630b0);\n",
              "            \n",
              "        \n",
              "\n",
              "        circle_4ccb402b11071d0f247730f4bd012a04.bindPopup(popup_1d53294079d4438080752d8d39836d30)\n",
              "        ;\n",
              "\n",
              "        \n",
              "    \n",
              "    \n",
              "            var marker_9864220cc992cd119e1173f7f150411d = L.marker(\n",
              "                [34.63283416, -120.6107455],\n",
              "                {\n",
              "}\n",
              "            ).addTo(map_40bc74e99c5ea055df747a9b81eecc0b);\n",
              "        \n",
              "    \n",
              "            var div_icon_c16b4daada22f7e8176c995281778ba0 = L.divIcon({\n",
              "  &quot;html&quot;: &quot;\\u003cdiv style=\\&quot;font-size: 12; color:#d35400;\\&quot;\\u003e\\u003cb\\u003eVAFB SLC-4E\\u003c/b\\u003e\\u003c/div\\u003e&quot;,\n",
              "  &quot;iconSize&quot;: [20, 20],\n",
              "  &quot;iconAnchor&quot;: [0, 0],\n",
              "  &quot;className&quot;: &quot;empty&quot;,\n",
              "});\n",
              "            marker_9864220cc992cd119e1173f7f150411d.setIcon(div_icon_c16b4daada22f7e8176c995281778ba0);\n",
              "        \n",
              "    \n",
              "            tile_layer_0278f85a2902c861b8534f5ca4eaa5f2.addTo(map_40bc74e99c5ea055df747a9b81eecc0b);\n",
              "        \n",
              "    \n",
              "            var mouse_position_40d5cadd6c8ec1666719acbc30017acd = new L.Control.MousePosition(\n",
              "                {\n",
              "  &quot;position&quot;: &quot;topright&quot;,\n",
              "  &quot;separator&quot;: &quot; Long: &quot;,\n",
              "  &quot;emptyString&quot;: &quot;NaN&quot;,\n",
              "  &quot;lngFirst&quot;: false,\n",
              "  &quot;numDigits&quot;: 20,\n",
              "  &quot;prefix&quot;: &quot;Lat:&quot;,\n",
              "}\n",
              "            );\n",
              "            mouse_position_40d5cadd6c8ec1666719acbc30017acd.options[&quot;latFormatter&quot;] =\n",
              "                function(num) {return L.Util.formatNum(num, 5);};;\n",
              "            mouse_position_40d5cadd6c8ec1666719acbc30017acd.options[&quot;lngFormatter&quot;] =\n",
              "                function(num) {return L.Util.formatNum(num, 5);};;\n",
              "            map_40bc74e99c5ea055df747a9b81eecc0b.addControl(mouse_position_40d5cadd6c8ec1666719acbc30017acd);\n",
              "        \n",
              "    \n",
              "            tile_layer_0278f85a2902c861b8534f5ca4eaa5f2.addTo(map_40bc74e99c5ea055df747a9b81eecc0b);\n",
              "        \n",
              "    \n",
              "            var mouse_position_f8958607f985c914cad0ba108070bd42 = new L.Control.MousePosition(\n",
              "                {\n",
              "  &quot;position&quot;: &quot;topright&quot;,\n",
              "  &quot;separator&quot;: &quot; Long: &quot;,\n",
              "  &quot;emptyString&quot;: &quot;NaN&quot;,\n",
              "  &quot;lngFirst&quot;: false,\n",
              "  &quot;numDigits&quot;: 20,\n",
              "  &quot;prefix&quot;: &quot;Lat:&quot;,\n",
              "}\n",
              "            );\n",
              "            mouse_position_f8958607f985c914cad0ba108070bd42.options[&quot;latFormatter&quot;] =\n",
              "                function(num) {return L.Util.formatNum(num, 5);};;\n",
              "            mouse_position_f8958607f985c914cad0ba108070bd42.options[&quot;lngFormatter&quot;] =\n",
              "                function(num) {return L.Util.formatNum(num, 5);};;\n",
              "            map_40bc74e99c5ea055df747a9b81eecc0b.addControl(mouse_position_f8958607f985c914cad0ba108070bd42);\n",
              "        \n",
              "    \n",
              "            tile_layer_0278f85a2902c861b8534f5ca4eaa5f2.addTo(map_40bc74e99c5ea055df747a9b81eecc0b);\n",
              "        \n",
              "    \n",
              "            var poly_line_f5f15523d102d731bcf623f8970458c0 = L.polyline(\n",
              "                [[28.573255, -80.646895], [28.58038, -80.64255]],\n",
              "                {&quot;bubblingMouseEvents&quot;: true, &quot;color&quot;: &quot;#3388ff&quot;, &quot;dashArray&quot;: null, &quot;dashOffset&quot;: null, &quot;fill&quot;: false, &quot;fillColor&quot;: &quot;#3388ff&quot;, &quot;fillOpacity&quot;: 0.2, &quot;fillRule&quot;: &quot;evenodd&quot;, &quot;lineCap&quot;: &quot;round&quot;, &quot;lineJoin&quot;: &quot;round&quot;, &quot;noClip&quot;: false, &quot;opacity&quot;: 1.0, &quot;smoothFactor&quot;: 1.0, &quot;stroke&quot;: true, &quot;weight&quot;: 1}\n",
              "            ).addTo(map_40bc74e99c5ea055df747a9b81eecc0b);\n",
              "        \n",
              "    \n",
              "            tile_layer_0278f85a2902c861b8534f5ca4eaa5f2.addTo(map_40bc74e99c5ea055df747a9b81eecc0b);\n",
              "        \n",
              "    \n",
              "            var marker_3814f5a251b0b8c8c476f714ca6325d4 = L.marker(\n",
              "                [28.58038, -80.64255],\n",
              "                {\n",
              "}\n",
              "            ).addTo(map_40bc74e99c5ea055df747a9b81eecc0b);\n",
              "        \n",
              "    \n",
              "            var div_icon_350c6317c16a3b35f78afd71b828b323 = L.divIcon({\n",
              "  &quot;html&quot;: &quot;\\u003cdiv style=\\&quot;font-size: 12; color:#d35400;\\&quot;\\u003e\\u003cb\\u003e      0.90 KM\\u003c/b\\u003e\\u003c/div\\u003e&quot;,\n",
              "  &quot;iconSize&quot;: [20, 20],\n",
              "  &quot;iconAnchor&quot;: [0, 0],\n",
              "  &quot;className&quot;: &quot;empty&quot;,\n",
              "});\n",
              "            marker_3814f5a251b0b8c8c476f714ca6325d4.setIcon(div_icon_350c6317c16a3b35f78afd71b828b323);\n",
              "        \n",
              "    \n",
              "            var poly_line_82c9feac225adfcebc79959d4d820013 = L.polyline(\n",
              "                [[28.573255, -80.646895], [28.58038, -80.64255]],\n",
              "                {&quot;bubblingMouseEvents&quot;: true, &quot;color&quot;: &quot;#3388ff&quot;, &quot;dashArray&quot;: null, &quot;dashOffset&quot;: null, &quot;fill&quot;: false, &quot;fillColor&quot;: &quot;#3388ff&quot;, &quot;fillOpacity&quot;: 0.2, &quot;fillRule&quot;: &quot;evenodd&quot;, &quot;lineCap&quot;: &quot;round&quot;, &quot;lineJoin&quot;: &quot;round&quot;, &quot;noClip&quot;: false, &quot;opacity&quot;: 1.0, &quot;smoothFactor&quot;: 1.0, &quot;stroke&quot;: true, &quot;weight&quot;: 1}\n",
              "            ).addTo(map_40bc74e99c5ea055df747a9b81eecc0b);\n",
              "        \n",
              "&lt;/script&gt;\n",
              "&lt;/html&gt;\" style=\"position:absolute;width:100%;height:100%;left:0;top:0;border:none !important;\" allowfullscreen webkitallowfullscreen mozallowfullscreen></iframe></div></div>"
            ]
          },
          "metadata": {},
          "execution_count": 19
        }
      ],
      "execution_count": 19
    },
    {
      "cell_type": "code",
      "source": [
        "# Marker and line for railway\n",
        "\n",
        "launch_site_lat = 28.573255\n",
        "launch_site_lon = -80.646895\n",
        "point_lat = 28.57271\n",
        "point_lon = -80.65396\n",
        "coordinate = [point_lat, point_lon]\n",
        "coordinates = [[launch_site_lat, launch_site_lon], coordinate]\n",
        "\n",
        "# find coordinate of the closet coastline\n",
        "distance = calculate_distance(launch_site_lat, launch_site_lon, point_lat, point_lon)\n",
        "print(distance)\n",
        "\n",
        "# Create and add a folium.Marker on your selected closest coastline point on the map\n",
        "distance_marker = folium.Marker(\n",
        "    coordinate,\n",
        "    icon=DivIcon(\n",
        "        icon_size=(20,20),\n",
        "        icon_anchor=(0,0),\n",
        "        html='<div style=\"font-size: 12; color:#d35400;\"><b>%s</b></div>' % \"{:10.2f} KM\".format(distance),\n",
        "        )\n",
        "    ).add_to(site_map)\n",
        "\n",
        "\n",
        "# Create a `folium.PolyLine` object using the coastline coordinates and launch site coordinate\n",
        "lines=folium.PolyLine(locations=coordinates, weight=1)\n",
        "site_map.add_child(lines)\n"
      ],
      "metadata": {
        "id": "KCTG9TijoPiA",
        "outputId": "73d949ad-bc89-43f7-c566-25d79f0b2c86",
        "colab": {
          "base_uri": "https://localhost:8080/",
          "height": 728
        }
      },
      "outputs": [
        {
          "output_type": "stream",
          "name": "stdout",
          "text": [
            "0.6927876603661902\n"
          ]
        },
        {
          "output_type": "execute_result",
          "data": {
            "text/plain": [
              "<folium.folium.Map at 0x7e4397c9d450>"
            ],
            "text/html": [
              "<div style=\"width:100%;\"><div style=\"position:relative;width:100%;height:0;padding-bottom:60%;\"><span style=\"color:#565656\">Make this Notebook Trusted to load map: File -> Trust Notebook</span><iframe srcdoc=\"&lt;!DOCTYPE html&gt;\n",
              "&lt;html&gt;\n",
              "&lt;head&gt;\n",
              "    \n",
              "    &lt;meta http-equiv=&quot;content-type&quot; content=&quot;text/html; charset=UTF-8&quot; /&gt;\n",
              "    \n",
              "        &lt;script&gt;\n",
              "            L_NO_TOUCH = false;\n",
              "            L_DISABLE_3D = false;\n",
              "        &lt;/script&gt;\n",
              "    \n",
              "    &lt;style&gt;html, body {width: 100%;height: 100%;margin: 0;padding: 0;}&lt;/style&gt;\n",
              "    &lt;style&gt;#map {position:absolute;top:0;bottom:0;right:0;left:0;}&lt;/style&gt;\n",
              "    &lt;script src=&quot;https://cdn.jsdelivr.net/npm/leaflet@1.9.3/dist/leaflet.js&quot;&gt;&lt;/script&gt;\n",
              "    &lt;script src=&quot;https://code.jquery.com/jquery-3.7.1.min.js&quot;&gt;&lt;/script&gt;\n",
              "    &lt;script src=&quot;https://cdn.jsdelivr.net/npm/bootstrap@5.2.2/dist/js/bootstrap.bundle.min.js&quot;&gt;&lt;/script&gt;\n",
              "    &lt;script src=&quot;https://cdnjs.cloudflare.com/ajax/libs/Leaflet.awesome-markers/2.0.2/leaflet.awesome-markers.js&quot;&gt;&lt;/script&gt;\n",
              "    &lt;link rel=&quot;stylesheet&quot; href=&quot;https://cdn.jsdelivr.net/npm/leaflet@1.9.3/dist/leaflet.css&quot;/&gt;\n",
              "    &lt;link rel=&quot;stylesheet&quot; href=&quot;https://cdn.jsdelivr.net/npm/bootstrap@5.2.2/dist/css/bootstrap.min.css&quot;/&gt;\n",
              "    &lt;link rel=&quot;stylesheet&quot; href=&quot;https://netdna.bootstrapcdn.com/bootstrap/3.0.0/css/bootstrap-glyphicons.css&quot;/&gt;\n",
              "    &lt;link rel=&quot;stylesheet&quot; href=&quot;https://cdn.jsdelivr.net/npm/@fortawesome/fontawesome-free@6.2.0/css/all.min.css&quot;/&gt;\n",
              "    &lt;link rel=&quot;stylesheet&quot; href=&quot;https://cdnjs.cloudflare.com/ajax/libs/Leaflet.awesome-markers/2.0.2/leaflet.awesome-markers.css&quot;/&gt;\n",
              "    &lt;link rel=&quot;stylesheet&quot; href=&quot;https://cdn.jsdelivr.net/gh/python-visualization/folium/folium/templates/leaflet.awesome.rotate.min.css&quot;/&gt;\n",
              "    \n",
              "            &lt;meta name=&quot;viewport&quot; content=&quot;width=device-width,\n",
              "                initial-scale=1.0, maximum-scale=1.0, user-scalable=no&quot; /&gt;\n",
              "            &lt;style&gt;\n",
              "                #map_40bc74e99c5ea055df747a9b81eecc0b {\n",
              "                    position: relative;\n",
              "                    width: 100.0%;\n",
              "                    height: 100.0%;\n",
              "                    left: 0.0%;\n",
              "                    top: 0.0%;\n",
              "                }\n",
              "                .leaflet-container { font-size: 1rem; }\n",
              "            &lt;/style&gt;\n",
              "        \n",
              "    &lt;script src=&quot;https://cdn.jsdelivr.net/gh/ardhi/Leaflet.MousePosition/src/L.Control.MousePosition.min.js&quot;&gt;&lt;/script&gt;\n",
              "    &lt;link rel=&quot;stylesheet&quot; href=&quot;https://cdn.jsdelivr.net/gh/ardhi/Leaflet.MousePosition/src/L.Control.MousePosition.min.css&quot;/&gt;\n",
              "&lt;/head&gt;\n",
              "&lt;body&gt;\n",
              "    \n",
              "    \n",
              "            &lt;div class=&quot;folium-map&quot; id=&quot;map_40bc74e99c5ea055df747a9b81eecc0b&quot; &gt;&lt;/div&gt;\n",
              "        \n",
              "&lt;/body&gt;\n",
              "&lt;script&gt;\n",
              "    \n",
              "    \n",
              "            var map_40bc74e99c5ea055df747a9b81eecc0b = L.map(\n",
              "                &quot;map_40bc74e99c5ea055df747a9b81eecc0b&quot;,\n",
              "                {\n",
              "                    center: [29.559684888503615, -95.0830971930759],\n",
              "                    crs: L.CRS.EPSG3857,\n",
              "                    ...{\n",
              "  &quot;zoom&quot;: 5,\n",
              "  &quot;zoomControl&quot;: true,\n",
              "  &quot;preferCanvas&quot;: false,\n",
              "}\n",
              "\n",
              "                }\n",
              "            );\n",
              "\n",
              "            \n",
              "\n",
              "        \n",
              "    \n",
              "            var tile_layer_0278f85a2902c861b8534f5ca4eaa5f2 = L.tileLayer(\n",
              "                &quot;https://tile.openstreetmap.org/{z}/{x}/{y}.png&quot;,\n",
              "                {\n",
              "  &quot;minZoom&quot;: 0,\n",
              "  &quot;maxZoom&quot;: 19,\n",
              "  &quot;maxNativeZoom&quot;: 19,\n",
              "  &quot;noWrap&quot;: false,\n",
              "  &quot;attribution&quot;: &quot;\\u0026copy; \\u003ca href=\\&quot;https://www.openstreetmap.org/copyright\\&quot;\\u003eOpenStreetMap\\u003c/a\\u003e contributors&quot;,\n",
              "  &quot;subdomains&quot;: &quot;abc&quot;,\n",
              "  &quot;detectRetina&quot;: false,\n",
              "  &quot;tms&quot;: false,\n",
              "  &quot;opacity&quot;: 1,\n",
              "}\n",
              "\n",
              "            );\n",
              "        \n",
              "    \n",
              "            tile_layer_0278f85a2902c861b8534f5ca4eaa5f2.addTo(map_40bc74e99c5ea055df747a9b81eecc0b);\n",
              "        \n",
              "    \n",
              "            var circle_ef4d09ae4201ceba1bb637b5e66a4aef = L.circle(\n",
              "                [28.56230197, -80.57735648],\n",
              "                {&quot;bubblingMouseEvents&quot;: true, &quot;color&quot;: &quot;#d35400&quot;, &quot;dashArray&quot;: null, &quot;dashOffset&quot;: null, &quot;fill&quot;: true, &quot;fillColor&quot;: &quot;#d35400&quot;, &quot;fillOpacity&quot;: 0.2, &quot;fillRule&quot;: &quot;evenodd&quot;, &quot;lineCap&quot;: &quot;round&quot;, &quot;lineJoin&quot;: &quot;round&quot;, &quot;opacity&quot;: 1.0, &quot;radius&quot;: 1000, &quot;stroke&quot;: true, &quot;weight&quot;: 3}\n",
              "            ).addTo(map_40bc74e99c5ea055df747a9b81eecc0b);\n",
              "        \n",
              "    \n",
              "        var popup_62fc47390ee0abf10366334821123914 = L.popup({\n",
              "  &quot;maxWidth&quot;: &quot;100%&quot;,\n",
              "});\n",
              "\n",
              "        \n",
              "            \n",
              "                var html_edff2bf4e33a27065f5a63288a20bd73 = $(`&lt;div id=&quot;html_edff2bf4e33a27065f5a63288a20bd73&quot; style=&quot;width: 100.0%; height: 100.0%;&quot;&gt;CCAFS LC-40&lt;/div&gt;`)[0];\n",
              "                popup_62fc47390ee0abf10366334821123914.setContent(html_edff2bf4e33a27065f5a63288a20bd73);\n",
              "            \n",
              "        \n",
              "\n",
              "        circle_ef4d09ae4201ceba1bb637b5e66a4aef.bindPopup(popup_62fc47390ee0abf10366334821123914)\n",
              "        ;\n",
              "\n",
              "        \n",
              "    \n",
              "    \n",
              "            var marker_37b76c63e37ddf25b41d4a0c7570e186 = L.marker(\n",
              "                [28.56230197, -80.57735648],\n",
              "                {\n",
              "}\n",
              "            ).addTo(map_40bc74e99c5ea055df747a9b81eecc0b);\n",
              "        \n",
              "    \n",
              "            var div_icon_cbaf95297001132b7fd1dd0be137140d = L.divIcon({\n",
              "  &quot;html&quot;: &quot;\\u003cdiv style=\\&quot;font-size: 12; color:#d35400;\\&quot;\\u003e\\u003cb\\u003eCCAFS LC-40\\u003c/b\\u003e\\u003c/div\\u003e&quot;,\n",
              "  &quot;iconSize&quot;: [20, 20],\n",
              "  &quot;iconAnchor&quot;: [0, 0],\n",
              "  &quot;className&quot;: &quot;empty&quot;,\n",
              "});\n",
              "            marker_37b76c63e37ddf25b41d4a0c7570e186.setIcon(div_icon_cbaf95297001132b7fd1dd0be137140d);\n",
              "        \n",
              "    \n",
              "            var circle_0ab8814044db548252a7fead052a7c25 = L.circle(\n",
              "                [28.56319718, -80.57682003],\n",
              "                {&quot;bubblingMouseEvents&quot;: true, &quot;color&quot;: &quot;#d35400&quot;, &quot;dashArray&quot;: null, &quot;dashOffset&quot;: null, &quot;fill&quot;: true, &quot;fillColor&quot;: &quot;#d35400&quot;, &quot;fillOpacity&quot;: 0.2, &quot;fillRule&quot;: &quot;evenodd&quot;, &quot;lineCap&quot;: &quot;round&quot;, &quot;lineJoin&quot;: &quot;round&quot;, &quot;opacity&quot;: 1.0, &quot;radius&quot;: 1000, &quot;stroke&quot;: true, &quot;weight&quot;: 3}\n",
              "            ).addTo(map_40bc74e99c5ea055df747a9b81eecc0b);\n",
              "        \n",
              "    \n",
              "        var popup_b52b46fc0b23997b3b386098ea54670c = L.popup({\n",
              "  &quot;maxWidth&quot;: &quot;100%&quot;,\n",
              "});\n",
              "\n",
              "        \n",
              "            \n",
              "                var html_c769c250db2e2bb38c745c0a37e5cc2e = $(`&lt;div id=&quot;html_c769c250db2e2bb38c745c0a37e5cc2e&quot; style=&quot;width: 100.0%; height: 100.0%;&quot;&gt;CCAFS SLC-40&lt;/div&gt;`)[0];\n",
              "                popup_b52b46fc0b23997b3b386098ea54670c.setContent(html_c769c250db2e2bb38c745c0a37e5cc2e);\n",
              "            \n",
              "        \n",
              "\n",
              "        circle_0ab8814044db548252a7fead052a7c25.bindPopup(popup_b52b46fc0b23997b3b386098ea54670c)\n",
              "        ;\n",
              "\n",
              "        \n",
              "    \n",
              "    \n",
              "            var marker_f070a2c030f3c92ffc1155fade970de2 = L.marker(\n",
              "                [28.56319718, -80.57682003],\n",
              "                {\n",
              "}\n",
              "            ).addTo(map_40bc74e99c5ea055df747a9b81eecc0b);\n",
              "        \n",
              "    \n",
              "            var div_icon_9b3ea64870c747b57ba863ff46b87688 = L.divIcon({\n",
              "  &quot;html&quot;: &quot;\\u003cdiv style=\\&quot;font-size: 12; color:#d35400;\\&quot;\\u003e\\u003cb\\u003eCCAFS SLC-40\\u003c/b\\u003e\\u003c/div\\u003e&quot;,\n",
              "  &quot;iconSize&quot;: [20, 20],\n",
              "  &quot;iconAnchor&quot;: [0, 0],\n",
              "  &quot;className&quot;: &quot;empty&quot;,\n",
              "});\n",
              "            marker_f070a2c030f3c92ffc1155fade970de2.setIcon(div_icon_9b3ea64870c747b57ba863ff46b87688);\n",
              "        \n",
              "    \n",
              "            var circle_5cb0e4cd001f6959d4a8cb9e8372023f = L.circle(\n",
              "                [28.57325457, -80.64689529],\n",
              "                {&quot;bubblingMouseEvents&quot;: true, &quot;color&quot;: &quot;#d35400&quot;, &quot;dashArray&quot;: null, &quot;dashOffset&quot;: null, &quot;fill&quot;: true, &quot;fillColor&quot;: &quot;#d35400&quot;, &quot;fillOpacity&quot;: 0.2, &quot;fillRule&quot;: &quot;evenodd&quot;, &quot;lineCap&quot;: &quot;round&quot;, &quot;lineJoin&quot;: &quot;round&quot;, &quot;opacity&quot;: 1.0, &quot;radius&quot;: 1000, &quot;stroke&quot;: true, &quot;weight&quot;: 3}\n",
              "            ).addTo(map_40bc74e99c5ea055df747a9b81eecc0b);\n",
              "        \n",
              "    \n",
              "        var popup_7aef8bb617c1907dfa6b92e210e4ecde = L.popup({\n",
              "  &quot;maxWidth&quot;: &quot;100%&quot;,\n",
              "});\n",
              "\n",
              "        \n",
              "            \n",
              "                var html_c61c73a6aa5fa920239a33d5d4496c29 = $(`&lt;div id=&quot;html_c61c73a6aa5fa920239a33d5d4496c29&quot; style=&quot;width: 100.0%; height: 100.0%;&quot;&gt;KSC LC-39A&lt;/div&gt;`)[0];\n",
              "                popup_7aef8bb617c1907dfa6b92e210e4ecde.setContent(html_c61c73a6aa5fa920239a33d5d4496c29);\n",
              "            \n",
              "        \n",
              "\n",
              "        circle_5cb0e4cd001f6959d4a8cb9e8372023f.bindPopup(popup_7aef8bb617c1907dfa6b92e210e4ecde)\n",
              "        ;\n",
              "\n",
              "        \n",
              "    \n",
              "    \n",
              "            var marker_619f66dde2b69c3bef28a7ce62fa53a4 = L.marker(\n",
              "                [28.57325457, -80.64689529],\n",
              "                {\n",
              "}\n",
              "            ).addTo(map_40bc74e99c5ea055df747a9b81eecc0b);\n",
              "        \n",
              "    \n",
              "            var div_icon_cbb9645b44542d8a8c952b9e3db13c56 = L.divIcon({\n",
              "  &quot;html&quot;: &quot;\\u003cdiv style=\\&quot;font-size: 12; color:#d35400;\\&quot;\\u003e\\u003cb\\u003eKSC LC-39A\\u003c/b\\u003e\\u003c/div\\u003e&quot;,\n",
              "  &quot;iconSize&quot;: [20, 20],\n",
              "  &quot;iconAnchor&quot;: [0, 0],\n",
              "  &quot;className&quot;: &quot;empty&quot;,\n",
              "});\n",
              "            marker_619f66dde2b69c3bef28a7ce62fa53a4.setIcon(div_icon_cbb9645b44542d8a8c952b9e3db13c56);\n",
              "        \n",
              "    \n",
              "            var circle_4ccb402b11071d0f247730f4bd012a04 = L.circle(\n",
              "                [34.63283416, -120.6107455],\n",
              "                {&quot;bubblingMouseEvents&quot;: true, &quot;color&quot;: &quot;#d35400&quot;, &quot;dashArray&quot;: null, &quot;dashOffset&quot;: null, &quot;fill&quot;: true, &quot;fillColor&quot;: &quot;#d35400&quot;, &quot;fillOpacity&quot;: 0.2, &quot;fillRule&quot;: &quot;evenodd&quot;, &quot;lineCap&quot;: &quot;round&quot;, &quot;lineJoin&quot;: &quot;round&quot;, &quot;opacity&quot;: 1.0, &quot;radius&quot;: 1000, &quot;stroke&quot;: true, &quot;weight&quot;: 3}\n",
              "            ).addTo(map_40bc74e99c5ea055df747a9b81eecc0b);\n",
              "        \n",
              "    \n",
              "        var popup_1d53294079d4438080752d8d39836d30 = L.popup({\n",
              "  &quot;maxWidth&quot;: &quot;100%&quot;,\n",
              "});\n",
              "\n",
              "        \n",
              "            \n",
              "                var html_2384c559e6339ac415c61f85d10630b0 = $(`&lt;div id=&quot;html_2384c559e6339ac415c61f85d10630b0&quot; style=&quot;width: 100.0%; height: 100.0%;&quot;&gt;VAFB SLC-4E&lt;/div&gt;`)[0];\n",
              "                popup_1d53294079d4438080752d8d39836d30.setContent(html_2384c559e6339ac415c61f85d10630b0);\n",
              "            \n",
              "        \n",
              "\n",
              "        circle_4ccb402b11071d0f247730f4bd012a04.bindPopup(popup_1d53294079d4438080752d8d39836d30)\n",
              "        ;\n",
              "\n",
              "        \n",
              "    \n",
              "    \n",
              "            var marker_9864220cc992cd119e1173f7f150411d = L.marker(\n",
              "                [34.63283416, -120.6107455],\n",
              "                {\n",
              "}\n",
              "            ).addTo(map_40bc74e99c5ea055df747a9b81eecc0b);\n",
              "        \n",
              "    \n",
              "            var div_icon_c16b4daada22f7e8176c995281778ba0 = L.divIcon({\n",
              "  &quot;html&quot;: &quot;\\u003cdiv style=\\&quot;font-size: 12; color:#d35400;\\&quot;\\u003e\\u003cb\\u003eVAFB SLC-4E\\u003c/b\\u003e\\u003c/div\\u003e&quot;,\n",
              "  &quot;iconSize&quot;: [20, 20],\n",
              "  &quot;iconAnchor&quot;: [0, 0],\n",
              "  &quot;className&quot;: &quot;empty&quot;,\n",
              "});\n",
              "            marker_9864220cc992cd119e1173f7f150411d.setIcon(div_icon_c16b4daada22f7e8176c995281778ba0);\n",
              "        \n",
              "    \n",
              "            tile_layer_0278f85a2902c861b8534f5ca4eaa5f2.addTo(map_40bc74e99c5ea055df747a9b81eecc0b);\n",
              "        \n",
              "    \n",
              "            var mouse_position_40d5cadd6c8ec1666719acbc30017acd = new L.Control.MousePosition(\n",
              "                {\n",
              "  &quot;position&quot;: &quot;topright&quot;,\n",
              "  &quot;separator&quot;: &quot; Long: &quot;,\n",
              "  &quot;emptyString&quot;: &quot;NaN&quot;,\n",
              "  &quot;lngFirst&quot;: false,\n",
              "  &quot;numDigits&quot;: 20,\n",
              "  &quot;prefix&quot;: &quot;Lat:&quot;,\n",
              "}\n",
              "            );\n",
              "            mouse_position_40d5cadd6c8ec1666719acbc30017acd.options[&quot;latFormatter&quot;] =\n",
              "                function(num) {return L.Util.formatNum(num, 5);};;\n",
              "            mouse_position_40d5cadd6c8ec1666719acbc30017acd.options[&quot;lngFormatter&quot;] =\n",
              "                function(num) {return L.Util.formatNum(num, 5);};;\n",
              "            map_40bc74e99c5ea055df747a9b81eecc0b.addControl(mouse_position_40d5cadd6c8ec1666719acbc30017acd);\n",
              "        \n",
              "    \n",
              "            tile_layer_0278f85a2902c861b8534f5ca4eaa5f2.addTo(map_40bc74e99c5ea055df747a9b81eecc0b);\n",
              "        \n",
              "    \n",
              "            var mouse_position_f8958607f985c914cad0ba108070bd42 = new L.Control.MousePosition(\n",
              "                {\n",
              "  &quot;position&quot;: &quot;topright&quot;,\n",
              "  &quot;separator&quot;: &quot; Long: &quot;,\n",
              "  &quot;emptyString&quot;: &quot;NaN&quot;,\n",
              "  &quot;lngFirst&quot;: false,\n",
              "  &quot;numDigits&quot;: 20,\n",
              "  &quot;prefix&quot;: &quot;Lat:&quot;,\n",
              "}\n",
              "            );\n",
              "            mouse_position_f8958607f985c914cad0ba108070bd42.options[&quot;latFormatter&quot;] =\n",
              "                function(num) {return L.Util.formatNum(num, 5);};;\n",
              "            mouse_position_f8958607f985c914cad0ba108070bd42.options[&quot;lngFormatter&quot;] =\n",
              "                function(num) {return L.Util.formatNum(num, 5);};;\n",
              "            map_40bc74e99c5ea055df747a9b81eecc0b.addControl(mouse_position_f8958607f985c914cad0ba108070bd42);\n",
              "        \n",
              "    \n",
              "            tile_layer_0278f85a2902c861b8534f5ca4eaa5f2.addTo(map_40bc74e99c5ea055df747a9b81eecc0b);\n",
              "        \n",
              "    \n",
              "            var poly_line_f5f15523d102d731bcf623f8970458c0 = L.polyline(\n",
              "                [[28.573255, -80.646895], [28.58038, -80.64255]],\n",
              "                {&quot;bubblingMouseEvents&quot;: true, &quot;color&quot;: &quot;#3388ff&quot;, &quot;dashArray&quot;: null, &quot;dashOffset&quot;: null, &quot;fill&quot;: false, &quot;fillColor&quot;: &quot;#3388ff&quot;, &quot;fillOpacity&quot;: 0.2, &quot;fillRule&quot;: &quot;evenodd&quot;, &quot;lineCap&quot;: &quot;round&quot;, &quot;lineJoin&quot;: &quot;round&quot;, &quot;noClip&quot;: false, &quot;opacity&quot;: 1.0, &quot;smoothFactor&quot;: 1.0, &quot;stroke&quot;: true, &quot;weight&quot;: 1}\n",
              "            ).addTo(map_40bc74e99c5ea055df747a9b81eecc0b);\n",
              "        \n",
              "    \n",
              "            tile_layer_0278f85a2902c861b8534f5ca4eaa5f2.addTo(map_40bc74e99c5ea055df747a9b81eecc0b);\n",
              "        \n",
              "    \n",
              "            var marker_3814f5a251b0b8c8c476f714ca6325d4 = L.marker(\n",
              "                [28.58038, -80.64255],\n",
              "                {\n",
              "}\n",
              "            ).addTo(map_40bc74e99c5ea055df747a9b81eecc0b);\n",
              "        \n",
              "    \n",
              "            var div_icon_350c6317c16a3b35f78afd71b828b323 = L.divIcon({\n",
              "  &quot;html&quot;: &quot;\\u003cdiv style=\\&quot;font-size: 12; color:#d35400;\\&quot;\\u003e\\u003cb\\u003e      0.90 KM\\u003c/b\\u003e\\u003c/div\\u003e&quot;,\n",
              "  &quot;iconSize&quot;: [20, 20],\n",
              "  &quot;iconAnchor&quot;: [0, 0],\n",
              "  &quot;className&quot;: &quot;empty&quot;,\n",
              "});\n",
              "            marker_3814f5a251b0b8c8c476f714ca6325d4.setIcon(div_icon_350c6317c16a3b35f78afd71b828b323);\n",
              "        \n",
              "    \n",
              "            var poly_line_82c9feac225adfcebc79959d4d820013 = L.polyline(\n",
              "                [[28.573255, -80.646895], [28.58038, -80.64255]],\n",
              "                {&quot;bubblingMouseEvents&quot;: true, &quot;color&quot;: &quot;#3388ff&quot;, &quot;dashArray&quot;: null, &quot;dashOffset&quot;: null, &quot;fill&quot;: false, &quot;fillColor&quot;: &quot;#3388ff&quot;, &quot;fillOpacity&quot;: 0.2, &quot;fillRule&quot;: &quot;evenodd&quot;, &quot;lineCap&quot;: &quot;round&quot;, &quot;lineJoin&quot;: &quot;round&quot;, &quot;noClip&quot;: false, &quot;opacity&quot;: 1.0, &quot;smoothFactor&quot;: 1.0, &quot;stroke&quot;: true, &quot;weight&quot;: 1}\n",
              "            ).addTo(map_40bc74e99c5ea055df747a9b81eecc0b);\n",
              "        \n",
              "    \n",
              "            tile_layer_0278f85a2902c861b8534f5ca4eaa5f2.addTo(map_40bc74e99c5ea055df747a9b81eecc0b);\n",
              "        \n",
              "    \n",
              "            var marker_9175d6d4d371682a5e22c2b040f526eb = L.marker(\n",
              "                [28.57271, -80.65396],\n",
              "                {\n",
              "}\n",
              "            ).addTo(map_40bc74e99c5ea055df747a9b81eecc0b);\n",
              "        \n",
              "    \n",
              "            var div_icon_11e0537626eb0c2d048ce74d141395a1 = L.divIcon({\n",
              "  &quot;html&quot;: &quot;\\u003cdiv style=\\&quot;font-size: 12; color:#d35400;\\&quot;\\u003e\\u003cb\\u003e      0.69 KM\\u003c/b\\u003e\\u003c/div\\u003e&quot;,\n",
              "  &quot;iconSize&quot;: [20, 20],\n",
              "  &quot;iconAnchor&quot;: [0, 0],\n",
              "  &quot;className&quot;: &quot;empty&quot;,\n",
              "});\n",
              "            marker_9175d6d4d371682a5e22c2b040f526eb.setIcon(div_icon_11e0537626eb0c2d048ce74d141395a1);\n",
              "        \n",
              "    \n",
              "            var poly_line_ef9ffd6884b553cffb34924dec070680 = L.polyline(\n",
              "                [[28.573255, -80.646895], [28.57271, -80.65396]],\n",
              "                {&quot;bubblingMouseEvents&quot;: true, &quot;color&quot;: &quot;#3388ff&quot;, &quot;dashArray&quot;: null, &quot;dashOffset&quot;: null, &quot;fill&quot;: false, &quot;fillColor&quot;: &quot;#3388ff&quot;, &quot;fillOpacity&quot;: 0.2, &quot;fillRule&quot;: &quot;evenodd&quot;, &quot;lineCap&quot;: &quot;round&quot;, &quot;lineJoin&quot;: &quot;round&quot;, &quot;noClip&quot;: false, &quot;opacity&quot;: 1.0, &quot;smoothFactor&quot;: 1.0, &quot;stroke&quot;: true, &quot;weight&quot;: 1}\n",
              "            ).addTo(map_40bc74e99c5ea055df747a9b81eecc0b);\n",
              "        \n",
              "&lt;/script&gt;\n",
              "&lt;/html&gt;\" style=\"position:absolute;width:100%;height:100%;left:0;top:0;border:none !important;\" allowfullscreen webkitallowfullscreen mozallowfullscreen></iframe></div></div>"
            ]
          },
          "metadata": {},
          "execution_count": 20
        }
      ],
      "execution_count": 20
    },
    {
      "cell_type": "code",
      "source": [
        "# Marker and line for highway\n",
        "\n",
        "launch_site_lat = 28.573255\n",
        "launch_site_lon = -80.646895\n",
        "point_lat = 28.57276\n",
        "point_lon = -80.6556\n",
        "coordinate = [point_lat, point_lon]\n",
        "coordinates = [[launch_site_lat, launch_site_lon], coordinate]\n",
        "\n",
        "# find coordinate of the closet coastline\n",
        "distance = calculate_distance(launch_site_lat, launch_site_lon, point_lat, point_lon)\n",
        "print(distance)\n",
        "\n",
        "# Create and add a folium.Marker on your selected closest coastline point on the map\n",
        "distance_marker = folium.Marker(\n",
        "    coordinate,\n",
        "    icon=DivIcon(\n",
        "        icon_size=(20,20),\n",
        "        icon_anchor=(0,0),\n",
        "        html='<div style=\"font-size: 12; color:#d35400;\"><b>%s</b></div>' % \"{:10.2f} KM\".format(distance),\n",
        "        )\n",
        "    ).add_to(site_map)\n",
        "\n",
        "\n",
        "# Create a `folium.PolyLine` object using the coastline coordinates and launch site coordinate\n",
        "lines=folium.PolyLine(locations=coordinates, weight=1)\n",
        "site_map.add_child(lines)\n"
      ],
      "metadata": {
        "id": "bnoV4U3woPiA",
        "outputId": "f1563ccc-ac8a-44a2-ad7b-30e19bf4447c",
        "colab": {
          "base_uri": "https://localhost:8080/",
          "height": 728
        }
      },
      "outputs": [
        {
          "output_type": "stream",
          "name": "stdout",
          "text": [
            "0.8521109404755568\n"
          ]
        },
        {
          "output_type": "execute_result",
          "data": {
            "text/plain": [
              "<folium.folium.Map at 0x7e4397c9d450>"
            ],
            "text/html": [
              "<div style=\"width:100%;\"><div style=\"position:relative;width:100%;height:0;padding-bottom:60%;\"><span style=\"color:#565656\">Make this Notebook Trusted to load map: File -> Trust Notebook</span><iframe srcdoc=\"&lt;!DOCTYPE html&gt;\n",
              "&lt;html&gt;\n",
              "&lt;head&gt;\n",
              "    \n",
              "    &lt;meta http-equiv=&quot;content-type&quot; content=&quot;text/html; charset=UTF-8&quot; /&gt;\n",
              "    \n",
              "        &lt;script&gt;\n",
              "            L_NO_TOUCH = false;\n",
              "            L_DISABLE_3D = false;\n",
              "        &lt;/script&gt;\n",
              "    \n",
              "    &lt;style&gt;html, body {width: 100%;height: 100%;margin: 0;padding: 0;}&lt;/style&gt;\n",
              "    &lt;style&gt;#map {position:absolute;top:0;bottom:0;right:0;left:0;}&lt;/style&gt;\n",
              "    &lt;script src=&quot;https://cdn.jsdelivr.net/npm/leaflet@1.9.3/dist/leaflet.js&quot;&gt;&lt;/script&gt;\n",
              "    &lt;script src=&quot;https://code.jquery.com/jquery-3.7.1.min.js&quot;&gt;&lt;/script&gt;\n",
              "    &lt;script src=&quot;https://cdn.jsdelivr.net/npm/bootstrap@5.2.2/dist/js/bootstrap.bundle.min.js&quot;&gt;&lt;/script&gt;\n",
              "    &lt;script src=&quot;https://cdnjs.cloudflare.com/ajax/libs/Leaflet.awesome-markers/2.0.2/leaflet.awesome-markers.js&quot;&gt;&lt;/script&gt;\n",
              "    &lt;link rel=&quot;stylesheet&quot; href=&quot;https://cdn.jsdelivr.net/npm/leaflet@1.9.3/dist/leaflet.css&quot;/&gt;\n",
              "    &lt;link rel=&quot;stylesheet&quot; href=&quot;https://cdn.jsdelivr.net/npm/bootstrap@5.2.2/dist/css/bootstrap.min.css&quot;/&gt;\n",
              "    &lt;link rel=&quot;stylesheet&quot; href=&quot;https://netdna.bootstrapcdn.com/bootstrap/3.0.0/css/bootstrap-glyphicons.css&quot;/&gt;\n",
              "    &lt;link rel=&quot;stylesheet&quot; href=&quot;https://cdn.jsdelivr.net/npm/@fortawesome/fontawesome-free@6.2.0/css/all.min.css&quot;/&gt;\n",
              "    &lt;link rel=&quot;stylesheet&quot; href=&quot;https://cdnjs.cloudflare.com/ajax/libs/Leaflet.awesome-markers/2.0.2/leaflet.awesome-markers.css&quot;/&gt;\n",
              "    &lt;link rel=&quot;stylesheet&quot; href=&quot;https://cdn.jsdelivr.net/gh/python-visualization/folium/folium/templates/leaflet.awesome.rotate.min.css&quot;/&gt;\n",
              "    \n",
              "            &lt;meta name=&quot;viewport&quot; content=&quot;width=device-width,\n",
              "                initial-scale=1.0, maximum-scale=1.0, user-scalable=no&quot; /&gt;\n",
              "            &lt;style&gt;\n",
              "                #map_40bc74e99c5ea055df747a9b81eecc0b {\n",
              "                    position: relative;\n",
              "                    width: 100.0%;\n",
              "                    height: 100.0%;\n",
              "                    left: 0.0%;\n",
              "                    top: 0.0%;\n",
              "                }\n",
              "                .leaflet-container { font-size: 1rem; }\n",
              "            &lt;/style&gt;\n",
              "        \n",
              "    &lt;script src=&quot;https://cdn.jsdelivr.net/gh/ardhi/Leaflet.MousePosition/src/L.Control.MousePosition.min.js&quot;&gt;&lt;/script&gt;\n",
              "    &lt;link rel=&quot;stylesheet&quot; href=&quot;https://cdn.jsdelivr.net/gh/ardhi/Leaflet.MousePosition/src/L.Control.MousePosition.min.css&quot;/&gt;\n",
              "&lt;/head&gt;\n",
              "&lt;body&gt;\n",
              "    \n",
              "    \n",
              "            &lt;div class=&quot;folium-map&quot; id=&quot;map_40bc74e99c5ea055df747a9b81eecc0b&quot; &gt;&lt;/div&gt;\n",
              "        \n",
              "&lt;/body&gt;\n",
              "&lt;script&gt;\n",
              "    \n",
              "    \n",
              "            var map_40bc74e99c5ea055df747a9b81eecc0b = L.map(\n",
              "                &quot;map_40bc74e99c5ea055df747a9b81eecc0b&quot;,\n",
              "                {\n",
              "                    center: [29.559684888503615, -95.0830971930759],\n",
              "                    crs: L.CRS.EPSG3857,\n",
              "                    ...{\n",
              "  &quot;zoom&quot;: 5,\n",
              "  &quot;zoomControl&quot;: true,\n",
              "  &quot;preferCanvas&quot;: false,\n",
              "}\n",
              "\n",
              "                }\n",
              "            );\n",
              "\n",
              "            \n",
              "\n",
              "        \n",
              "    \n",
              "            var tile_layer_0278f85a2902c861b8534f5ca4eaa5f2 = L.tileLayer(\n",
              "                &quot;https://tile.openstreetmap.org/{z}/{x}/{y}.png&quot;,\n",
              "                {\n",
              "  &quot;minZoom&quot;: 0,\n",
              "  &quot;maxZoom&quot;: 19,\n",
              "  &quot;maxNativeZoom&quot;: 19,\n",
              "  &quot;noWrap&quot;: false,\n",
              "  &quot;attribution&quot;: &quot;\\u0026copy; \\u003ca href=\\&quot;https://www.openstreetmap.org/copyright\\&quot;\\u003eOpenStreetMap\\u003c/a\\u003e contributors&quot;,\n",
              "  &quot;subdomains&quot;: &quot;abc&quot;,\n",
              "  &quot;detectRetina&quot;: false,\n",
              "  &quot;tms&quot;: false,\n",
              "  &quot;opacity&quot;: 1,\n",
              "}\n",
              "\n",
              "            );\n",
              "        \n",
              "    \n",
              "            tile_layer_0278f85a2902c861b8534f5ca4eaa5f2.addTo(map_40bc74e99c5ea055df747a9b81eecc0b);\n",
              "        \n",
              "    \n",
              "            var circle_ef4d09ae4201ceba1bb637b5e66a4aef = L.circle(\n",
              "                [28.56230197, -80.57735648],\n",
              "                {&quot;bubblingMouseEvents&quot;: true, &quot;color&quot;: &quot;#d35400&quot;, &quot;dashArray&quot;: null, &quot;dashOffset&quot;: null, &quot;fill&quot;: true, &quot;fillColor&quot;: &quot;#d35400&quot;, &quot;fillOpacity&quot;: 0.2, &quot;fillRule&quot;: &quot;evenodd&quot;, &quot;lineCap&quot;: &quot;round&quot;, &quot;lineJoin&quot;: &quot;round&quot;, &quot;opacity&quot;: 1.0, &quot;radius&quot;: 1000, &quot;stroke&quot;: true, &quot;weight&quot;: 3}\n",
              "            ).addTo(map_40bc74e99c5ea055df747a9b81eecc0b);\n",
              "        \n",
              "    \n",
              "        var popup_62fc47390ee0abf10366334821123914 = L.popup({\n",
              "  &quot;maxWidth&quot;: &quot;100%&quot;,\n",
              "});\n",
              "\n",
              "        \n",
              "            \n",
              "                var html_edff2bf4e33a27065f5a63288a20bd73 = $(`&lt;div id=&quot;html_edff2bf4e33a27065f5a63288a20bd73&quot; style=&quot;width: 100.0%; height: 100.0%;&quot;&gt;CCAFS LC-40&lt;/div&gt;`)[0];\n",
              "                popup_62fc47390ee0abf10366334821123914.setContent(html_edff2bf4e33a27065f5a63288a20bd73);\n",
              "            \n",
              "        \n",
              "\n",
              "        circle_ef4d09ae4201ceba1bb637b5e66a4aef.bindPopup(popup_62fc47390ee0abf10366334821123914)\n",
              "        ;\n",
              "\n",
              "        \n",
              "    \n",
              "    \n",
              "            var marker_37b76c63e37ddf25b41d4a0c7570e186 = L.marker(\n",
              "                [28.56230197, -80.57735648],\n",
              "                {\n",
              "}\n",
              "            ).addTo(map_40bc74e99c5ea055df747a9b81eecc0b);\n",
              "        \n",
              "    \n",
              "            var div_icon_cbaf95297001132b7fd1dd0be137140d = L.divIcon({\n",
              "  &quot;html&quot;: &quot;\\u003cdiv style=\\&quot;font-size: 12; color:#d35400;\\&quot;\\u003e\\u003cb\\u003eCCAFS LC-40\\u003c/b\\u003e\\u003c/div\\u003e&quot;,\n",
              "  &quot;iconSize&quot;: [20, 20],\n",
              "  &quot;iconAnchor&quot;: [0, 0],\n",
              "  &quot;className&quot;: &quot;empty&quot;,\n",
              "});\n",
              "            marker_37b76c63e37ddf25b41d4a0c7570e186.setIcon(div_icon_cbaf95297001132b7fd1dd0be137140d);\n",
              "        \n",
              "    \n",
              "            var circle_0ab8814044db548252a7fead052a7c25 = L.circle(\n",
              "                [28.56319718, -80.57682003],\n",
              "                {&quot;bubblingMouseEvents&quot;: true, &quot;color&quot;: &quot;#d35400&quot;, &quot;dashArray&quot;: null, &quot;dashOffset&quot;: null, &quot;fill&quot;: true, &quot;fillColor&quot;: &quot;#d35400&quot;, &quot;fillOpacity&quot;: 0.2, &quot;fillRule&quot;: &quot;evenodd&quot;, &quot;lineCap&quot;: &quot;round&quot;, &quot;lineJoin&quot;: &quot;round&quot;, &quot;opacity&quot;: 1.0, &quot;radius&quot;: 1000, &quot;stroke&quot;: true, &quot;weight&quot;: 3}\n",
              "            ).addTo(map_40bc74e99c5ea055df747a9b81eecc0b);\n",
              "        \n",
              "    \n",
              "        var popup_b52b46fc0b23997b3b386098ea54670c = L.popup({\n",
              "  &quot;maxWidth&quot;: &quot;100%&quot;,\n",
              "});\n",
              "\n",
              "        \n",
              "            \n",
              "                var html_c769c250db2e2bb38c745c0a37e5cc2e = $(`&lt;div id=&quot;html_c769c250db2e2bb38c745c0a37e5cc2e&quot; style=&quot;width: 100.0%; height: 100.0%;&quot;&gt;CCAFS SLC-40&lt;/div&gt;`)[0];\n",
              "                popup_b52b46fc0b23997b3b386098ea54670c.setContent(html_c769c250db2e2bb38c745c0a37e5cc2e);\n",
              "            \n",
              "        \n",
              "\n",
              "        circle_0ab8814044db548252a7fead052a7c25.bindPopup(popup_b52b46fc0b23997b3b386098ea54670c)\n",
              "        ;\n",
              "\n",
              "        \n",
              "    \n",
              "    \n",
              "            var marker_f070a2c030f3c92ffc1155fade970de2 = L.marker(\n",
              "                [28.56319718, -80.57682003],\n",
              "                {\n",
              "}\n",
              "            ).addTo(map_40bc74e99c5ea055df747a9b81eecc0b);\n",
              "        \n",
              "    \n",
              "            var div_icon_9b3ea64870c747b57ba863ff46b87688 = L.divIcon({\n",
              "  &quot;html&quot;: &quot;\\u003cdiv style=\\&quot;font-size: 12; color:#d35400;\\&quot;\\u003e\\u003cb\\u003eCCAFS SLC-40\\u003c/b\\u003e\\u003c/div\\u003e&quot;,\n",
              "  &quot;iconSize&quot;: [20, 20],\n",
              "  &quot;iconAnchor&quot;: [0, 0],\n",
              "  &quot;className&quot;: &quot;empty&quot;,\n",
              "});\n",
              "            marker_f070a2c030f3c92ffc1155fade970de2.setIcon(div_icon_9b3ea64870c747b57ba863ff46b87688);\n",
              "        \n",
              "    \n",
              "            var circle_5cb0e4cd001f6959d4a8cb9e8372023f = L.circle(\n",
              "                [28.57325457, -80.64689529],\n",
              "                {&quot;bubblingMouseEvents&quot;: true, &quot;color&quot;: &quot;#d35400&quot;, &quot;dashArray&quot;: null, &quot;dashOffset&quot;: null, &quot;fill&quot;: true, &quot;fillColor&quot;: &quot;#d35400&quot;, &quot;fillOpacity&quot;: 0.2, &quot;fillRule&quot;: &quot;evenodd&quot;, &quot;lineCap&quot;: &quot;round&quot;, &quot;lineJoin&quot;: &quot;round&quot;, &quot;opacity&quot;: 1.0, &quot;radius&quot;: 1000, &quot;stroke&quot;: true, &quot;weight&quot;: 3}\n",
              "            ).addTo(map_40bc74e99c5ea055df747a9b81eecc0b);\n",
              "        \n",
              "    \n",
              "        var popup_7aef8bb617c1907dfa6b92e210e4ecde = L.popup({\n",
              "  &quot;maxWidth&quot;: &quot;100%&quot;,\n",
              "});\n",
              "\n",
              "        \n",
              "            \n",
              "                var html_c61c73a6aa5fa920239a33d5d4496c29 = $(`&lt;div id=&quot;html_c61c73a6aa5fa920239a33d5d4496c29&quot; style=&quot;width: 100.0%; height: 100.0%;&quot;&gt;KSC LC-39A&lt;/div&gt;`)[0];\n",
              "                popup_7aef8bb617c1907dfa6b92e210e4ecde.setContent(html_c61c73a6aa5fa920239a33d5d4496c29);\n",
              "            \n",
              "        \n",
              "\n",
              "        circle_5cb0e4cd001f6959d4a8cb9e8372023f.bindPopup(popup_7aef8bb617c1907dfa6b92e210e4ecde)\n",
              "        ;\n",
              "\n",
              "        \n",
              "    \n",
              "    \n",
              "            var marker_619f66dde2b69c3bef28a7ce62fa53a4 = L.marker(\n",
              "                [28.57325457, -80.64689529],\n",
              "                {\n",
              "}\n",
              "            ).addTo(map_40bc74e99c5ea055df747a9b81eecc0b);\n",
              "        \n",
              "    \n",
              "            var div_icon_cbb9645b44542d8a8c952b9e3db13c56 = L.divIcon({\n",
              "  &quot;html&quot;: &quot;\\u003cdiv style=\\&quot;font-size: 12; color:#d35400;\\&quot;\\u003e\\u003cb\\u003eKSC LC-39A\\u003c/b\\u003e\\u003c/div\\u003e&quot;,\n",
              "  &quot;iconSize&quot;: [20, 20],\n",
              "  &quot;iconAnchor&quot;: [0, 0],\n",
              "  &quot;className&quot;: &quot;empty&quot;,\n",
              "});\n",
              "            marker_619f66dde2b69c3bef28a7ce62fa53a4.setIcon(div_icon_cbb9645b44542d8a8c952b9e3db13c56);\n",
              "        \n",
              "    \n",
              "            var circle_4ccb402b11071d0f247730f4bd012a04 = L.circle(\n",
              "                [34.63283416, -120.6107455],\n",
              "                {&quot;bubblingMouseEvents&quot;: true, &quot;color&quot;: &quot;#d35400&quot;, &quot;dashArray&quot;: null, &quot;dashOffset&quot;: null, &quot;fill&quot;: true, &quot;fillColor&quot;: &quot;#d35400&quot;, &quot;fillOpacity&quot;: 0.2, &quot;fillRule&quot;: &quot;evenodd&quot;, &quot;lineCap&quot;: &quot;round&quot;, &quot;lineJoin&quot;: &quot;round&quot;, &quot;opacity&quot;: 1.0, &quot;radius&quot;: 1000, &quot;stroke&quot;: true, &quot;weight&quot;: 3}\n",
              "            ).addTo(map_40bc74e99c5ea055df747a9b81eecc0b);\n",
              "        \n",
              "    \n",
              "        var popup_1d53294079d4438080752d8d39836d30 = L.popup({\n",
              "  &quot;maxWidth&quot;: &quot;100%&quot;,\n",
              "});\n",
              "\n",
              "        \n",
              "            \n",
              "                var html_2384c559e6339ac415c61f85d10630b0 = $(`&lt;div id=&quot;html_2384c559e6339ac415c61f85d10630b0&quot; style=&quot;width: 100.0%; height: 100.0%;&quot;&gt;VAFB SLC-4E&lt;/div&gt;`)[0];\n",
              "                popup_1d53294079d4438080752d8d39836d30.setContent(html_2384c559e6339ac415c61f85d10630b0);\n",
              "            \n",
              "        \n",
              "\n",
              "        circle_4ccb402b11071d0f247730f4bd012a04.bindPopup(popup_1d53294079d4438080752d8d39836d30)\n",
              "        ;\n",
              "\n",
              "        \n",
              "    \n",
              "    \n",
              "            var marker_9864220cc992cd119e1173f7f150411d = L.marker(\n",
              "                [34.63283416, -120.6107455],\n",
              "                {\n",
              "}\n",
              "            ).addTo(map_40bc74e99c5ea055df747a9b81eecc0b);\n",
              "        \n",
              "    \n",
              "            var div_icon_c16b4daada22f7e8176c995281778ba0 = L.divIcon({\n",
              "  &quot;html&quot;: &quot;\\u003cdiv style=\\&quot;font-size: 12; color:#d35400;\\&quot;\\u003e\\u003cb\\u003eVAFB SLC-4E\\u003c/b\\u003e\\u003c/div\\u003e&quot;,\n",
              "  &quot;iconSize&quot;: [20, 20],\n",
              "  &quot;iconAnchor&quot;: [0, 0],\n",
              "  &quot;className&quot;: &quot;empty&quot;,\n",
              "});\n",
              "            marker_9864220cc992cd119e1173f7f150411d.setIcon(div_icon_c16b4daada22f7e8176c995281778ba0);\n",
              "        \n",
              "    \n",
              "            tile_layer_0278f85a2902c861b8534f5ca4eaa5f2.addTo(map_40bc74e99c5ea055df747a9b81eecc0b);\n",
              "        \n",
              "    \n",
              "            var mouse_position_40d5cadd6c8ec1666719acbc30017acd = new L.Control.MousePosition(\n",
              "                {\n",
              "  &quot;position&quot;: &quot;topright&quot;,\n",
              "  &quot;separator&quot;: &quot; Long: &quot;,\n",
              "  &quot;emptyString&quot;: &quot;NaN&quot;,\n",
              "  &quot;lngFirst&quot;: false,\n",
              "  &quot;numDigits&quot;: 20,\n",
              "  &quot;prefix&quot;: &quot;Lat:&quot;,\n",
              "}\n",
              "            );\n",
              "            mouse_position_40d5cadd6c8ec1666719acbc30017acd.options[&quot;latFormatter&quot;] =\n",
              "                function(num) {return L.Util.formatNum(num, 5);};;\n",
              "            mouse_position_40d5cadd6c8ec1666719acbc30017acd.options[&quot;lngFormatter&quot;] =\n",
              "                function(num) {return L.Util.formatNum(num, 5);};;\n",
              "            map_40bc74e99c5ea055df747a9b81eecc0b.addControl(mouse_position_40d5cadd6c8ec1666719acbc30017acd);\n",
              "        \n",
              "    \n",
              "            tile_layer_0278f85a2902c861b8534f5ca4eaa5f2.addTo(map_40bc74e99c5ea055df747a9b81eecc0b);\n",
              "        \n",
              "    \n",
              "            var mouse_position_f8958607f985c914cad0ba108070bd42 = new L.Control.MousePosition(\n",
              "                {\n",
              "  &quot;position&quot;: &quot;topright&quot;,\n",
              "  &quot;separator&quot;: &quot; Long: &quot;,\n",
              "  &quot;emptyString&quot;: &quot;NaN&quot;,\n",
              "  &quot;lngFirst&quot;: false,\n",
              "  &quot;numDigits&quot;: 20,\n",
              "  &quot;prefix&quot;: &quot;Lat:&quot;,\n",
              "}\n",
              "            );\n",
              "            mouse_position_f8958607f985c914cad0ba108070bd42.options[&quot;latFormatter&quot;] =\n",
              "                function(num) {return L.Util.formatNum(num, 5);};;\n",
              "            mouse_position_f8958607f985c914cad0ba108070bd42.options[&quot;lngFormatter&quot;] =\n",
              "                function(num) {return L.Util.formatNum(num, 5);};;\n",
              "            map_40bc74e99c5ea055df747a9b81eecc0b.addControl(mouse_position_f8958607f985c914cad0ba108070bd42);\n",
              "        \n",
              "    \n",
              "            tile_layer_0278f85a2902c861b8534f5ca4eaa5f2.addTo(map_40bc74e99c5ea055df747a9b81eecc0b);\n",
              "        \n",
              "    \n",
              "            var poly_line_f5f15523d102d731bcf623f8970458c0 = L.polyline(\n",
              "                [[28.573255, -80.646895], [28.58038, -80.64255]],\n",
              "                {&quot;bubblingMouseEvents&quot;: true, &quot;color&quot;: &quot;#3388ff&quot;, &quot;dashArray&quot;: null, &quot;dashOffset&quot;: null, &quot;fill&quot;: false, &quot;fillColor&quot;: &quot;#3388ff&quot;, &quot;fillOpacity&quot;: 0.2, &quot;fillRule&quot;: &quot;evenodd&quot;, &quot;lineCap&quot;: &quot;round&quot;, &quot;lineJoin&quot;: &quot;round&quot;, &quot;noClip&quot;: false, &quot;opacity&quot;: 1.0, &quot;smoothFactor&quot;: 1.0, &quot;stroke&quot;: true, &quot;weight&quot;: 1}\n",
              "            ).addTo(map_40bc74e99c5ea055df747a9b81eecc0b);\n",
              "        \n",
              "    \n",
              "            tile_layer_0278f85a2902c861b8534f5ca4eaa5f2.addTo(map_40bc74e99c5ea055df747a9b81eecc0b);\n",
              "        \n",
              "    \n",
              "            var marker_3814f5a251b0b8c8c476f714ca6325d4 = L.marker(\n",
              "                [28.58038, -80.64255],\n",
              "                {\n",
              "}\n",
              "            ).addTo(map_40bc74e99c5ea055df747a9b81eecc0b);\n",
              "        \n",
              "    \n",
              "            var div_icon_350c6317c16a3b35f78afd71b828b323 = L.divIcon({\n",
              "  &quot;html&quot;: &quot;\\u003cdiv style=\\&quot;font-size: 12; color:#d35400;\\&quot;\\u003e\\u003cb\\u003e      0.90 KM\\u003c/b\\u003e\\u003c/div\\u003e&quot;,\n",
              "  &quot;iconSize&quot;: [20, 20],\n",
              "  &quot;iconAnchor&quot;: [0, 0],\n",
              "  &quot;className&quot;: &quot;empty&quot;,\n",
              "});\n",
              "            marker_3814f5a251b0b8c8c476f714ca6325d4.setIcon(div_icon_350c6317c16a3b35f78afd71b828b323);\n",
              "        \n",
              "    \n",
              "            var poly_line_82c9feac225adfcebc79959d4d820013 = L.polyline(\n",
              "                [[28.573255, -80.646895], [28.58038, -80.64255]],\n",
              "                {&quot;bubblingMouseEvents&quot;: true, &quot;color&quot;: &quot;#3388ff&quot;, &quot;dashArray&quot;: null, &quot;dashOffset&quot;: null, &quot;fill&quot;: false, &quot;fillColor&quot;: &quot;#3388ff&quot;, &quot;fillOpacity&quot;: 0.2, &quot;fillRule&quot;: &quot;evenodd&quot;, &quot;lineCap&quot;: &quot;round&quot;, &quot;lineJoin&quot;: &quot;round&quot;, &quot;noClip&quot;: false, &quot;opacity&quot;: 1.0, &quot;smoothFactor&quot;: 1.0, &quot;stroke&quot;: true, &quot;weight&quot;: 1}\n",
              "            ).addTo(map_40bc74e99c5ea055df747a9b81eecc0b);\n",
              "        \n",
              "    \n",
              "            tile_layer_0278f85a2902c861b8534f5ca4eaa5f2.addTo(map_40bc74e99c5ea055df747a9b81eecc0b);\n",
              "        \n",
              "    \n",
              "            var marker_9175d6d4d371682a5e22c2b040f526eb = L.marker(\n",
              "                [28.57271, -80.65396],\n",
              "                {\n",
              "}\n",
              "            ).addTo(map_40bc74e99c5ea055df747a9b81eecc0b);\n",
              "        \n",
              "    \n",
              "            var div_icon_11e0537626eb0c2d048ce74d141395a1 = L.divIcon({\n",
              "  &quot;html&quot;: &quot;\\u003cdiv style=\\&quot;font-size: 12; color:#d35400;\\&quot;\\u003e\\u003cb\\u003e      0.69 KM\\u003c/b\\u003e\\u003c/div\\u003e&quot;,\n",
              "  &quot;iconSize&quot;: [20, 20],\n",
              "  &quot;iconAnchor&quot;: [0, 0],\n",
              "  &quot;className&quot;: &quot;empty&quot;,\n",
              "});\n",
              "            marker_9175d6d4d371682a5e22c2b040f526eb.setIcon(div_icon_11e0537626eb0c2d048ce74d141395a1);\n",
              "        \n",
              "    \n",
              "            var poly_line_ef9ffd6884b553cffb34924dec070680 = L.polyline(\n",
              "                [[28.573255, -80.646895], [28.57271, -80.65396]],\n",
              "                {&quot;bubblingMouseEvents&quot;: true, &quot;color&quot;: &quot;#3388ff&quot;, &quot;dashArray&quot;: null, &quot;dashOffset&quot;: null, &quot;fill&quot;: false, &quot;fillColor&quot;: &quot;#3388ff&quot;, &quot;fillOpacity&quot;: 0.2, &quot;fillRule&quot;: &quot;evenodd&quot;, &quot;lineCap&quot;: &quot;round&quot;, &quot;lineJoin&quot;: &quot;round&quot;, &quot;noClip&quot;: false, &quot;opacity&quot;: 1.0, &quot;smoothFactor&quot;: 1.0, &quot;stroke&quot;: true, &quot;weight&quot;: 1}\n",
              "            ).addTo(map_40bc74e99c5ea055df747a9b81eecc0b);\n",
              "        \n",
              "    \n",
              "            tile_layer_0278f85a2902c861b8534f5ca4eaa5f2.addTo(map_40bc74e99c5ea055df747a9b81eecc0b);\n",
              "        \n",
              "    \n",
              "            var marker_437ab4127928a687036918dd8f1eff19 = L.marker(\n",
              "                [28.57276, -80.6556],\n",
              "                {\n",
              "}\n",
              "            ).addTo(map_40bc74e99c5ea055df747a9b81eecc0b);\n",
              "        \n",
              "    \n",
              "            var div_icon_4e799e26e575047354382752db41cb5e = L.divIcon({\n",
              "  &quot;html&quot;: &quot;\\u003cdiv style=\\&quot;font-size: 12; color:#d35400;\\&quot;\\u003e\\u003cb\\u003e      0.85 KM\\u003c/b\\u003e\\u003c/div\\u003e&quot;,\n",
              "  &quot;iconSize&quot;: [20, 20],\n",
              "  &quot;iconAnchor&quot;: [0, 0],\n",
              "  &quot;className&quot;: &quot;empty&quot;,\n",
              "});\n",
              "            marker_437ab4127928a687036918dd8f1eff19.setIcon(div_icon_4e799e26e575047354382752db41cb5e);\n",
              "        \n",
              "    \n",
              "            var poly_line_4334809e61b9527f3ccaa88bd8a12fd0 = L.polyline(\n",
              "                [[28.573255, -80.646895], [28.57276, -80.6556]],\n",
              "                {&quot;bubblingMouseEvents&quot;: true, &quot;color&quot;: &quot;#3388ff&quot;, &quot;dashArray&quot;: null, &quot;dashOffset&quot;: null, &quot;fill&quot;: false, &quot;fillColor&quot;: &quot;#3388ff&quot;, &quot;fillOpacity&quot;: 0.2, &quot;fillRule&quot;: &quot;evenodd&quot;, &quot;lineCap&quot;: &quot;round&quot;, &quot;lineJoin&quot;: &quot;round&quot;, &quot;noClip&quot;: false, &quot;opacity&quot;: 1.0, &quot;smoothFactor&quot;: 1.0, &quot;stroke&quot;: true, &quot;weight&quot;: 1}\n",
              "            ).addTo(map_40bc74e99c5ea055df747a9b81eecc0b);\n",
              "        \n",
              "&lt;/script&gt;\n",
              "&lt;/html&gt;\" style=\"position:absolute;width:100%;height:100%;left:0;top:0;border:none !important;\" allowfullscreen webkitallowfullscreen mozallowfullscreen></iframe></div></div>"
            ]
          },
          "metadata": {},
          "execution_count": 21
        }
      ],
      "execution_count": 21
    },
    {
      "cell_type": "markdown",
      "source": [
        "After you plot distance lines to the proximities, you can answer the following questions easily:\n",
        "\n",
        "*   Are launch sites in close proximity to railways?\n",
        "*   Are launch sites in close proximity to highways?\n",
        "*   Are launch sites in close proximity to coastline?\n",
        "*   Do launch sites keep certain distance away from cities?\n",
        "\n",
        "Also please try to explain your findings.\n"
      ],
      "metadata": {
        "id": "mS0gY3cJoPiA"
      }
    },
    {
      "cell_type": "markdown",
      "source": [
        "# Next Steps:\n",
        "\n",
        "Now you have discovered many interesting insights related to the launch sites' location using folium, in a very interactive way. Next, you will need to build a dashboard using Ploty Dash on detailed launch records.\n"
      ],
      "metadata": {
        "id": "76SWcDIWoPiA"
      }
    },
    {
      "cell_type": "markdown",
      "source": [
        "## Authors\n"
      ],
      "metadata": {
        "id": "HQpST-kooPiB"
      }
    },
    {
      "cell_type": "markdown",
      "source": [
        "[Pratiksha Verma](https://www.linkedin.com/in/pratiksha-verma-6487561b1/)\n"
      ],
      "metadata": {
        "id": "-2Ie7gxIoPiB"
      }
    },
    {
      "cell_type": "markdown",
      "source": [
        "<!--## Change Log--!>\n"
      ],
      "metadata": {
        "id": "1WTfAewGoPiB"
      }
    },
    {
      "cell_type": "markdown",
      "source": [
        "<!--| Date (YYYY-MM-DD) | Version | Changed By      | Change Description      |\n",
        "| ----------------- | ------- | -------------   | ----------------------- |\n",
        "| 2022-11-09        | 1.0     | Pratiksha Verma | Converted initial version to Jupyterlite|--!>\n"
      ],
      "metadata": {
        "id": "jvpfFLf3oPiB"
      }
    },
    {
      "cell_type": "markdown",
      "source": [
        "### <h3 align=\"center\"> IBM Corporation 2022. All rights reserved. <h3/>\n"
      ],
      "metadata": {
        "id": "Ht6C2DvEoPiB"
      }
    }
  ]
}